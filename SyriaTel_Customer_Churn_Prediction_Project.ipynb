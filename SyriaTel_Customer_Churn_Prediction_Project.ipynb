{
 "cells": [
  {
   "cell_type": "markdown",
   "metadata": {},
   "source": [
    "# SYRIATEL CUSTOMER CHURN PREDICTION PROJECT"
   ]
  },
  {
   "cell_type": "markdown",
   "metadata": {},
   "source": [
    "**This project aims to build a classifier to predict whether a customer will (\"soon\") stop doing business with SyriaTel, a telecommunications company. This is a binary classification problem. The project entails data preprocessing, analysis, model selection, and evaluation to achieve accurate and actionable predictions.**"
   ]
  },
  {
   "cell_type": "markdown",
   "metadata": {},
   "source": [
    "## BUSINESS OVERVIEW"
   ]
  },
  {
   "cell_type": "markdown",
   "metadata": {},
   "source": [
    "Customer churn refers to customers ceasing to do business with a company, often either switching to competitors or stopping altogether. For SyriaTel, churn directly affects revenue and profitability, which makes it essential to monitor and address churns proactively. Reducing churn is vital for retaining customers, sustaining growth, and remaining competitive in the market.\n",
    "\n",
    "Detecting churn involves processes like identifying signs such as reduced usage, complaints, or payment changes. However, challenges are still faced when trying to detect and address churns. For inatnce, while modern machine learning techniques improve accuracy, challenges like class imbalances and evolving customer behaviors complicate the process. Additionally, external factors, like market conditions further influence customer decisions, requiring businesses like SyriaTel to adapt their strategies continuously.\n",
    "\n",
    "To tackle this project, a structured approach is needed. This includes data preprocessing, feature engineering, and training machine learning models to identify at-risk customers. By leveraging insights from these models, SyriaTel can adopt targeted retention strategies, like enhanced customer service, to reduce churn and improve customer satisfaction.\n",
    "\n",
    "\n",
    "###### PROBLEM STATEMENT:\n",
    "SyriaTel struggles with significant loss in revenue due to customer churn but lacks a data-driven approach to proactively identify customers that are likely to churn and mitigate the issue sooner. \n",
    "\n",
    "This project aims to develop a machine learning model to predict churn and provide actionable insights to help SyriaTel better retain their customers and enhance customer loyalty.\n",
    "\n",
    "\n",
    "###### OBJECTIVES:\n",
    "- Develop a machine learning classifier to predict customer churn, categorizing customers as \"churn\"(True) or \"non-churn\" (False).\n",
    "- Utilize logistic regression for probabilistic predictions and feature interpretability.\n",
    "- Leverage decision trees for capturing nonlinear patterns and generating intuitive decision rules.\n",
    "- Evaluate model performance using precision, recall, F1-score, and AUC-ROC to ensure reliable predictions.\n",
    "- Support SyriaTel in deploying data-driven strategies to minimize churn and improve customer loyalty.\n",
    "\n",
    "\n",
    "###### METRICS OF SUCCESS:\n",
    "To evaluate and compare the performance of the models, the following metrics will be used:\n",
    "- Precision: Measures the accuracy of predicting churn among all predicted churners, ensuring minimal false positives.\n",
    "- Recall (Sensitivity): Captures the ability to identify all actual churners, minimizing false negatives.\n",
    "- F1-Score: Balances precision and recall, providing a single metric for performance on imbalanced data.\n",
    "- AUC-ROC: Assesses the model’s ability to distinguish between churners and non-churners across all thresholds.\n",
    "\n",
    "These metrics ensure the chosen model performs well on the dataset and generalizes effectively to unseen data."
   ]
  },
  {
   "cell_type": "markdown",
   "metadata": {},
   "source": [
    "## DATA UNDERSTANDING"
   ]
  },
  {
   "cell_type": "markdown",
   "metadata": {},
   "source": [
    "This section explores the dataset's source, structure, and contents to ensure its relevance and credibility. We will examine the columns and rows to understand the variables and their significance for predicting customer churn.\n",
    "\n",
    "##### DATA SOURCE:\n",
    "The dataset used in this project is sourced from Kaggle, titled \"Churn in Telecoms.\" It's a  csv file that contains information on customer demographics, service usage, and other features to predict telecom churn. You can access it [here](https://www.kaggle.com/datasets/becksddf/churn-in-telecoms-dataset)."
   ]
  },
  {
   "cell_type": "markdown",
   "metadata": {},
   "source": [
    "#### UNDERSTANDING ROWS & COLUMNS IN THE DATASET"
   ]
  },
  {
   "cell_type": "code",
   "execution_count": 1,
   "metadata": {},
   "outputs": [],
   "source": [
    "#Import the libraries needed for this section\n",
    "import pandas as pd\n",
    "import numpy as np\n",
    "import matplotlib.pyplot as plt\n",
    "import seaborn as sns\n",
    "sns.set_style(\"darkgrid\")\n",
    "%matplotlib inline"
   ]
  },
  {
   "cell_type": "code",
   "execution_count": 2,
   "metadata": {},
   "outputs": [
    {
     "data": {
      "text/plain": [
       "(3333, 21)"
      ]
     },
     "execution_count": 2,
     "metadata": {},
     "output_type": "execute_result"
    }
   ],
   "source": [
    "#LOAD THE DATASET\n",
    "df = pd.read_csv('bigml.csv.csv')\n",
    "df.shape"
   ]
  },
  {
   "cell_type": "markdown",
   "metadata": {},
   "source": [
    "The dataset has 3333 rows (entries) and 21 columns"
   ]
  },
  {
   "cell_type": "code",
   "execution_count": 3,
   "metadata": {},
   "outputs": [
    {
     "name": "stdout",
     "output_type": "stream",
     "text": [
      "<class 'pandas.core.frame.DataFrame'>\n",
      "RangeIndex: 3333 entries, 0 to 3332\n",
      "Data columns (total 21 columns):\n",
      " #   Column                  Non-Null Count  Dtype  \n",
      "---  ------                  --------------  -----  \n",
      " 0   state                   3333 non-null   object \n",
      " 1   account length          3333 non-null   int64  \n",
      " 2   area code               3333 non-null   int64  \n",
      " 3   phone number            3333 non-null   object \n",
      " 4   international plan      3333 non-null   object \n",
      " 5   voice mail plan         3333 non-null   object \n",
      " 6   number vmail messages   3333 non-null   int64  \n",
      " 7   total day minutes       3333 non-null   float64\n",
      " 8   total day calls         3333 non-null   int64  \n",
      " 9   total day charge        3333 non-null   float64\n",
      " 10  total eve minutes       3333 non-null   float64\n",
      " 11  total eve calls         3333 non-null   int64  \n",
      " 12  total eve charge        3333 non-null   float64\n",
      " 13  total night minutes     3333 non-null   float64\n",
      " 14  total night calls       3333 non-null   int64  \n",
      " 15  total night charge      3333 non-null   float64\n",
      " 16  total intl minutes      3333 non-null   float64\n",
      " 17  total intl calls        3333 non-null   int64  \n",
      " 18  total intl charge       3333 non-null   float64\n",
      " 19  customer service calls  3333 non-null   int64  \n",
      " 20  churn                   3333 non-null   bool   \n",
      "dtypes: bool(1), float64(8), int64(8), object(4)\n",
      "memory usage: 524.2+ KB\n",
      "None\n"
     ]
    }
   ],
   "source": [
    "#MORE INFO ABOUT THE DATASET\n",
    "print(df.info())"
   ]
  },
  {
   "cell_type": "markdown",
   "metadata": {},
   "source": [
    "The dataset consists of 3,333 customer records and 21 columns, including features like customer demographics, service usage, call minutes, charges, and calls to customer service. \n",
    "\n",
    "The key column is **churn**, which indicates whether a customer has stopped using the service. \n",
    "\n",
    "The dataset has no missing values (we'll confirm this later), providing a solid foundation for analysis and modeling.\n",
    "\n",
    "The data types for this dataset are mainly numerical(int64 & float64) with a few categorical datatypes(object).\n",
    "\n",
    "Our target column's datatype is a boolean, showing whether a customer has churned (True) or not (False)"
   ]
  },
  {
   "cell_type": "code",
   "execution_count": 4,
   "metadata": {},
   "outputs": [
    {
     "data": {
      "text/html": [
       "<div>\n",
       "<style scoped>\n",
       "    .dataframe tbody tr th:only-of-type {\n",
       "        vertical-align: middle;\n",
       "    }\n",
       "\n",
       "    .dataframe tbody tr th {\n",
       "        vertical-align: top;\n",
       "    }\n",
       "\n",
       "    .dataframe thead th {\n",
       "        text-align: right;\n",
       "    }\n",
       "</style>\n",
       "<table border=\"1\" class=\"dataframe\">\n",
       "  <thead>\n",
       "    <tr style=\"text-align: right;\">\n",
       "      <th></th>\n",
       "      <th>state</th>\n",
       "      <th>account length</th>\n",
       "      <th>area code</th>\n",
       "      <th>phone number</th>\n",
       "      <th>international plan</th>\n",
       "      <th>voice mail plan</th>\n",
       "      <th>number vmail messages</th>\n",
       "      <th>total day minutes</th>\n",
       "      <th>total day calls</th>\n",
       "      <th>total day charge</th>\n",
       "      <th>...</th>\n",
       "      <th>total eve calls</th>\n",
       "      <th>total eve charge</th>\n",
       "      <th>total night minutes</th>\n",
       "      <th>total night calls</th>\n",
       "      <th>total night charge</th>\n",
       "      <th>total intl minutes</th>\n",
       "      <th>total intl calls</th>\n",
       "      <th>total intl charge</th>\n",
       "      <th>customer service calls</th>\n",
       "      <th>churn</th>\n",
       "    </tr>\n",
       "  </thead>\n",
       "  <tbody>\n",
       "    <tr>\n",
       "      <th>0</th>\n",
       "      <td>KS</td>\n",
       "      <td>128</td>\n",
       "      <td>415</td>\n",
       "      <td>382-4657</td>\n",
       "      <td>no</td>\n",
       "      <td>yes</td>\n",
       "      <td>25</td>\n",
       "      <td>265.1</td>\n",
       "      <td>110</td>\n",
       "      <td>45.07</td>\n",
       "      <td>...</td>\n",
       "      <td>99</td>\n",
       "      <td>16.78</td>\n",
       "      <td>244.7</td>\n",
       "      <td>91</td>\n",
       "      <td>11.01</td>\n",
       "      <td>10.0</td>\n",
       "      <td>3</td>\n",
       "      <td>2.70</td>\n",
       "      <td>1</td>\n",
       "      <td>False</td>\n",
       "    </tr>\n",
       "    <tr>\n",
       "      <th>1</th>\n",
       "      <td>OH</td>\n",
       "      <td>107</td>\n",
       "      <td>415</td>\n",
       "      <td>371-7191</td>\n",
       "      <td>no</td>\n",
       "      <td>yes</td>\n",
       "      <td>26</td>\n",
       "      <td>161.6</td>\n",
       "      <td>123</td>\n",
       "      <td>27.47</td>\n",
       "      <td>...</td>\n",
       "      <td>103</td>\n",
       "      <td>16.62</td>\n",
       "      <td>254.4</td>\n",
       "      <td>103</td>\n",
       "      <td>11.45</td>\n",
       "      <td>13.7</td>\n",
       "      <td>3</td>\n",
       "      <td>3.70</td>\n",
       "      <td>1</td>\n",
       "      <td>False</td>\n",
       "    </tr>\n",
       "    <tr>\n",
       "      <th>2</th>\n",
       "      <td>NJ</td>\n",
       "      <td>137</td>\n",
       "      <td>415</td>\n",
       "      <td>358-1921</td>\n",
       "      <td>no</td>\n",
       "      <td>no</td>\n",
       "      <td>0</td>\n",
       "      <td>243.4</td>\n",
       "      <td>114</td>\n",
       "      <td>41.38</td>\n",
       "      <td>...</td>\n",
       "      <td>110</td>\n",
       "      <td>10.30</td>\n",
       "      <td>162.6</td>\n",
       "      <td>104</td>\n",
       "      <td>7.32</td>\n",
       "      <td>12.2</td>\n",
       "      <td>5</td>\n",
       "      <td>3.29</td>\n",
       "      <td>0</td>\n",
       "      <td>False</td>\n",
       "    </tr>\n",
       "    <tr>\n",
       "      <th>3</th>\n",
       "      <td>OH</td>\n",
       "      <td>84</td>\n",
       "      <td>408</td>\n",
       "      <td>375-9999</td>\n",
       "      <td>yes</td>\n",
       "      <td>no</td>\n",
       "      <td>0</td>\n",
       "      <td>299.4</td>\n",
       "      <td>71</td>\n",
       "      <td>50.90</td>\n",
       "      <td>...</td>\n",
       "      <td>88</td>\n",
       "      <td>5.26</td>\n",
       "      <td>196.9</td>\n",
       "      <td>89</td>\n",
       "      <td>8.86</td>\n",
       "      <td>6.6</td>\n",
       "      <td>7</td>\n",
       "      <td>1.78</td>\n",
       "      <td>2</td>\n",
       "      <td>False</td>\n",
       "    </tr>\n",
       "    <tr>\n",
       "      <th>4</th>\n",
       "      <td>OK</td>\n",
       "      <td>75</td>\n",
       "      <td>415</td>\n",
       "      <td>330-6626</td>\n",
       "      <td>yes</td>\n",
       "      <td>no</td>\n",
       "      <td>0</td>\n",
       "      <td>166.7</td>\n",
       "      <td>113</td>\n",
       "      <td>28.34</td>\n",
       "      <td>...</td>\n",
       "      <td>122</td>\n",
       "      <td>12.61</td>\n",
       "      <td>186.9</td>\n",
       "      <td>121</td>\n",
       "      <td>8.41</td>\n",
       "      <td>10.1</td>\n",
       "      <td>3</td>\n",
       "      <td>2.73</td>\n",
       "      <td>3</td>\n",
       "      <td>False</td>\n",
       "    </tr>\n",
       "    <tr>\n",
       "      <th>5</th>\n",
       "      <td>AL</td>\n",
       "      <td>118</td>\n",
       "      <td>510</td>\n",
       "      <td>391-8027</td>\n",
       "      <td>yes</td>\n",
       "      <td>no</td>\n",
       "      <td>0</td>\n",
       "      <td>223.4</td>\n",
       "      <td>98</td>\n",
       "      <td>37.98</td>\n",
       "      <td>...</td>\n",
       "      <td>101</td>\n",
       "      <td>18.75</td>\n",
       "      <td>203.9</td>\n",
       "      <td>118</td>\n",
       "      <td>9.18</td>\n",
       "      <td>6.3</td>\n",
       "      <td>6</td>\n",
       "      <td>1.70</td>\n",
       "      <td>0</td>\n",
       "      <td>False</td>\n",
       "    </tr>\n",
       "    <tr>\n",
       "      <th>6</th>\n",
       "      <td>MA</td>\n",
       "      <td>121</td>\n",
       "      <td>510</td>\n",
       "      <td>355-9993</td>\n",
       "      <td>no</td>\n",
       "      <td>yes</td>\n",
       "      <td>24</td>\n",
       "      <td>218.2</td>\n",
       "      <td>88</td>\n",
       "      <td>37.09</td>\n",
       "      <td>...</td>\n",
       "      <td>108</td>\n",
       "      <td>29.62</td>\n",
       "      <td>212.6</td>\n",
       "      <td>118</td>\n",
       "      <td>9.57</td>\n",
       "      <td>7.5</td>\n",
       "      <td>7</td>\n",
       "      <td>2.03</td>\n",
       "      <td>3</td>\n",
       "      <td>False</td>\n",
       "    </tr>\n",
       "    <tr>\n",
       "      <th>7</th>\n",
       "      <td>MO</td>\n",
       "      <td>147</td>\n",
       "      <td>415</td>\n",
       "      <td>329-9001</td>\n",
       "      <td>yes</td>\n",
       "      <td>no</td>\n",
       "      <td>0</td>\n",
       "      <td>157.0</td>\n",
       "      <td>79</td>\n",
       "      <td>26.69</td>\n",
       "      <td>...</td>\n",
       "      <td>94</td>\n",
       "      <td>8.76</td>\n",
       "      <td>211.8</td>\n",
       "      <td>96</td>\n",
       "      <td>9.53</td>\n",
       "      <td>7.1</td>\n",
       "      <td>6</td>\n",
       "      <td>1.92</td>\n",
       "      <td>0</td>\n",
       "      <td>False</td>\n",
       "    </tr>\n",
       "    <tr>\n",
       "      <th>8</th>\n",
       "      <td>LA</td>\n",
       "      <td>117</td>\n",
       "      <td>408</td>\n",
       "      <td>335-4719</td>\n",
       "      <td>no</td>\n",
       "      <td>no</td>\n",
       "      <td>0</td>\n",
       "      <td>184.5</td>\n",
       "      <td>97</td>\n",
       "      <td>31.37</td>\n",
       "      <td>...</td>\n",
       "      <td>80</td>\n",
       "      <td>29.89</td>\n",
       "      <td>215.8</td>\n",
       "      <td>90</td>\n",
       "      <td>9.71</td>\n",
       "      <td>8.7</td>\n",
       "      <td>4</td>\n",
       "      <td>2.35</td>\n",
       "      <td>1</td>\n",
       "      <td>False</td>\n",
       "    </tr>\n",
       "    <tr>\n",
       "      <th>9</th>\n",
       "      <td>WV</td>\n",
       "      <td>141</td>\n",
       "      <td>415</td>\n",
       "      <td>330-8173</td>\n",
       "      <td>yes</td>\n",
       "      <td>yes</td>\n",
       "      <td>37</td>\n",
       "      <td>258.6</td>\n",
       "      <td>84</td>\n",
       "      <td>43.96</td>\n",
       "      <td>...</td>\n",
       "      <td>111</td>\n",
       "      <td>18.87</td>\n",
       "      <td>326.4</td>\n",
       "      <td>97</td>\n",
       "      <td>14.69</td>\n",
       "      <td>11.2</td>\n",
       "      <td>5</td>\n",
       "      <td>3.02</td>\n",
       "      <td>0</td>\n",
       "      <td>False</td>\n",
       "    </tr>\n",
       "  </tbody>\n",
       "</table>\n",
       "<p>10 rows × 21 columns</p>\n",
       "</div>"
      ],
      "text/plain": [
       "  state  account length  area code phone number international plan  \\\n",
       "0    KS             128        415     382-4657                 no   \n",
       "1    OH             107        415     371-7191                 no   \n",
       "2    NJ             137        415     358-1921                 no   \n",
       "3    OH              84        408     375-9999                yes   \n",
       "4    OK              75        415     330-6626                yes   \n",
       "5    AL             118        510     391-8027                yes   \n",
       "6    MA             121        510     355-9993                 no   \n",
       "7    MO             147        415     329-9001                yes   \n",
       "8    LA             117        408     335-4719                 no   \n",
       "9    WV             141        415     330-8173                yes   \n",
       "\n",
       "  voice mail plan  number vmail messages  total day minutes  total day calls  \\\n",
       "0             yes                     25              265.1              110   \n",
       "1             yes                     26              161.6              123   \n",
       "2              no                      0              243.4              114   \n",
       "3              no                      0              299.4               71   \n",
       "4              no                      0              166.7              113   \n",
       "5              no                      0              223.4               98   \n",
       "6             yes                     24              218.2               88   \n",
       "7              no                      0              157.0               79   \n",
       "8              no                      0              184.5               97   \n",
       "9             yes                     37              258.6               84   \n",
       "\n",
       "   total day charge  ...  total eve calls  total eve charge  \\\n",
       "0             45.07  ...               99             16.78   \n",
       "1             27.47  ...              103             16.62   \n",
       "2             41.38  ...              110             10.30   \n",
       "3             50.90  ...               88              5.26   \n",
       "4             28.34  ...              122             12.61   \n",
       "5             37.98  ...              101             18.75   \n",
       "6             37.09  ...              108             29.62   \n",
       "7             26.69  ...               94              8.76   \n",
       "8             31.37  ...               80             29.89   \n",
       "9             43.96  ...              111             18.87   \n",
       "\n",
       "   total night minutes  total night calls  total night charge  \\\n",
       "0                244.7                 91               11.01   \n",
       "1                254.4                103               11.45   \n",
       "2                162.6                104                7.32   \n",
       "3                196.9                 89                8.86   \n",
       "4                186.9                121                8.41   \n",
       "5                203.9                118                9.18   \n",
       "6                212.6                118                9.57   \n",
       "7                211.8                 96                9.53   \n",
       "8                215.8                 90                9.71   \n",
       "9                326.4                 97               14.69   \n",
       "\n",
       "   total intl minutes  total intl calls  total intl charge  \\\n",
       "0                10.0                 3               2.70   \n",
       "1                13.7                 3               3.70   \n",
       "2                12.2                 5               3.29   \n",
       "3                 6.6                 7               1.78   \n",
       "4                10.1                 3               2.73   \n",
       "5                 6.3                 6               1.70   \n",
       "6                 7.5                 7               2.03   \n",
       "7                 7.1                 6               1.92   \n",
       "8                 8.7                 4               2.35   \n",
       "9                11.2                 5               3.02   \n",
       "\n",
       "   customer service calls  churn  \n",
       "0                       1  False  \n",
       "1                       1  False  \n",
       "2                       0  False  \n",
       "3                       2  False  \n",
       "4                       3  False  \n",
       "5                       0  False  \n",
       "6                       3  False  \n",
       "7                       0  False  \n",
       "8                       1  False  \n",
       "9                       0  False  \n",
       "\n",
       "[10 rows x 21 columns]"
      ]
     },
     "execution_count": 4,
     "metadata": {},
     "output_type": "execute_result"
    }
   ],
   "source": [
    "# View of the dataset\n",
    "df.head(10)"
   ]
  },
  {
   "cell_type": "markdown",
   "metadata": {},
   "source": [
    "## DATA ANALYSIS\n",
    "\n",
    "This section contains Exploratory Data Analysis (EDA), where duplicates and missing values are checked. Also, deeper analysis on the different columns is carried out. Visualizations are provided to summarize the findings and for better understanding of the data."
   ]
  },
  {
   "cell_type": "markdown",
   "metadata": {},
   "source": [
    "###### MISSING VALUES"
   ]
  },
  {
   "cell_type": "code",
   "execution_count": 5,
   "metadata": {
    "scrolled": false
   },
   "outputs": [
    {
     "data": {
      "text/plain": [
       "state                     0\n",
       "account length            0\n",
       "area code                 0\n",
       "phone number              0\n",
       "international plan        0\n",
       "voice mail plan           0\n",
       "number vmail messages     0\n",
       "total day minutes         0\n",
       "total day calls           0\n",
       "total day charge          0\n",
       "total eve minutes         0\n",
       "total eve calls           0\n",
       "total eve charge          0\n",
       "total night minutes       0\n",
       "total night calls         0\n",
       "total night charge        0\n",
       "total intl minutes        0\n",
       "total intl calls          0\n",
       "total intl charge         0\n",
       "customer service calls    0\n",
       "churn                     0\n",
       "dtype: int64"
      ]
     },
     "execution_count": 5,
     "metadata": {},
     "output_type": "execute_result"
    }
   ],
   "source": [
    "# Check for missing values in the dataset\n",
    "df.isnull().sum()"
   ]
  },
  {
   "cell_type": "markdown",
   "metadata": {},
   "source": [
    "Our dataset doesn't have any missing values."
   ]
  },
  {
   "cell_type": "markdown",
   "metadata": {},
   "source": [
    "###### DUPLICATES"
   ]
  },
  {
   "cell_type": "code",
   "execution_count": 6,
   "metadata": {},
   "outputs": [
    {
     "data": {
      "text/plain": [
       "0"
      ]
     },
     "execution_count": 6,
     "metadata": {},
     "output_type": "execute_result"
    }
   ],
   "source": [
    "# Check for duplicates\n",
    "df.duplicated().sum()"
   ]
  },
  {
   "cell_type": "markdown",
   "metadata": {},
   "source": [
    "This dataset has no duplicates."
   ]
  },
  {
   "cell_type": "markdown",
   "metadata": {},
   "source": [
    "###### CLASS IMBALANCE IN THE TARGET VARIABLE"
   ]
  },
  {
   "cell_type": "code",
   "execution_count": 7,
   "metadata": {},
   "outputs": [
    {
     "data": {
      "text/plain": [
       "False    2850\n",
       "True      483\n",
       "Name: churn, dtype: int64"
      ]
     },
     "execution_count": 7,
     "metadata": {},
     "output_type": "execute_result"
    }
   ],
   "source": [
    "# Check if our dataset is imbalanced\n",
    "# Check our target column\n",
    "df['churn'].value_counts()"
   ]
  },
  {
   "cell_type": "code",
   "execution_count": 8,
   "metadata": {},
   "outputs": [
    {
     "data": {
      "image/png": "[encoded data removed]",
      "text/plain": [
       "<Figure size 720x432 with 1 Axes>"
      ]
     },
     "metadata": {
      "needs_background": "light"
     },
     "output_type": "display_data"
    }
   ],
   "source": [
    "# Visualizing this imbalance\n",
    "# Create the figure and set the size\n",
    "plt.figure(figsize=(10, 6))\n",
    "\n",
    "# Plot\n",
    "df['churn'].value_counts().plot(kind='bar', color=['skyblue', 'orange'])\n",
    "\n",
    "# Add title and labels  \n",
    "plt.title('DISTRIBUTION OF THE TARGET CLASS IN THE DATASET', fontsize=18)\n",
    "plt.xlabel('TARGET CLASSES', fontsize=16)\n",
    "plt.ylabel('CLASS COUNT', fontsize=16)\n",
    "\n",
    "\n",
    "# Customize  \n",
    "plt.xticks(fontsize=14)\n",
    "plt.yticks(fontsize=14)\n",
    "\n",
    "# Adjust layout\n",
    "plt.tight_layout()\n",
    "\n",
    "#Save the visualization\n",
    "plt.savefig('class_imbalance')\n",
    "\n",
    "# Show the plot\n",
    "plt.show()"
   ]
  },
  {
   "cell_type": "markdown",
   "metadata": {},
   "source": [
    "###### Observation:\n",
    "There's a substantial imbalance in our dataset. 85.5% of the rows belong to the \"False\" class while 14.5% of rows belong to the \"True\" class.\n",
    "\n",
    "This also shows that 15% of customers at SyriaTel have churned. "
   ]
  },
  {
   "cell_type": "markdown",
   "metadata": {},
   "source": [
    "###### ANALYSING AREA CODES"
   ]
  },
  {
   "cell_type": "code",
   "execution_count": 9,
   "metadata": {},
   "outputs": [
    {
     "data": {
      "text/plain": [
       "415    1655\n",
       "510     840\n",
       "408     838\n",
       "Name: area code, dtype: int64"
      ]
     },
     "execution_count": 9,
     "metadata": {},
     "output_type": "execute_result"
    }
   ],
   "source": [
    "# Check which area codes are heavily served by SyriaTel\n",
    "df['area code'].value_counts()"
   ]
  },
  {
   "cell_type": "markdown",
   "metadata": {},
   "source": [
    "Convert the data type of the area code column from integer to categorical, as it serves as an identifier (similar to a phone number) rather than a numerical value."
   ]
  },
  {
   "cell_type": "code",
   "execution_count": 10,
   "metadata": {},
   "outputs": [],
   "source": [
    "# Change the dtype of the area code from int to categorical as its an identifier\n",
    "df['area code'] = df['area code'].astype(object)"
   ]
  },
  {
   "cell_type": "code",
   "execution_count": 11,
   "metadata": {},
   "outputs": [
    {
     "name": "stdout",
     "output_type": "stream",
     "text": [
      "object\n"
     ]
    }
   ],
   "source": [
    "# Confirm the change\n",
    "print(df['area code'].dtypes)"
   ]
  },
  {
   "cell_type": "code",
   "execution_count": 12,
   "metadata": {
    "scrolled": false
   },
   "outputs": [
    {
     "data": {
      "image/png": "[encoded data removed]",
      "text/plain": [
       "<Figure size 720x432 with 1 Axes>"
      ]
     },
     "metadata": {
      "needs_background": "light"
     },
     "output_type": "display_data"
    }
   ],
   "source": [
    "# Visualizing these area codes\n",
    "# Create the figure and set the size\n",
    "plt.figure(figsize=(10, 6))\n",
    "\n",
    "# Plot\n",
    "df['area code'].value_counts().plot(kind='bar', color=['skyblue', 'orange', 'pink'])\n",
    "\n",
    "# Add labels and title\n",
    "plt.title('DISTRIBUTION OF THE AREA CODES SERVED BY SYRIATEL', fontsize=18)\n",
    "plt.xlabel('AREA CODES', fontsize=16)\n",
    "plt.ylabel('FREQUENCY', fontsize=16)\n",
    "\n",
    "# Customize\n",
    "plt.xticks(fontsize=14)\n",
    "plt.yticks(fontsize=14)\n",
    "\n",
    "# Adjust layout\n",
    "plt.tight_layout()\n",
    "\n",
    "#Save the visualization\n",
    "plt.savefig('area_codes')\n",
    "\n",
    "# Show the plot\n",
    "plt.show()"
   ]
  },
  {
   "cell_type": "markdown",
   "metadata": {},
   "source": [
    "###### Observation:\n",
    "From the visualization above we can observe that area code 415 has the highest number of SyriaTel customers, followed by area code 510, and lastly area code 408. This distribution, however, is most likely influenced by the population size of these areas. \n",
    "\n",
    "The organization might want to further investigate the number of users in these areas as well as the population to streamline their services to suit sizes of people they are serving."
   ]
  },
  {
   "cell_type": "markdown",
   "metadata": {},
   "source": [
    "###### CHURNS BY STATE"
   ]
  },
  {
   "cell_type": "code",
   "execution_count": 13,
   "metadata": {},
   "outputs": [
    {
     "name": "stdout",
     "output_type": "stream",
     "text": [
      "churn  False  True \n",
      "state              \n",
      "AK        49      3\n",
      "AL        72      8\n",
      "AR        44     11\n",
      "AZ        60      4\n",
      "CA        25      9\n",
      "CO        57      9\n",
      "CT        62     12\n",
      "DC        49      5\n",
      "DE        52      9\n",
      "FL        55      8\n",
      "GA        46      8\n",
      "HI        50      3\n",
      "IA        41      3\n",
      "ID        64      9\n",
      "IL        53      5\n",
      "IN        62      9\n",
      "KS        57     13\n",
      "KY        51      8\n",
      "LA        47      4\n",
      "MA        54     11\n",
      "MD        53     17\n",
      "ME        49     13\n",
      "MI        57     16\n",
      "MN        69     15\n",
      "MO        56      7\n",
      "MS        51     14\n",
      "MT        54     14\n",
      "NC        57     11\n",
      "ND        56      6\n",
      "NE        56      5\n",
      "NH        47      9\n",
      "NJ        50     18\n",
      "NM        56      6\n",
      "NV        52     14\n",
      "NY        68     15\n",
      "OH        68     10\n",
      "OK        52      9\n",
      "OR        67     11\n",
      "PA        37      8\n",
      "RI        59      6\n",
      "SC        46     14\n",
      "SD        52      8\n",
      "TN        48      5\n",
      "TX        54     18\n",
      "UT        62     10\n",
      "VA        72      5\n",
      "VT        65      8\n",
      "WA        52     14\n",
      "WI        71      7\n",
      "WV        96     10\n",
      "WY        68      9\n"
     ]
    }
   ],
   "source": [
    "# Analyze churns by state\n",
    "state_churn = df.groupby('state')['churn'].value_counts().unstack(fill_value=0)\n",
    "print(state_churn)"
   ]
  },
  {
   "cell_type": "markdown",
   "metadata": {},
   "source": [
    "From the output above we see the number of churns and non-churns for different states."
   ]
  },
  {
   "cell_type": "code",
   "execution_count": 14,
   "metadata": {},
   "outputs": [
    {
     "data": {
      "image/png": "[encoded data removed]",
      "text/plain": [
       "<Figure size 1080x1296 with 1 Axes>"
      ]
     },
     "metadata": {
      "needs_background": "light"
     },
     "output_type": "display_data"
    }
   ],
   "source": [
    "# Visualizing customer churn by \"state\"\n",
    "# Create the figure and set size\n",
    "plt.figure(figsize=(15, 18))\n",
    "\n",
    "# Plot\n",
    "state_churn.plot(kind='barh', stacked=False, ax=plt.gca(), color=['skyblue', 'orange'])\n",
    "\n",
    "# Add title and labels\n",
    "plt.title('CUSTOMER CHURN BY STATE', fontsize=24)\n",
    "plt.xlabel('NUMBER OF CHURN & NON-CHURN CUSTOMERS', fontsize=18)\n",
    "plt.ylabel('STATES', fontsize=20)\n",
    "\n",
    "# Customize\n",
    "plt.xticks(fontsize=16)\n",
    "plt.yticks(fontsize=12)\n",
    "\n",
    "# Adjust layout\n",
    "plt.tight_layout()\n",
    "\n",
    "#Save the visualization\n",
    "plt.savefig('churn_by_state')\n",
    "\n",
    "# Show the plot\n",
    "plt.show()"
   ]
  },
  {
   "cell_type": "markdown",
   "metadata": {},
   "source": [
    "###### Observation:\n",
    "From the visualization above we can observe that the states WY, VA, and AL have retained the highest number of customers. \n",
    "\n",
    "We can also see that the states TX, NJ, and MD have the highest number of churns."
   ]
  },
  {
   "cell_type": "markdown",
   "metadata": {},
   "source": [
    "###### TOP 20 STATES WITH THE HIGHEST CHURNS"
   ]
  },
  {
   "cell_type": "code",
   "execution_count": 15,
   "metadata": {},
   "outputs": [
    {
     "data": {
      "text/plain": [
       "state\n",
       "TX    18\n",
       "NJ    18\n",
       "MD    17\n",
       "MI    16\n",
       "NY    15\n",
       "MN    15\n",
       "MS    14\n",
       "MT    14\n",
       "WA    14\n",
       "SC    14\n",
       "NV    14\n",
       "ME    13\n",
       "KS    13\n",
       "CT    12\n",
       "NC    11\n",
       "MA    11\n",
       "OR    11\n",
       "AR    11\n",
       "OH    10\n",
       "UT    10\n",
       "dtype: int64"
      ]
     },
     "execution_count": 15,
     "metadata": {},
     "output_type": "execute_result"
    }
   ],
   "source": [
    "# Top 20 states with the highest churn.\n",
    "highest_churn_state = df[df['churn'] == True].groupby('state').size().sort_values(ascending=False).head(20)\n",
    "highest_churn_state"
   ]
  },
  {
   "cell_type": "code",
   "execution_count": 16,
   "metadata": {},
   "outputs": [
    {
     "data": {
      "image/png": "[encoded data removed]",
      "text/plain": [
       "<Figure size 1080x576 with 1 Axes>"
      ]
     },
     "metadata": {
      "needs_background": "light"
     },
     "output_type": "display_data"
    }
   ],
   "source": [
    "# Visualizing the top 20 states with the highest churns\n",
    "# Create the figure and set size\n",
    "plt.figure(figsize=(15, 8))\n",
    "\n",
    "# Plot\n",
    "highest_churn_state.plot(kind='bar', color=['skyblue'])\n",
    "\n",
    "# Add title and labels\n",
    "plt.title('TOP 20 STATES WITH THE HIGHEST CHURN', fontsize=20)\n",
    "plt.xlabel('STATES', fontsize=16)\n",
    "plt.ylabel('NUMBER OF CHURNED CUSTOMERS', fontsize=16)\n",
    "\n",
    "# Customize\n",
    "plt.xticks(fontsize=14)\n",
    "plt.yticks(fontsize=14)\n",
    "\n",
    "# Adjust layout\n",
    "plt.tight_layout()\n",
    "\n",
    "#Save the visualization\n",
    "plt.savefig('top_20_states_with_highest_churn')\n",
    "\n",
    "# Show the plot\n",
    "plt.show()"
   ]
  },
  {
   "cell_type": "markdown",
   "metadata": {},
   "source": [
    "###### Observation:\n",
    "From the visualization above we can observe that TX, NJ, MD, MI,and NY are some of the states with the highest numbers of churns. \n",
    "\n",
    "This can be investigated further to determine whether the population size of these states explain the churn numbers. "
   ]
  },
  {
   "cell_type": "markdown",
   "metadata": {},
   "source": [
    "###### TOP 20 STATES WITH THE HIGHEST COUNT OF CUSTOMER SERVICE CALLS"
   ]
  },
  {
   "cell_type": "code",
   "execution_count": 17,
   "metadata": {},
   "outputs": [
    {
     "data": {
      "text/plain": [
       "state\n",
       "WV    159\n",
       "NY    142\n",
       "OR    135\n",
       "MN    130\n",
       "VT    127\n",
       "AL    125\n",
       "VA    123\n",
       "ID    122\n",
       "IN    120\n",
       "MD    119\n",
       "MI    119\n",
       "CO    118\n",
       "TX    116\n",
       "NJ    114\n",
       "CT    112\n",
       "WY    111\n",
       "WI    111\n",
       "MT    111\n",
       "MS    110\n",
       "AR    109\n",
       "Name: customer service calls, dtype: int64"
      ]
     },
     "execution_count": 17,
     "metadata": {},
     "output_type": "execute_result"
    }
   ],
   "source": [
    "# Top 20 states with the highest customer service calls\n",
    "highest_service_calls= df.groupby('state')['customer service calls'].sum().sort_values(ascending=False).head(20)\n",
    "highest_service_calls"
   ]
  },
  {
   "cell_type": "code",
   "execution_count": 18,
   "metadata": {},
   "outputs": [
    {
     "data": {
      "image/png": "[encoded data removed]",
      "text/plain": [
       "<Figure size 1152x576 with 1 Axes>"
      ]
     },
     "metadata": {
      "needs_background": "light"
     },
     "output_type": "display_data"
    }
   ],
   "source": [
    "# Visualizing the top 20 states with the highest customer service calls\n",
    "# Create the figure and set size\n",
    "plt.figure(figsize=(16, 8))\n",
    "\n",
    "# Plot\n",
    "highest_service_calls.plot(kind='bar', color=['orange'])\n",
    "\n",
    "# Add title and labels\n",
    "plt.title('TOP 20 STATES WITH THE HIGHEST CUSTOMER SERVICE CALLS', fontsize=24)\n",
    "plt.xlabel('STATE', fontsize=18)\n",
    "plt.ylabel('COUNT OF CUSTOMER SERVICE CALLS', fontsize=18)\n",
    "\n",
    "# Customize\n",
    "plt.xticks(fontsize=16)\n",
    "plt.yticks(fontsize=14)\n",
    "\n",
    "# Adjust layout\n",
    "plt.tight_layout()\n",
    "\n",
    "#Save the visualization\n",
    "plt.savefig('top_20_states_with_highest_customer_service_calls')\n",
    "\n",
    "# Show the plot\n",
    "plt.show()"
   ]
  },
  {
   "cell_type": "markdown",
   "metadata": {},
   "source": [
    "###### Observation:\n",
    "From the visualization above we can see that the states WV, NY, OR, MN, and VT are some of the states with the highest number of customer service calls. We can also spot states that have the highest number of churns are here with the highest number of customer service calls. "
   ]
  },
  {
   "cell_type": "markdown",
   "metadata": {},
   "source": [
    "###### STATES WITH THE HIGHEST COUNT OF CHURNS AND CALLS TO CUSTOMER SERVICE\n",
    "\n",
    "Investigate whether the states with the highest number of churns also report the highest number of customer service calls."
   ]
  },
  {
   "cell_type": "code",
   "execution_count": 19,
   "metadata": {
    "scrolled": true
   },
   "outputs": [
    {
     "data": {
      "text/plain": [
       "Index(['TX', 'NJ', 'MD', 'MI', 'NY', 'MN', 'MS', 'MT', 'CT', 'OR', 'AR'], dtype='object', name='state')"
      ]
     },
     "execution_count": 19,
     "metadata": {},
     "output_type": "execute_result"
    }
   ],
   "source": [
    "# Find the common states (intersection) between the highest churn states and highest customer service calls states\n",
    "common_states = highest_churn_state.index.intersection(highest_service_calls.index)\n",
    "common_states"
   ]
  },
  {
   "cell_type": "code",
   "execution_count": 20,
   "metadata": {},
   "outputs": [
    {
     "data": {
      "image/png": "[encoded data removed]",
      "text/plain": [
       "<Figure size 1008x576 with 1 Axes>"
      ]
     },
     "metadata": {
      "needs_background": "light"
     },
     "output_type": "display_data"
    }
   ],
   "source": [
    "# Visualizing this intersection\n",
    "\n",
    "# Create a new dataframe for common states with both churn and customer service call data\n",
    "common_state_data = pd.DataFrame({'Churned Customers': highest_churn_state[common_states],\n",
    "                                  'Service Calls': highest_service_calls[common_states]})\n",
    "\n",
    "# Plot\n",
    "common_state_data.plot(kind='bar', figsize=(14, 8), color=['orange', 'skyblue'])\n",
    "\n",
    "# Add title and labels\n",
    "plt.title('A COMPARISON OF CHURN AND CUSTOMER SERVICE CALLS COUNT FOR THE COMMON STATES', fontsize = 18)\n",
    "plt.xlabel('STATES', fontsize = 18)\n",
    "plt.ylabel('COUNTS', fontsize = 18)\n",
    "\n",
    "# Customize\n",
    "plt.xticks(rotation = 45, fontsize=14)\n",
    "plt.yticks(fontsize=14)\n",
    "\n",
    "# Adjust layout\n",
    "plt.tight_layout()\n",
    "\n",
    "#Save the visualization\n",
    "plt.savefig('churn_vs_customer_service_calls')\n",
    "\n",
    "# Show the plot\n",
    "plt.show()"
   ]
  },
  {
   "cell_type": "markdown",
   "metadata": {},
   "source": [
    "###### Observation:\n",
    "From the output and visualization above we can observe the states that had the highest number of churned customers and also had the highest number of customer service calls.\n",
    "\n",
    "SyriaTel can use this information to investigate their service in these states. What could be causing these numerous calls to customer service? Could this be a reason why the churn rates in these states are high? Again, could these numbers be high simply due to the population size of these states?"
   ]
  },
  {
   "cell_type": "markdown",
   "metadata": {},
   "source": [
    "###### NUMBERS OF CALLS MADE DURING DIFFERENT TIMES"
   ]
  },
  {
   "cell_type": "code",
   "execution_count": 21,
   "metadata": {},
   "outputs": [
    {
     "name": "stdout",
     "output_type": "stream",
     "text": [
      "total day calls      334752\n",
      "total eve calls      333681\n",
      "total night calls    333659\n",
      "total intl calls      14930\n",
      "dtype: int64\n"
     ]
    }
   ],
   "source": [
    "# What times do people mostly use the services\n",
    "# Summing up the calls for each type\n",
    "calls_summary = df[['total day calls', 'total eve calls', 'total night calls', 'total intl calls']].sum()\n",
    "print(calls_summary)"
   ]
  },
  {
   "cell_type": "code",
   "execution_count": 22,
   "metadata": {
    "scrolled": false
   },
   "outputs": [
    {
     "data": {
      "image/png": "[encoded data removed]",
      "text/plain": [
       "<Figure size 864x576 with 1 Axes>"
      ]
     },
     "metadata": {
      "needs_background": "light"
     },
     "output_type": "display_data"
    }
   ],
   "source": [
    "# Visualizing what times do people mostly use the services\n",
    "# Create the figure and set size\n",
    "plt.figure(figsize=(12, 8))\n",
    "\n",
    "# Plot\n",
    "sns.barplot(x=calls_summary.index, y=calls_summary.values, palette='pastel')\n",
    "\n",
    "# Add title and labels\n",
    "plt.title('TOTAL NUMBER OF CALLS BY CALL TIME', fontsize=20)\n",
    "plt.xlabel('CALL TIME', fontsize=18)\n",
    "plt.ylabel('TOTAL NUMBER OF CALLS', fontsize=18)\n",
    "\n",
    "# Customise\n",
    "plt.xticks(fontsize=14)\n",
    "plt.yticks(fontsize=14)\n",
    "\n",
    "# Adjust layout\n",
    "plt.tight_layout()\n",
    "\n",
    "# Show the plot\n",
    "plt.show()"
   ]
  },
  {
   "cell_type": "markdown",
   "metadata": {},
   "source": [
    "###### Observation:\n",
    "From the output and visualization above we can observe that there is no substatial difference between the number of calls made throughout the day. \n",
    "\n",
    "However, we can see the huge difference between the local total number of calls and the international calls. \n",
    "\n",
    "SyriaTel can use this information to investigate further why the international calls made through their services are not as high. Can they improve the international plan for their customers?"
   ]
  },
  {
   "cell_type": "markdown",
   "metadata": {},
   "source": [
    "###### CHURN RATE BY INTERNATIONAL PLAN"
   ]
  },
  {
   "cell_type": "code",
   "execution_count": 23,
   "metadata": {},
   "outputs": [
    {
     "data": {
      "text/plain": [
       "international plan  churn\n",
       "no                  False    2664\n",
       "                    True      346\n",
       "yes                 False     186\n",
       "                    True      137\n",
       "Name: churn, dtype: int64"
      ]
     },
     "execution_count": 23,
     "metadata": {},
     "output_type": "execute_result"
    }
   ],
   "source": [
    "# Churn rate by international plan\n",
    "churn_by_intl_plan = df.groupby('international plan')['churn'].value_counts().head(20)\n",
    "churn_by_intl_plan"
   ]
  },
  {
   "cell_type": "code",
   "execution_count": 24,
   "metadata": {},
   "outputs": [
    {
     "data": {
      "image/png": "[encoded data removed]",
      "text/plain": [
       "<Figure size 1008x576 with 1 Axes>"
      ]
     },
     "metadata": {
      "needs_background": "light"
     },
     "output_type": "display_data"
    }
   ],
   "source": [
    "# Visualizing churn rate by international plan\n",
    "# Prepare the data for visualization\n",
    "churn_by_intl = (df.groupby(['international plan', 'churn']).size().unstack(fill_value=0))\n",
    "\n",
    "# Create the figure and set size\n",
    "plt.figure(figsize=(14, 8))\n",
    "\n",
    "# Plot\n",
    "churn_by_intl.plot(kind='bar', stacked=True, color=['skyblue', 'orange'], ax=plt.gca())\n",
    "\n",
    "# Add title and labels\n",
    "plt.title('CHURN RATE BY INTERNATIONAL PLAN', fontsize=24)\n",
    "plt.xlabel('INETRNATIONAL PLAN', fontsize=18)\n",
    "plt.ylabel('CUSTOMER COUNT', fontsize=18)\n",
    "\n",
    "# Customize\n",
    "plt.xticks(fontsize=14)\n",
    "plt.yticks(fontsize=14)\n",
    "plt.legend(['Not Churned', 'Churned'], title='CHURN STATUS')\n",
    "\n",
    "# Adjust layout\n",
    "plt.tight_layout()\n",
    "\n",
    "# Show the plot\n",
    "plt.show()"
   ]
  },
  {
   "cell_type": "markdown",
   "metadata": {},
   "source": [
    "###### Observation:\n",
    "From the analysis and visualization above, we can observe that the majority of SyriaTel customers don't have an international plan. Also the churn rate is higher among those without an international plan compared to those with one. However, could be contributed by the fact that most of the customers are in the 'no international plan' class. "
   ]
  },
  {
   "cell_type": "markdown",
   "metadata": {},
   "source": [
    "###### CHURN RATE BY VOICEMAIL PLAN"
   ]
  },
  {
   "cell_type": "code",
   "execution_count": 25,
   "metadata": {},
   "outputs": [
    {
     "data": {
      "text/plain": [
       "voice mail plan  churn\n",
       "no               False    2008\n",
       "                 True      403\n",
       "yes              False     842\n",
       "                 True       80\n",
       "Name: churn, dtype: int64"
      ]
     },
     "execution_count": 25,
     "metadata": {},
     "output_type": "execute_result"
    }
   ],
   "source": [
    "# Churn rate by voicemail plan\n",
    "churn_by_vm_plan = df.groupby('voice mail plan')['churn'].value_counts().head(20)\n",
    "churn_by_vm_plan"
   ]
  },
  {
   "cell_type": "code",
   "execution_count": 26,
   "metadata": {},
   "outputs": [
    {
     "data": {
      "image/png": "[encoded data removed]",
      "text/plain": [
       "<Figure size 1008x576 with 1 Axes>"
      ]
     },
     "metadata": {
      "needs_background": "light"
     },
     "output_type": "display_data"
    }
   ],
   "source": [
    "# Visualizing churn rate by voicemail plan\n",
    "# Prep the data for visualization\n",
    "churn_by_vm = (df.groupby(['voice mail plan', 'churn']).size().unstack(fill_value=0))\n",
    "\n",
    "\n",
    "# Create the figure and set size\n",
    "plt.figure(figsize=(14, 8))\n",
    "\n",
    "# Plot\n",
    "churn_by_vm.plot(kind='bar', stacked=True, color=['skyblue', 'orange'], ax=plt.gca())\n",
    "\n",
    "# Add title and labels\n",
    "plt.title('CHURN RATE BY VOICEMAIL PLAN', fontsize=20)\n",
    "plt.xlabel('VOICE MAIL PLAN', fontsize=16)\n",
    "plt.ylabel('NUMBER OF CUSTOMERS', fontsize=16)\n",
    "\n",
    "# Customize\n",
    "plt.xticks(fontsize=14)\n",
    "plt.yticks(fontsize=14)\n",
    "plt.legend(['Not Churned', 'Churned'], title='VM PLAN STATUS')\n",
    "\n",
    "# Adjust layout\n",
    "plt.tight_layout()\n",
    "\n",
    "# Show the plot\n",
    "plt.show()"
   ]
  },
  {
   "cell_type": "markdown",
   "metadata": {},
   "source": [
    "###### Observation:\n",
    "From the analysis and visualization above, we can observe that the majority of SyriaTel customers don't have a voicemail plan. Also the churn rate is higher among those without a voicemail plan compared to those with one but this could also be due to the fact that most of the customers don't have the plan."
   ]
  },
  {
   "cell_type": "markdown",
   "metadata": {},
   "source": [
    "###### CHURN RATE BY AREA CODES"
   ]
  },
  {
   "cell_type": "code",
   "execution_count": 27,
   "metadata": {},
   "outputs": [
    {
     "data": {
      "text/plain": [
       "area code  churn\n",
       "408        False     716\n",
       "           True      122\n",
       "415        False    1419\n",
       "           True      236\n",
       "510        False     715\n",
       "           True      125\n",
       "Name: churn, dtype: int64"
      ]
     },
     "execution_count": 27,
     "metadata": {},
     "output_type": "execute_result"
    }
   ],
   "source": [
    "# Churn rate by area codes\n",
    "churn_by_area_code = df.groupby('area code')['churn'].value_counts().head(20)\n",
    "churn_by_area_code"
   ]
  },
  {
   "cell_type": "code",
   "execution_count": 28,
   "metadata": {},
   "outputs": [
    {
     "data": {
      "image/png": "[encoded data removed]",
      "text/plain": [
       "<Figure size 1008x576 with 1 Axes>"
      ]
     },
     "metadata": {
      "needs_background": "light"
     },
     "output_type": "display_data"
    }
   ],
   "source": [
    "# Visualising churn rate by area codes\n",
    "# Prep the data for visualization\n",
    "churn_by_area = (df.groupby(['area code', 'churn']).size().unstack(fill_value=0))\n",
    "\n",
    "\n",
    "# Create the figure and set size\n",
    "plt.figure(figsize=(14, 8))\n",
    "\n",
    "# Plot\n",
    "churn_by_area.plot(kind='bar', stacked=True, color=['skyblue', 'orange'], ax=plt.gca())\n",
    "\n",
    "# Add title and labels\n",
    "plt.title('CHURN RATES BY AREA CODES', fontsize=20)\n",
    "plt.xlabel('AREA CODES', fontsize=16)\n",
    "plt.ylabel('NUMBER OF CUSTOMERS', fontsize=16)\n",
    "\n",
    "# Customize\n",
    "plt.xticks(fontsize=14)\n",
    "plt.yticks(fontsize=14)\n",
    "plt.legend(['Not Churned', 'Churned'], title='CHURN STATUS')\n",
    "\n",
    "# Adjust layout\n",
    "plt.tight_layout()\n",
    "\n",
    "# Show the plot\n",
    "plt.show()"
   ]
  },
  {
   "cell_type": "markdown",
   "metadata": {},
   "source": [
    "###### Observation:\n",
    "From the analysis and visualization above, we can observe that the majority of SyriaTel customers are in area code 415. Also the churn rate is higher in this area code compared to other area codes."
   ]
  },
  {
   "cell_type": "markdown",
   "metadata": {},
   "source": [
    "###### ACCOUNT LENGTH OF CHURNED CUSTOMERS"
   ]
  },
  {
   "cell_type": "code",
   "execution_count": 29,
   "metadata": {},
   "outputs": [
    {
     "name": "stdout",
     "output_type": "stream",
     "text": [
      "Average account length of churned customers: 102.66 days\n"
     ]
    }
   ],
   "source": [
    "# Analyze the average time it takes a customer to churn\n",
    "churned = df.loc[df['churn'] == True]\n",
    "time_before_churn = churned['account length'].mean()\n",
    "print(f'Average account length of churned customers: {time_before_churn:.2f} days')"
   ]
  },
  {
   "cell_type": "code",
   "execution_count": 30,
   "metadata": {},
   "outputs": [
    {
     "data": {
      "image/png": "[encoded data removed]",
      "text/plain": [
       "<Figure size 864x432 with 1 Axes>"
      ]
     },
     "metadata": {
      "needs_background": "light"
     },
     "output_type": "display_data"
    }
   ],
   "source": [
    "# Visualising the distribution of account length of churned customers\n",
    "# Filter data for churned customers\n",
    "churned = df.loc[df['churn'] == True]\n",
    "\n",
    "# Create the figure and set size\n",
    "plt.figure(figsize=(12, 6))\n",
    "\n",
    "# Plot\n",
    "sns.histplot(churned['account length'], kde=True, color='blue', bins=20)\n",
    "plt.axvline(churned['account length'].mean(), color='red', linestyle='--', label=f'Mean: {time_before_churn:.2f}')\n",
    "\n",
    "# Add title and labels\n",
    "plt.title('DISTRIBUTION OF ACCOUNT LENGTH FOR CHURNED CUSTOMERS', fontsize=18)\n",
    "plt.xlabel('ACCOUNT LENGTH(days)', fontsize=14)\n",
    "plt.ylabel('FREQUENCY', fontsize=14)\n",
    "\n",
    "# Customize\n",
    "plt.xticks(fontsize=14)\n",
    "plt.yticks(fontsize=14)\n",
    "plt.legend()\n",
    "\n",
    "# Adjust layout\n",
    "plt.tight_layout()\n",
    "\n",
    "#Save the visualization\n",
    "plt.savefig('account_length_for_churned')\n",
    "\n",
    "# Show the plot\n",
    "plt.show()"
   ]
  },
  {
   "cell_type": "markdown",
   "metadata": {},
   "source": [
    "###### Observation:\n",
    "From the analysis and visualization above, we can observe that for churned customers, it took an average of 102 days before they churned.\n",
    "\n",
    "Further investigation can be carried out to find out what's happening around this time that might be contributing to churns."
   ]
  },
  {
   "cell_type": "markdown",
   "metadata": {},
   "source": [
    "## SUMMARY FINDINGS IN EDA AND DATA ANALYSIS"
   ]
  },
  {
   "cell_type": "markdown",
   "metadata": {},
   "source": [
    "- **Customer Retention Duration**: On average, it took approximately 102 days (3.4 months) for a churned customer to stop using SyriaTel's services.\n",
    "\n",
    "- **Call Patterns**: The total number of local calls made across different times of the day is relatively consistent, whereas the number of international calls is significantly lower.\n",
    "\n",
    "- **Service Plan**: The majority of SyriaTel customers do not subscribe to international or voicemail plans.\n",
    "\n",
    "- **Churn by Area Code**: Area code 415 reports the highest number of churns, but it is also the area where SyriaTel services are most utilized.\n",
    "\n",
    "- **State-Level Trends**: States such as TX, NJ, NY, MD, CT, OR, and MI exhibit both the highest number of churns and the highest volume of customer service calls.\n",
    "\n",
    "- **Class Imbalance**: The dataset is imbalanced, with 85% of the target class labeled as \"False\" (not churned) and only 15% labeled as \"True\" (churned).\n",
    "\n",
    "\n",
    "\n",
    "\n",
    "### **DECISION AFTER DATA ANALYSIS**\n",
    "From the analysis carried out, these are the conclusions about the data that'll be used to build the classifier to help predict churn among SyriaTel customers.\n",
    "1. The phone number column is an identifier. It doesn't provide any useful predictive value about churn. So it'll be dropped.\n",
    "2. All the other columns will go through feature selection and a test for multicollinearity to decide which ones are kept for modeling. \n",
    "3. The columns 'area code' and 'state' are also identifiers, however, whether they'll be dropped or kept will also be decided by feature selection since i'm not sure whether location can be a useful feature when predicting a churn customer.\n",
    "4. Encoding will be performed for the state, area code, churn, international plan, and voice mail plan columns as they are categorical variables.\n",
    "5. A test for multicollinearity will also be performed to further decide columns to drop for an effective model."
   ]
  },
  {
   "cell_type": "markdown",
   "metadata": {},
   "source": [
    "## DATA PREPROCESSING FOR MODELING\n",
    "**(DATASET-LEVEL PREPROCESSING)** - preprocessing that doesn't alter the training set"
   ]
  },
  {
   "cell_type": "code",
   "execution_count": 31,
   "metadata": {},
   "outputs": [],
   "source": [
    "# encoding columns \n",
    "# multicollinearity\n",
    "# feature selection\n",
    "# dealing with imbalance\n",
    "# standardizing numerical features esp. for Logistic Regression"
   ]
  },
  {
   "cell_type": "code",
   "execution_count": 32,
   "metadata": {},
   "outputs": [],
   "source": [
    "# Dropped the phone number column as it's just an identifier\n",
    "df.drop('phone number', axis= 1, inplace = True)"
   ]
  },
  {
   "cell_type": "markdown",
   "metadata": {},
   "source": [
    "##### IMPORTING THE LIBRARIES NEEDED FOR MODELING"
   ]
  },
  {
   "cell_type": "code",
   "execution_count": 33,
   "metadata": {},
   "outputs": [],
   "source": [
    "#import the necessary libraries needed for the data prep for modeling and for modeling\n",
    "import itertools\n",
    "import warnings\n",
    "warnings.filterwarnings(\"ignore\")\n",
    "\n",
    "# To split the dataset into train and test sets\n",
    "from sklearn.model_selection import train_test_split   \n",
    "from sklearn.model_selection import cross_val_score\n",
    "\n",
    "# Logistic Regression algorithm\n",
    "from sklearn.linear_model import LogisticRegression    \n",
    "from sklearn.linear_model import Ridge, Lasso\n",
    "\n",
    "# Decision Tree algorithm\n",
    "from sklearn.tree import DecisionTreeClassifier        \n",
    "\n",
    "# For encoding the categorical and target columns\n",
    "from sklearn.preprocessing import OneHotEncoder \n",
    "\n",
    "# For scaling the data\n",
    "from sklearn.preprocessing import StandardScaler\n",
    "\n",
    "# For feature selection during modeling(logistic regression)\n",
    "from sklearn.feature_selection import RFE\n",
    "\n",
    "# To apply transformations to specific columns\n",
    "from sklearn.compose import ColumnTransformer          \n",
    "\n",
    "# For model evaluation\n",
    "from sklearn.metrics import classification_report, confusion_matrix, ConfusionMatrixDisplay, precision_recall_curve \n",
    "from sklearn.metrics import roc_auc_score, roc_curve, auc\n",
    "from sklearn.metrics import precision_score, recall_score, f1_score\n",
    "\n",
    "# For handling class imbalance\n",
    "from imblearn.over_sampling import SMOTE, ADASYN"
   ]
  },
  {
   "cell_type": "markdown",
   "metadata": {},
   "source": [
    "##### DEFINING THE TARGET AND THE FEATURES OF THE MODEL"
   ]
  },
  {
   "cell_type": "code",
   "execution_count": 34,
   "metadata": {},
   "outputs": [],
   "source": [
    "# Define the variables (the target and the features)\n",
    "X = df.drop('churn', axis=1)   # All the other columns except 'churn' will be the independent variables\n",
    "y = df['churn']                # 'churn' is the dependent variable - what we want to predict"
   ]
  },
  {
   "cell_type": "markdown",
   "metadata": {},
   "source": [
    "##### SPLITTING THE DATASET INTO TRAINING AND TEST SETS"
   ]
  },
  {
   "cell_type": "markdown",
   "metadata": {},
   "source": [
    "To prevent data leakage and leave the testing set untouched to simulate real-world data, I split the dataset first before further preprocessing and feature selection.\n",
    "\n",
    "Used 80% of the dataset for training the algorithm and 20% for testing the algorithm's performance.\n",
    "\n",
    "I used the **'stratify'** parameter to ensure that the distribution of the target class in the train and test sets remain consistent with the original dataset, since our dataset is highly imbalanced."
   ]
  },
  {
   "cell_type": "code",
   "execution_count": 35,
   "metadata": {},
   "outputs": [],
   "source": [
    "# Splitting the dataset into a training and testing set\n",
    "X_train, X_test, y_train, y_test = train_test_split(X, y, stratify =y, test_size=0.2, random_state= 42)"
   ]
  },
  {
   "cell_type": "code",
   "execution_count": 36,
   "metadata": {},
   "outputs": [
    {
     "data": {
      "text/html": [
       "<div>\n",
       "<style scoped>\n",
       "    .dataframe tbody tr th:only-of-type {\n",
       "        vertical-align: middle;\n",
       "    }\n",
       "\n",
       "    .dataframe tbody tr th {\n",
       "        vertical-align: top;\n",
       "    }\n",
       "\n",
       "    .dataframe thead th {\n",
       "        text-align: right;\n",
       "    }\n",
       "</style>\n",
       "<table border=\"1\" class=\"dataframe\">\n",
       "  <thead>\n",
       "    <tr style=\"text-align: right;\">\n",
       "      <th></th>\n",
       "      <th>state</th>\n",
       "      <th>account length</th>\n",
       "      <th>area code</th>\n",
       "      <th>international plan</th>\n",
       "      <th>voice mail plan</th>\n",
       "      <th>number vmail messages</th>\n",
       "      <th>total day minutes</th>\n",
       "      <th>total day calls</th>\n",
       "      <th>total day charge</th>\n",
       "      <th>total eve minutes</th>\n",
       "      <th>total eve calls</th>\n",
       "      <th>total eve charge</th>\n",
       "      <th>total night minutes</th>\n",
       "      <th>total night calls</th>\n",
       "      <th>total night charge</th>\n",
       "      <th>total intl minutes</th>\n",
       "      <th>total intl calls</th>\n",
       "      <th>total intl charge</th>\n",
       "      <th>customer service calls</th>\n",
       "    </tr>\n",
       "  </thead>\n",
       "  <tbody>\n",
       "    <tr>\n",
       "      <th>3286</th>\n",
       "      <td>OH</td>\n",
       "      <td>106</td>\n",
       "      <td>415</td>\n",
       "      <td>no</td>\n",
       "      <td>yes</td>\n",
       "      <td>30</td>\n",
       "      <td>220.1</td>\n",
       "      <td>105</td>\n",
       "      <td>37.42</td>\n",
       "      <td>222.2</td>\n",
       "      <td>109</td>\n",
       "      <td>18.89</td>\n",
       "      <td>158.4</td>\n",
       "      <td>96</td>\n",
       "      <td>7.13</td>\n",
       "      <td>13.1</td>\n",
       "      <td>8</td>\n",
       "      <td>3.54</td>\n",
       "      <td>0</td>\n",
       "    </tr>\n",
       "    <tr>\n",
       "      <th>86</th>\n",
       "      <td>IN</td>\n",
       "      <td>94</td>\n",
       "      <td>408</td>\n",
       "      <td>no</td>\n",
       "      <td>no</td>\n",
       "      <td>0</td>\n",
       "      <td>157.9</td>\n",
       "      <td>105</td>\n",
       "      <td>26.84</td>\n",
       "      <td>155.0</td>\n",
       "      <td>101</td>\n",
       "      <td>13.18</td>\n",
       "      <td>189.6</td>\n",
       "      <td>84</td>\n",
       "      <td>8.53</td>\n",
       "      <td>8.0</td>\n",
       "      <td>5</td>\n",
       "      <td>2.16</td>\n",
       "      <td>4</td>\n",
       "    </tr>\n",
       "    <tr>\n",
       "      <th>1349</th>\n",
       "      <td>KY</td>\n",
       "      <td>71</td>\n",
       "      <td>510</td>\n",
       "      <td>no</td>\n",
       "      <td>yes</td>\n",
       "      <td>22</td>\n",
       "      <td>141.4</td>\n",
       "      <td>107</td>\n",
       "      <td>24.04</td>\n",
       "      <td>163.0</td>\n",
       "      <td>105</td>\n",
       "      <td>13.86</td>\n",
       "      <td>220.0</td>\n",
       "      <td>99</td>\n",
       "      <td>9.90</td>\n",
       "      <td>5.6</td>\n",
       "      <td>3</td>\n",
       "      <td>1.51</td>\n",
       "      <td>2</td>\n",
       "    </tr>\n",
       "    <tr>\n",
       "      <th>1649</th>\n",
       "      <td>NH</td>\n",
       "      <td>130</td>\n",
       "      <td>408</td>\n",
       "      <td>no</td>\n",
       "      <td>no</td>\n",
       "      <td>0</td>\n",
       "      <td>68.4</td>\n",
       "      <td>86</td>\n",
       "      <td>11.63</td>\n",
       "      <td>193.3</td>\n",
       "      <td>110</td>\n",
       "      <td>16.43</td>\n",
       "      <td>171.5</td>\n",
       "      <td>139</td>\n",
       "      <td>7.72</td>\n",
       "      <td>10.4</td>\n",
       "      <td>4</td>\n",
       "      <td>2.81</td>\n",
       "      <td>0</td>\n",
       "    </tr>\n",
       "    <tr>\n",
       "      <th>3000</th>\n",
       "      <td>NJ</td>\n",
       "      <td>87</td>\n",
       "      <td>510</td>\n",
       "      <td>no</td>\n",
       "      <td>no</td>\n",
       "      <td>0</td>\n",
       "      <td>223.2</td>\n",
       "      <td>109</td>\n",
       "      <td>37.94</td>\n",
       "      <td>127.5</td>\n",
       "      <td>86</td>\n",
       "      <td>10.84</td>\n",
       "      <td>289.3</td>\n",
       "      <td>83</td>\n",
       "      <td>13.02</td>\n",
       "      <td>14.5</td>\n",
       "      <td>4</td>\n",
       "      <td>3.92</td>\n",
       "      <td>3</td>\n",
       "    </tr>\n",
       "  </tbody>\n",
       "</table>\n",
       "</div>"
      ],
      "text/plain": [
       "     state  account length area code international plan voice mail plan  \\\n",
       "3286    OH             106       415                 no             yes   \n",
       "86      IN              94       408                 no              no   \n",
       "1349    KY              71       510                 no             yes   \n",
       "1649    NH             130       408                 no              no   \n",
       "3000    NJ              87       510                 no              no   \n",
       "\n",
       "      number vmail messages  total day minutes  total day calls  \\\n",
       "3286                     30              220.1              105   \n",
       "86                        0              157.9              105   \n",
       "1349                     22              141.4              107   \n",
       "1649                      0               68.4               86   \n",
       "3000                      0              223.2              109   \n",
       "\n",
       "      total day charge  total eve minutes  total eve calls  total eve charge  \\\n",
       "3286             37.42              222.2              109             18.89   \n",
       "86               26.84              155.0              101             13.18   \n",
       "1349             24.04              163.0              105             13.86   \n",
       "1649             11.63              193.3              110             16.43   \n",
       "3000             37.94              127.5               86             10.84   \n",
       "\n",
       "      total night minutes  total night calls  total night charge  \\\n",
       "3286                158.4                 96                7.13   \n",
       "86                  189.6                 84                8.53   \n",
       "1349                220.0                 99                9.90   \n",
       "1649                171.5                139                7.72   \n",
       "3000                289.3                 83               13.02   \n",
       "\n",
       "      total intl minutes  total intl calls  total intl charge  \\\n",
       "3286                13.1                 8               3.54   \n",
       "86                   8.0                 5               2.16   \n",
       "1349                 5.6                 3               1.51   \n",
       "1649                10.4                 4               2.81   \n",
       "3000                14.5                 4               3.92   \n",
       "\n",
       "      customer service calls  \n",
       "3286                       0  \n",
       "86                         4  \n",
       "1349                       2  \n",
       "1649                       0  \n",
       "3000                       3  "
      ]
     },
     "execution_count": 36,
     "metadata": {},
     "output_type": "execute_result"
    }
   ],
   "source": [
    "# Brief view of the X_train\n",
    "X_train.head()"
   ]
  },
  {
   "cell_type": "code",
   "execution_count": 37,
   "metadata": {},
   "outputs": [
    {
     "data": {
      "text/html": [
       "<div>\n",
       "<style scoped>\n",
       "    .dataframe tbody tr th:only-of-type {\n",
       "        vertical-align: middle;\n",
       "    }\n",
       "\n",
       "    .dataframe tbody tr th {\n",
       "        vertical-align: top;\n",
       "    }\n",
       "\n",
       "    .dataframe thead th {\n",
       "        text-align: right;\n",
       "    }\n",
       "</style>\n",
       "<table border=\"1\" class=\"dataframe\">\n",
       "  <thead>\n",
       "    <tr style=\"text-align: right;\">\n",
       "      <th></th>\n",
       "      <th>state</th>\n",
       "      <th>account length</th>\n",
       "      <th>area code</th>\n",
       "      <th>international plan</th>\n",
       "      <th>voice mail plan</th>\n",
       "      <th>number vmail messages</th>\n",
       "      <th>total day minutes</th>\n",
       "      <th>total day calls</th>\n",
       "      <th>total day charge</th>\n",
       "      <th>total eve minutes</th>\n",
       "      <th>total eve calls</th>\n",
       "      <th>total eve charge</th>\n",
       "      <th>total night minutes</th>\n",
       "      <th>total night calls</th>\n",
       "      <th>total night charge</th>\n",
       "      <th>total intl minutes</th>\n",
       "      <th>total intl calls</th>\n",
       "      <th>total intl charge</th>\n",
       "      <th>customer service calls</th>\n",
       "    </tr>\n",
       "  </thead>\n",
       "  <tbody>\n",
       "    <tr>\n",
       "      <th>601</th>\n",
       "      <td>MA</td>\n",
       "      <td>62</td>\n",
       "      <td>415</td>\n",
       "      <td>yes</td>\n",
       "      <td>no</td>\n",
       "      <td>0</td>\n",
       "      <td>159.7</td>\n",
       "      <td>86</td>\n",
       "      <td>27.15</td>\n",
       "      <td>197.5</td>\n",
       "      <td>76</td>\n",
       "      <td>16.79</td>\n",
       "      <td>121.6</td>\n",
       "      <td>105</td>\n",
       "      <td>5.47</td>\n",
       "      <td>13.9</td>\n",
       "      <td>6</td>\n",
       "      <td>3.75</td>\n",
       "      <td>0</td>\n",
       "    </tr>\n",
       "    <tr>\n",
       "      <th>2050</th>\n",
       "      <td>MT</td>\n",
       "      <td>121</td>\n",
       "      <td>408</td>\n",
       "      <td>no</td>\n",
       "      <td>no</td>\n",
       "      <td>0</td>\n",
       "      <td>213.2</td>\n",
       "      <td>79</td>\n",
       "      <td>36.24</td>\n",
       "      <td>120.7</td>\n",
       "      <td>116</td>\n",
       "      <td>10.26</td>\n",
       "      <td>244.4</td>\n",
       "      <td>102</td>\n",
       "      <td>11.00</td>\n",
       "      <td>7.5</td>\n",
       "      <td>4</td>\n",
       "      <td>2.03</td>\n",
       "      <td>1</td>\n",
       "    </tr>\n",
       "    <tr>\n",
       "      <th>3200</th>\n",
       "      <td>CT</td>\n",
       "      <td>100</td>\n",
       "      <td>510</td>\n",
       "      <td>yes</td>\n",
       "      <td>no</td>\n",
       "      <td>0</td>\n",
       "      <td>107.2</td>\n",
       "      <td>98</td>\n",
       "      <td>18.22</td>\n",
       "      <td>86.8</td>\n",
       "      <td>122</td>\n",
       "      <td>7.38</td>\n",
       "      <td>156.2</td>\n",
       "      <td>117</td>\n",
       "      <td>7.03</td>\n",
       "      <td>9.7</td>\n",
       "      <td>4</td>\n",
       "      <td>2.62</td>\n",
       "      <td>1</td>\n",
       "    </tr>\n",
       "    <tr>\n",
       "      <th>1953</th>\n",
       "      <td>WA</td>\n",
       "      <td>137</td>\n",
       "      <td>408</td>\n",
       "      <td>no</td>\n",
       "      <td>no</td>\n",
       "      <td>0</td>\n",
       "      <td>208.8</td>\n",
       "      <td>120</td>\n",
       "      <td>35.50</td>\n",
       "      <td>225.3</td>\n",
       "      <td>100</td>\n",
       "      <td>19.15</td>\n",
       "      <td>221.6</td>\n",
       "      <td>130</td>\n",
       "      <td>9.97</td>\n",
       "      <td>11.1</td>\n",
       "      <td>5</td>\n",
       "      <td>3.00</td>\n",
       "      <td>0</td>\n",
       "    </tr>\n",
       "    <tr>\n",
       "      <th>1119</th>\n",
       "      <td>OK</td>\n",
       "      <td>189</td>\n",
       "      <td>415</td>\n",
       "      <td>no</td>\n",
       "      <td>no</td>\n",
       "      <td>0</td>\n",
       "      <td>208.3</td>\n",
       "      <td>106</td>\n",
       "      <td>35.41</td>\n",
       "      <td>236.7</td>\n",
       "      <td>123</td>\n",
       "      <td>20.12</td>\n",
       "      <td>179.1</td>\n",
       "      <td>120</td>\n",
       "      <td>8.06</td>\n",
       "      <td>11.3</td>\n",
       "      <td>5</td>\n",
       "      <td>3.05</td>\n",
       "      <td>3</td>\n",
       "    </tr>\n",
       "  </tbody>\n",
       "</table>\n",
       "</div>"
      ],
      "text/plain": [
       "     state  account length area code international plan voice mail plan  \\\n",
       "601     MA              62       415                yes              no   \n",
       "2050    MT             121       408                 no              no   \n",
       "3200    CT             100       510                yes              no   \n",
       "1953    WA             137       408                 no              no   \n",
       "1119    OK             189       415                 no              no   \n",
       "\n",
       "      number vmail messages  total day minutes  total day calls  \\\n",
       "601                       0              159.7               86   \n",
       "2050                      0              213.2               79   \n",
       "3200                      0              107.2               98   \n",
       "1953                      0              208.8              120   \n",
       "1119                      0              208.3              106   \n",
       "\n",
       "      total day charge  total eve minutes  total eve calls  total eve charge  \\\n",
       "601              27.15              197.5               76             16.79   \n",
       "2050             36.24              120.7              116             10.26   \n",
       "3200             18.22               86.8              122              7.38   \n",
       "1953             35.50              225.3              100             19.15   \n",
       "1119             35.41              236.7              123             20.12   \n",
       "\n",
       "      total night minutes  total night calls  total night charge  \\\n",
       "601                 121.6                105                5.47   \n",
       "2050                244.4                102               11.00   \n",
       "3200                156.2                117                7.03   \n",
       "1953                221.6                130                9.97   \n",
       "1119                179.1                120                8.06   \n",
       "\n",
       "      total intl minutes  total intl calls  total intl charge  \\\n",
       "601                 13.9                 6               3.75   \n",
       "2050                 7.5                 4               2.03   \n",
       "3200                 9.7                 4               2.62   \n",
       "1953                11.1                 5               3.00   \n",
       "1119                11.3                 5               3.05   \n",
       "\n",
       "      customer service calls  \n",
       "601                        0  \n",
       "2050                       1  \n",
       "3200                       1  \n",
       "1953                       0  \n",
       "1119                       3  "
      ]
     },
     "execution_count": 37,
     "metadata": {},
     "output_type": "execute_result"
    }
   ],
   "source": [
    "# Brief view of the X_test\n",
    "X_test.head()"
   ]
  },
  {
   "cell_type": "code",
   "execution_count": 38,
   "metadata": {},
   "outputs": [
    {
     "data": {
      "text/plain": [
       "3286    False\n",
       "86       True\n",
       "1349    False\n",
       "1649    False\n",
       "3000    False\n",
       "Name: churn, dtype: bool"
      ]
     },
     "execution_count": 38,
     "metadata": {},
     "output_type": "execute_result"
    }
   ],
   "source": [
    "# Brief view of the y_train\n",
    "y_train.head()"
   ]
  },
  {
   "cell_type": "code",
   "execution_count": 39,
   "metadata": {},
   "outputs": [
    {
     "data": {
      "text/plain": [
       "601      True\n",
       "2050    False\n",
       "3200    False\n",
       "1953    False\n",
       "1119    False\n",
       "Name: churn, dtype: bool"
      ]
     },
     "execution_count": 39,
     "metadata": {},
     "output_type": "execute_result"
    }
   ],
   "source": [
    "# Brief view of the y_test\n",
    "y_test.head()"
   ]
  },
  {
   "cell_type": "markdown",
   "metadata": {},
   "source": [
    "###### ONE-HOT ENCODING THE CATEGORICAL VARIABLES\n",
    "\n",
    "One-hot encoded the categorical columns since algorithms 'understand' numerical values only.\n",
    "\n",
    "Ensured the fitting was done only on the training set, but transformation was done on both the training and test sets.\n",
    "\n",
    "The target column contains boolean values so encoding is straightforward. Used pandas .map() for this to assign True=1 and False=0"
   ]
  },
  {
   "cell_type": "code",
   "execution_count": 40,
   "metadata": {},
   "outputs": [],
   "source": [
    "# Encoding the target column (y)\n",
    "# Target column is a boolean (True/False) values. To encode, I simply mapped the column to convert True -> 1 and False -> 0.\n",
    "# Used pandas map() funct.\n",
    "\n",
    "# Encode training set\n",
    "y_train_final = y_train.map({True:1, False:0})\n",
    "\n",
    "# Encode testing set\n",
    "y_test_final = y_test.map({True:1, False:0})"
   ]
  },
  {
   "cell_type": "code",
   "execution_count": 41,
   "metadata": {},
   "outputs": [],
   "source": [
    "# Encoding the categorical feature columns (X)\n",
    "# Drop first to avoid the dummy variable trap\n",
    "ohe = OneHotEncoder(drop='first', sparse=False)\n",
    "\n",
    "# Fit and transform the encoder on the training set.\n",
    "# Fitting the training data only inorder to use the training data to determine the unique categories for each feature.\n",
    "X_train_ohe = ohe.fit_transform(X_train[['state', 'area code', 'international plan', 'voice mail plan']])\n",
    "\n",
    "# Transform only on the testing set (no fitting)\n",
    "X_test_ohe = ohe.transform(X_test[['state', 'area code', 'international plan', 'voice mail plan']])"
   ]
  },
  {
   "cell_type": "markdown",
   "metadata": {},
   "source": [
    "Below, I converted the encoded columns into dataframes with appropriate indices and column names."
   ]
  },
  {
   "cell_type": "code",
   "execution_count": 42,
   "metadata": {},
   "outputs": [],
   "source": [
    "# Get column names for the encoded columns\n",
    "ohe_feature_names = ohe.get_feature_names(['state', 'area code', 'international plan', 'voice mail plan'])\n",
    "\n",
    "# Convert encoded columns to DataFrames\n",
    "X_train_encoded_df = pd.DataFrame(X_train_ohe, columns=ohe_feature_names, index=X_train.index)\n",
    "X_test_encoded_df = pd.DataFrame(X_test_ohe, columns=ohe_feature_names, index=X_test.index)"
   ]
  },
  {
   "cell_type": "markdown",
   "metadata": {},
   "source": [
    "Concantenated the now encoded columns with the rest of the dataset."
   ]
  },
  {
   "cell_type": "code",
   "execution_count": 43,
   "metadata": {},
   "outputs": [],
   "source": [
    "# Combine the encoded features with the other numerical columns in the dataset\n",
    "X_train_encd = pd.concat([X_train_encoded_df, X_train.drop(['state', 'area code', 'international plan', 'voice mail plan'], axis=1)], axis=1)\n",
    "X_test_encd = pd.concat([X_test_encoded_df, X_test.drop(['state', 'area code', 'international plan', 'voice mail plan'], axis=1)], axis=1)"
   ]
  },
  {
   "cell_type": "code",
   "execution_count": 44,
   "metadata": {},
   "outputs": [
    {
     "name": "stdout",
     "output_type": "stream",
     "text": [
      "      state_AL  state_AR  state_AZ  state_CA  state_CO  state_CT  state_DC  \\\n",
      "3286       0.0       0.0       0.0       0.0       0.0       0.0       0.0   \n",
      "86         0.0       0.0       0.0       0.0       0.0       0.0       0.0   \n",
      "1349       0.0       0.0       0.0       0.0       0.0       0.0       0.0   \n",
      "1649       0.0       0.0       0.0       0.0       0.0       0.0       0.0   \n",
      "3000       0.0       0.0       0.0       0.0       0.0       0.0       0.0   \n",
      "\n",
      "      state_DE  state_FL  state_GA  ...  total eve minutes  total eve calls  \\\n",
      "3286       0.0       0.0       0.0  ...              222.2              109   \n",
      "86         0.0       0.0       0.0  ...              155.0              101   \n",
      "1349       0.0       0.0       0.0  ...              163.0              105   \n",
      "1649       0.0       0.0       0.0  ...              193.3              110   \n",
      "3000       0.0       0.0       0.0  ...              127.5               86   \n",
      "\n",
      "      total eve charge  total night minutes  total night calls  \\\n",
      "3286             18.89                158.4                 96   \n",
      "86               13.18                189.6                 84   \n",
      "1349             13.86                220.0                 99   \n",
      "1649             16.43                171.5                139   \n",
      "3000             10.84                289.3                 83   \n",
      "\n",
      "      total night charge  total intl minutes  total intl calls  \\\n",
      "3286                7.13                13.1                 8   \n",
      "86                  8.53                 8.0                 5   \n",
      "1349                9.90                 5.6                 3   \n",
      "1649                7.72                10.4                 4   \n",
      "3000               13.02                14.5                 4   \n",
      "\n",
      "      total intl charge  customer service calls  \n",
      "3286               3.54                       0  \n",
      "86                 2.16                       4  \n",
      "1349               1.51                       2  \n",
      "1649               2.81                       0  \n",
      "3000               3.92                       3  \n",
      "\n",
      "[5 rows x 69 columns]\n",
      "\n",
      "\n",
      "3286    0\n",
      "86      1\n",
      "1349    0\n",
      "1649    0\n",
      "3000    0\n",
      "Name: churn, dtype: int64\n"
     ]
    }
   ],
   "source": [
    "# Confirm the encoding\n",
    "print(X_train_encd.head()) # ohe training features\n",
    "print('\\n')\n",
    "print(y_train_final[:5]) # ohe training features"
   ]
  },
  {
   "cell_type": "code",
   "execution_count": 45,
   "metadata": {},
   "outputs": [
    {
     "data": {
      "text/plain": [
       "Index(['state_AL', 'state_AR', 'state_AZ', 'state_CA', 'state_CO', 'state_CT',\n",
       "       'state_DC', 'state_DE', 'state_FL', 'state_GA', 'state_HI', 'state_IA',\n",
       "       'state_ID', 'state_IL', 'state_IN', 'state_KS', 'state_KY', 'state_LA',\n",
       "       'state_MA', 'state_MD', 'state_ME', 'state_MI', 'state_MN', 'state_MO',\n",
       "       'state_MS', 'state_MT', 'state_NC', 'state_ND', 'state_NE', 'state_NH',\n",
       "       'state_NJ', 'state_NM', 'state_NV', 'state_NY', 'state_OH', 'state_OK',\n",
       "       'state_OR', 'state_PA', 'state_RI', 'state_SC', 'state_SD', 'state_TN',\n",
       "       'state_TX', 'state_UT', 'state_VA', 'state_VT', 'state_WA', 'state_WI',\n",
       "       'state_WV', 'state_WY', 'area code_415', 'area code_510',\n",
       "       'international plan_yes', 'voice mail plan_yes', 'account length',\n",
       "       'number vmail messages', 'total day minutes', 'total day calls',\n",
       "       'total day charge', 'total eve minutes', 'total eve calls',\n",
       "       'total eve charge', 'total night minutes', 'total night calls',\n",
       "       'total night charge', 'total intl minutes', 'total intl calls',\n",
       "       'total intl charge', 'customer service calls'],\n",
       "      dtype='object')"
      ]
     },
     "execution_count": 45,
     "metadata": {},
     "output_type": "execute_result"
    }
   ],
   "source": [
    "X_train_encd.columns"
   ]
  },
  {
   "cell_type": "code",
   "execution_count": 46,
   "metadata": {},
   "outputs": [
    {
     "name": "stdout",
     "output_type": "stream",
     "text": [
      "All columns in the training data are numerical.\n"
     ]
    }
   ],
   "source": [
    "# Confirm that all columns in our training data are numerical\n",
    "# Filter out the categorical columns\n",
    "cat_train_columns = X_train_encd.select_dtypes(exclude=['number']).columns\n",
    "\n",
    "if len(cat_train_columns) == 0:\n",
    "    print(\"All columns in the training data are numerical.\")\n",
    "else:\n",
    "    print(\"These columns aren't numeric:\")\n",
    "    print(cat_train_columns)\n"
   ]
  },
  {
   "cell_type": "code",
   "execution_count": 47,
   "metadata": {},
   "outputs": [
    {
     "name": "stdout",
     "output_type": "stream",
     "text": [
      "All columns in the test data are numerical.\n"
     ]
    }
   ],
   "source": [
    "# Confirm that all columns in our testing data are numerical\n",
    "# Filter out the categorical columns\n",
    "cat_test_columns = X_test_encd.select_dtypes(exclude=['number']).columns\n",
    "\n",
    "if len(cat_test_columns) == 0:\n",
    "    print(\"All columns in the test data are numerical.\")\n",
    "else:\n",
    "    print(\"These columns aren't numeric:\")\n",
    "    print(cat_test_columns)\n"
   ]
  },
  {
   "cell_type": "code",
   "execution_count": 48,
   "metadata": {},
   "outputs": [
    {
     "name": "stdout",
     "output_type": "stream",
     "text": [
      "[0 1]\n"
     ]
    }
   ],
   "source": [
    "# Confirm the encoding\n",
    "print(y_train_final.unique())"
   ]
  },
  {
   "cell_type": "code",
   "execution_count": 49,
   "metadata": {},
   "outputs": [
    {
     "name": "stdout",
     "output_type": "stream",
     "text": [
      "[1 0]\n"
     ]
    }
   ],
   "source": [
    "# Confirm the encoding\n",
    "print(y_test_final.unique())"
   ]
  },
  {
   "cell_type": "markdown",
   "metadata": {},
   "source": [
    "##### SCALING THE DATA (Standardization)\n",
    "\n",
    "Did not perform scaling on the target variable as it would distort its meaning. "
   ]
  },
  {
   "cell_type": "code",
   "execution_count": 50,
   "metadata": {},
   "outputs": [],
   "source": [
    "# Standardizing the numerical columns \n",
    "# Initialize the scaler\n",
    "scaler = StandardScaler()\n",
    "\n",
    "# Fit (only on trainng data) and tranform the training data\n",
    "X_train_scaled = scaler.fit_transform(X_train_encd)\n",
    "\n",
    "# Transform the test set using the same scaler fitted on training data\n",
    "X_test_scaled = scaler.transform(X_test_encd)"
   ]
  },
  {
   "cell_type": "markdown",
   "metadata": {},
   "source": [
    "The result of this scaling is Numpy array, so we need to convert the scaled data to dataframes."
   ]
  },
  {
   "cell_type": "code",
   "execution_count": 51,
   "metadata": {},
   "outputs": [],
   "source": [
    "X_train_scaled_df = pd.DataFrame(X_train_scaled, columns=X_train_encd.columns, index=X_train_encd.index)\n",
    "X_test_scaled_df = pd.DataFrame(X_test_scaled, columns=X_test_encd.columns, index=X_test_encd.index)"
   ]
  },
  {
   "cell_type": "markdown",
   "metadata": {},
   "source": [
    "##### CHECKING FOR MULTICOLLINEARITY (VIF)\n",
    "In this section, I calculated VIF on the scaled training data (X_train_scaled_df) since VIF calculations should only be performed on the training dataset.\n",
    "\n",
    "The Variance Inflation Factor (VIF) measures multicollinearity among independent variables, with each VIF value representing how much the variance of a feature is inflated due to correlation with other features.\n",
    "\n",
    "For this project, I decided to combine both VIF and model regularization(during modeling) to deal with multicollinearity.\n",
    "\n",
    "Used VIF analysis to drop a few features with the highest multicollinearity to simplify the data. Then, during modeling, I'll apply regularization (Lasso or Ridge) to further fine-tune feature importance and handle any remaining multicollinearity."
   ]
  },
  {
   "cell_type": "code",
   "execution_count": 52,
   "metadata": {},
   "outputs": [
    {
     "name": "stdout",
     "output_type": "stream",
     "text": [
      "                  Features           VIF\n",
      "56       total day minutes  1.064855e+07\n",
      "58        total day charge  1.064854e+07\n",
      "61        total eve charge  2.252244e+06\n",
      "59       total eve minutes  2.252231e+06\n",
      "62     total night minutes  6.355659e+05\n",
      "..                     ...           ...\n",
      "57         total day calls  1.028460e+00\n",
      "68  customer service calls  1.025810e+00\n",
      "63       total night calls  1.024541e+00\n",
      "54          account length  1.023379e+00\n",
      "66        total intl calls  1.023334e+00\n",
      "\n",
      "[69 rows x 2 columns]\n"
     ]
    }
   ],
   "source": [
    "# Check for multicollinearity with the vif method\n",
    "\n",
    "# Import the library needed\n",
    "from statsmodels.stats.outliers_influence import variance_inflation_factor\n",
    "\n",
    "\n",
    "# Create a vif dataframe that will store the vif results\n",
    "vif_df = pd.DataFrame()\n",
    "\n",
    "\n",
    "# Add feature columns names to this df (from the scaled df)\n",
    "vif_df['Features'] = X_train_scaled_df.columns\n",
    "\n",
    "\n",
    "# Calculate the vif for each column (feature) and put the score in the 'VIF' column in the vif df\n",
    "vif_df['VIF'] = [variance_inflation_factor(X_train_scaled_df.values, i)\n",
    "                for i in range(X_train_scaled_df.shape[1])]\n",
    "\n",
    "\n",
    "print(vif_df.sort_values(by='VIF', ascending=False))"
   ]
  },
  {
   "cell_type": "code",
   "execution_count": 53,
   "metadata": {},
   "outputs": [
    {
     "data": {
      "text/html": [
       "<div>\n",
       "<style scoped>\n",
       "    .dataframe tbody tr th:only-of-type {\n",
       "        vertical-align: middle;\n",
       "    }\n",
       "\n",
       "    .dataframe tbody tr th {\n",
       "        vertical-align: top;\n",
       "    }\n",
       "\n",
       "    .dataframe thead th {\n",
       "        text-align: right;\n",
       "    }\n",
       "</style>\n",
       "<table border=\"1\" class=\"dataframe\">\n",
       "  <thead>\n",
       "    <tr style=\"text-align: right;\">\n",
       "      <th></th>\n",
       "      <th>Features</th>\n",
       "      <th>VIF</th>\n",
       "    </tr>\n",
       "  </thead>\n",
       "  <tbody>\n",
       "    <tr>\n",
       "      <th>0</th>\n",
       "      <td>state_AL</td>\n",
       "      <td>2.556376</td>\n",
       "    </tr>\n",
       "    <tr>\n",
       "      <th>1</th>\n",
       "      <td>state_AR</td>\n",
       "      <td>2.072709</td>\n",
       "    </tr>\n",
       "    <tr>\n",
       "      <th>2</th>\n",
       "      <td>state_AZ</td>\n",
       "      <td>2.351091</td>\n",
       "    </tr>\n",
       "    <tr>\n",
       "      <th>3</th>\n",
       "      <td>state_CA</td>\n",
       "      <td>1.674979</td>\n",
       "    </tr>\n",
       "    <tr>\n",
       "      <th>4</th>\n",
       "      <td>state_CO</td>\n",
       "      <td>2.333731</td>\n",
       "    </tr>\n",
       "    <tr>\n",
       "      <th>...</th>\n",
       "      <td>...</td>\n",
       "      <td>...</td>\n",
       "    </tr>\n",
       "    <tr>\n",
       "      <th>64</th>\n",
       "      <td>total night charge</td>\n",
       "      <td>635562.646604</td>\n",
       "    </tr>\n",
       "    <tr>\n",
       "      <th>65</th>\n",
       "      <td>total intl minutes</td>\n",
       "      <td>70710.289520</td>\n",
       "    </tr>\n",
       "    <tr>\n",
       "      <th>66</th>\n",
       "      <td>total intl calls</td>\n",
       "      <td>1.023334</td>\n",
       "    </tr>\n",
       "    <tr>\n",
       "      <th>67</th>\n",
       "      <td>total intl charge</td>\n",
       "      <td>70709.978987</td>\n",
       "    </tr>\n",
       "    <tr>\n",
       "      <th>68</th>\n",
       "      <td>customer service calls</td>\n",
       "      <td>1.025810</td>\n",
       "    </tr>\n",
       "  </tbody>\n",
       "</table>\n",
       "<p>69 rows × 2 columns</p>\n",
       "</div>"
      ],
      "text/plain": [
       "                  Features            VIF\n",
       "0                 state_AL       2.556376\n",
       "1                 state_AR       2.072709\n",
       "2                 state_AZ       2.351091\n",
       "3                 state_CA       1.674979\n",
       "4                 state_CO       2.333731\n",
       "..                     ...            ...\n",
       "64      total night charge  635562.646604\n",
       "65      total intl minutes   70710.289520\n",
       "66        total intl calls       1.023334\n",
       "67       total intl charge   70709.978987\n",
       "68  customer service calls       1.025810\n",
       "\n",
       "[69 rows x 2 columns]"
      ]
     },
     "execution_count": 53,
     "metadata": {},
     "output_type": "execute_result"
    }
   ],
   "source": [
    "vif_df"
   ]
  },
  {
   "cell_type": "code",
   "execution_count": 54,
   "metadata": {},
   "outputs": [
    {
     "name": "stdout",
     "output_type": "stream",
     "text": [
      "Features with high VIF:\n",
      "                 Features           VIF\n",
      "53    voice mail plan_yes  1.218280e+01\n",
      "55  number vmail messages  1.217342e+01\n",
      "56      total day minutes  1.064855e+07\n",
      "58       total day charge  1.064854e+07\n",
      "59      total eve minutes  2.252231e+06\n",
      "61       total eve charge  2.252244e+06\n",
      "62    total night minutes  6.355659e+05\n",
      "64     total night charge  6.355626e+05\n",
      "65     total intl minutes  7.071029e+04\n",
      "67      total intl charge  7.070998e+04\n"
     ]
    }
   ],
   "source": [
    "# Filter features with high VIF\n",
    "high_vif = vif_df[vif_df['VIF'] > 10]  # Threshold for high VIF\n",
    "print(\"Features with high VIF:\")\n",
    "print(high_vif)"
   ]
  },
  {
   "cell_type": "code",
   "execution_count": 55,
   "metadata": {},
   "outputs": [
    {
     "name": "stdout",
     "output_type": "stream",
     "text": [
      "Features with low VIF:\n",
      "                  Features       VIF\n",
      "0                 state_AL  2.556376\n",
      "1                 state_AR  2.072709\n",
      "2                 state_AZ  2.351091\n",
      "3                 state_CA  1.674979\n",
      "4                 state_CO  2.333731\n",
      "5                 state_CT  2.379547\n",
      "6                 state_DC  2.080227\n",
      "7                 state_DE  2.214619\n",
      "8                 state_FL  2.350148\n",
      "9                 state_GA  1.966979\n",
      "10                state_HI  2.026740\n",
      "11                state_IA  1.797385\n",
      "12                state_ID  2.424377\n",
      "13                state_IL  2.158161\n",
      "14                state_IN  2.342962\n",
      "15                state_KS  2.284022\n",
      "16                state_KY  2.166992\n",
      "17                state_LA  2.004428\n",
      "18                state_MA  2.295891\n",
      "19                state_MD  2.333651\n",
      "20                state_ME  2.263714\n",
      "21                state_MI  2.356445\n",
      "22                state_MN  2.491991\n",
      "23                state_MO  2.259552\n",
      "24                state_MS  2.214930\n",
      "25                state_MT  2.324296\n",
      "26                state_NC  2.271949\n",
      "27                state_ND  2.081058\n",
      "28                state_NE  2.192246\n",
      "29                state_NH  2.121935\n",
      "30                state_NJ  2.266897\n",
      "31                state_NM  2.175674\n",
      "32                state_NV  2.305524\n",
      "33                state_NY  2.512641\n",
      "34                state_OH  2.403744\n",
      "35                state_OK  2.263977\n",
      "36                state_OR  2.357287\n",
      "37                state_PA  1.820075\n",
      "38                state_RI  2.148847\n",
      "39                state_SC  2.102127\n",
      "40                state_SD  2.143892\n",
      "41                state_TN  1.989477\n",
      "42                state_TX  2.355328\n",
      "43                state_UT  2.392088\n",
      "44                state_VA  2.386073\n",
      "45                state_VT  2.308934\n",
      "46                state_WA  2.172116\n",
      "47                state_WI  2.555260\n",
      "48                state_WV  3.082105\n",
      "49                state_WY  2.423308\n",
      "50           area code_415  1.531835\n",
      "51           area code_510  1.531078\n",
      "52  international plan_yes  1.035737\n",
      "54          account length  1.023379\n",
      "57         total day calls  1.028460\n",
      "60         total eve calls  1.032960\n",
      "63       total night calls  1.024541\n",
      "66        total intl calls  1.023334\n",
      "68  customer service calls  1.025810\n",
      "\n",
      "\n",
      "Number of low vif features: 59\n"
     ]
    }
   ],
   "source": [
    "# Filter features with low VIF\n",
    "low_vif = vif_df[vif_df['VIF'] < 10]\n",
    "print(\"Features with low VIF:\")\n",
    "print(low_vif)\n",
    "print('\\n')\n",
    "print(f'Number of low vif features: {len(low_vif)}')"
   ]
  },
  {
   "cell_type": "code",
   "execution_count": 56,
   "metadata": {},
   "outputs": [
    {
     "name": "stdout",
     "output_type": "stream",
     "text": [
      "Remaining Features after dropping:\n",
      "Index(['state_AL', 'state_AR', 'state_AZ', 'state_CA', 'state_CO', 'state_CT',\n",
      "       'state_DC', 'state_DE', 'state_FL', 'state_GA', 'state_HI', 'state_IA',\n",
      "       'state_ID', 'state_IL', 'state_IN', 'state_KS', 'state_KY', 'state_LA',\n",
      "       'state_MA', 'state_MD', 'state_ME', 'state_MI', 'state_MN', 'state_MO',\n",
      "       'state_MS', 'state_MT', 'state_NC', 'state_ND', 'state_NE', 'state_NH',\n",
      "       'state_NJ', 'state_NM', 'state_NV', 'state_NY', 'state_OH', 'state_OK',\n",
      "       'state_OR', 'state_PA', 'state_RI', 'state_SC', 'state_SD', 'state_TN',\n",
      "       'state_TX', 'state_UT', 'state_VA', 'state_VT', 'state_WA', 'state_WI',\n",
      "       'state_WV', 'state_WY', 'area code_415', 'area code_510',\n",
      "       'international plan_yes', 'account length', 'total day calls',\n",
      "       'total eve calls', 'total night calls', 'total intl calls',\n",
      "       'customer service calls'],\n",
      "      dtype='object')\n",
      "\n",
      "\n",
      "59\n"
     ]
    }
   ],
   "source": [
    "# Drop high VIF features on the training set\n",
    "X_train_final = X_train_scaled_df.drop(columns=high_vif['Features'])\n",
    "print(\"Remaining Features after dropping:\")\n",
    "print(X_train_final.columns)\n",
    "print('\\n')\n",
    "print(len(X_train_final.columns))"
   ]
  },
  {
   "cell_type": "code",
   "execution_count": 57,
   "metadata": {},
   "outputs": [
    {
     "name": "stdout",
     "output_type": "stream",
     "text": [
      "Remaining Features after dropping:\n",
      "Index(['state_AL', 'state_AR', 'state_AZ', 'state_CA', 'state_CO', 'state_CT',\n",
      "       'state_DC', 'state_DE', 'state_FL', 'state_GA', 'state_HI', 'state_IA',\n",
      "       'state_ID', 'state_IL', 'state_IN', 'state_KS', 'state_KY', 'state_LA',\n",
      "       'state_MA', 'state_MD', 'state_ME', 'state_MI', 'state_MN', 'state_MO',\n",
      "       'state_MS', 'state_MT', 'state_NC', 'state_ND', 'state_NE', 'state_NH',\n",
      "       'state_NJ', 'state_NM', 'state_NV', 'state_NY', 'state_OH', 'state_OK',\n",
      "       'state_OR', 'state_PA', 'state_RI', 'state_SC', 'state_SD', 'state_TN',\n",
      "       'state_TX', 'state_UT', 'state_VA', 'state_VT', 'state_WA', 'state_WI',\n",
      "       'state_WV', 'state_WY', 'area code_415', 'area code_510',\n",
      "       'international plan_yes', 'account length', 'total day calls',\n",
      "       'total eve calls', 'total night calls', 'total intl calls',\n",
      "       'customer service calls'],\n",
      "      dtype='object')\n",
      "\n",
      "\n",
      "(667, 59)\n"
     ]
    }
   ],
   "source": [
    "# Drop high VIF features in the test set\n",
    "X_test_final = X_test_scaled_df.drop(columns=high_vif['Features'])\n",
    "print(\"Remaining Features after dropping:\")\n",
    "print(X_test_final.columns)\n",
    "print('\\n')\n",
    "print(X_test_final.shape)"
   ]
  },
  {
   "cell_type": "markdown",
   "metadata": {},
   "source": [
    "UP UNTIL THIS POINT, THE TRAINING SET IS THE **X_train_final** and **y_train_final**, AND THE TESTING SET IS THE **X_test_final** and **y_test_final**"
   ]
  },
  {
   "cell_type": "markdown",
   "metadata": {},
   "source": [
    "###### FEATURE SELECTION \n",
    "As mentioned earlier, to further refine the features and improve your logistic regression model's performance, I'll make use of the algorithm's inbuilt feature selection strategy (l1/l2) during modeling. With built-in parameters, feature selection can be seamlessly integrated into logistic regressio"
   ]
  },
  {
   "cell_type": "markdown",
   "metadata": {},
   "source": [
    "##### DEALING WITH THE CLASS IMBALANCE"
   ]
  },
  {
   "cell_type": "markdown",
   "metadata": {},
   "source": [
    "When dealing with class imbalance, I also decided to utilize the model's built-in parameter **class_weight='balanced'** that deals with imbalance by adjusting the weights of each class inversely proportional to their frequencies."
   ]
  },
  {
   "cell_type": "markdown",
   "metadata": {},
   "source": [
    "For feature selection (l1/l2) and addressing class imbalance(class_weight='balanced'), I decided to utilize Logistic Regression's built-in capabilities to simplify the workflow with fewer preprocessing steps."
   ]
  },
  {
   "cell_type": "markdown",
   "metadata": {},
   "source": [
    "## MODELING\n",
    "In this section, classification models are built and evaluated to predict customer churn. The modeling process is carried out iteratively, progressively refining the models to achieve optimal performance. \n",
    "\n",
    "The baseline model will be a simple logistic regression model. This baseline model will then be evaluated and further improvements made for a more robust model.Finally, a transition will be made to a decision tree model, leveraging its interpretability and flexibility, and fine-tune it for further improvements.\n",
    "\n",
    "Logistic regression is my model of choice thanks to its simplicity and statistical interpretability, while the decision tree complements it by offering insights into feature importance and complex decision boundaries. \n",
    "\n",
    "Both models are evaluated on key performance metrics discussed earlier which include; precision, recall, F1-score, and the AUC-ROC curve—to ensure comprehensive assessment and comparison.\n",
    "\n",
    "The ultimate goal is to identify the best-performing model that can generalize well to unseen data and provide actionable insights into customer churn. These insights will inform strategic recommendations to stakeholders and guide the next steps in addressing churn."
   ]
  },
  {
   "cell_type": "markdown",
   "metadata": {},
   "source": [
    "### BASELINE MODEL - LOGISTIC REGRESSION MODEL"
   ]
  },
  {
   "cell_type": "code",
   "execution_count": 58,
   "metadata": {
    "scrolled": false
   },
   "outputs": [
    {
     "name": "stdout",
     "output_type": "stream",
     "text": [
      "Confusion Matrix:\n",
      " [[413 157]\n",
      " [ 38  59]]\n",
      "\n",
      "\n",
      "Classification Report:\n",
      "               precision    recall  f1-score   support\n",
      "\n",
      "           0       0.92      0.72      0.81       570\n",
      "           1       0.27      0.61      0.38        97\n",
      "\n",
      "    accuracy                           0.71       667\n",
      "   macro avg       0.59      0.67      0.59       667\n",
      "weighted avg       0.82      0.71      0.75       667\n",
      "\n",
      "\n",
      "\n",
      "AUC-ROC: 0.694212334961114\n"
     ]
    },
    {
     "data": {
      "image/png": "[encoded data removed]",
      "text/plain": [
       "<Figure size 576x432 with 1 Axes>"
      ]
     },
     "metadata": {
      "needs_background": "light"
     },
     "output_type": "display_data"
    },
    {
     "name": "stdout",
     "output_type": "stream",
     "text": [
      "state_AL: -0.03598842580273994\n",
      "state_AR: 0.0018390184106872997\n",
      "state_AZ: -0.04889356588747555\n",
      "state_CA: 0.1458480941889541\n",
      "state_CO: 0.04778283453220805\n",
      "state_CT: 0.1407967726022681\n",
      "state_DC: -0.041767057891090614\n",
      "state_DE: 0.03350389964350914\n",
      "state_FL: 0.019810969601438095\n",
      "state_GA: 0.053938933649583375\n",
      "state_HI: -0.16611021185904482\n",
      "state_IA: 0.0\n",
      "state_ID: 0.05115144252412717\n",
      "state_IL: -0.0821301311647837\n",
      "state_IN: 0.07245011126084629\n",
      "state_KS: 0.08129393679653998\n",
      "state_KY: 0.014160260984339744\n",
      "state_LA: 0.012057090785201622\n",
      "state_MA: 0.07492183111560394\n",
      "state_MD: 0.14532741049204093\n",
      "state_ME: 0.08081759067951684\n",
      "state_MI: 0.11967503376315561\n",
      "state_MN: 0.09458225179319105\n",
      "state_MO: 0.03438065534322585\n",
      "state_MS: 0.1042353011357326\n",
      "state_MT: 0.15085299529533086\n",
      "state_NC: 0.04048478909796007\n",
      "state_ND: 0.02137935109152411\n",
      "state_NE: -0.04478395314527866\n",
      "state_NH: 0.019962722919004746\n",
      "state_NJ: 0.17765156712406172\n",
      "state_NM: 0.009859255730686998\n",
      "state_NV: 0.11261077199338382\n",
      "state_NY: 0.07677086547647853\n",
      "state_OH: 0.11519262916780297\n",
      "state_OK: 0.0806068437868479\n",
      "state_OR: 0.02817792589835495\n",
      "state_PA: 0.08382347076642561\n",
      "state_RI: -0.03588544078467215\n",
      "state_SC: 0.1770948595622465\n",
      "state_SD: 0.04863192508347761\n",
      "state_TN: -0.0543656918312854\n",
      "state_TX: 0.12750297759719456\n",
      "state_UT: 0.05324418013737218\n",
      "state_VA: -0.12285286959938728\n",
      "state_VT: -0.07352359824127973\n",
      "state_WA: 0.13680075191725521\n",
      "state_WI: -0.014856886245056395\n",
      "state_WV: 0.0\n",
      "state_WY: -0.057467159228877955\n",
      "area code_415: 0.01856969787584766\n",
      "area code_510: -0.07554891134769996\n",
      "international plan_yes: 0.6248266371556657\n",
      "account length: 0.0624532306034544\n",
      "total day calls: 0.11826017546985773\n",
      "total eve calls: 0.07003512938379985\n",
      "total night calls: 0.028244859242161066\n",
      "total intl calls: -0.13277036473658446\n",
      "customer service calls: 0.6042099450983883\n"
     ]
    }
   ],
   "source": [
    "# Build a logistic regression model, ensure feature selection (lasso (l1 regularization)) and... \n",
    "#... class imbalance (class_weight) are addressed in the model. Random state parameter included for reproducibility.\n",
    "\n",
    "# Instatiate the logistic regression model with the required parameters\n",
    "log_reg = LogisticRegression(class_weight = 'balanced', penalty='l1', solver= 'liblinear', random_state =42)\n",
    "\n",
    "\n",
    "# Fit the model on the training data to learn patterns in the training data\n",
    "log_reg.fit(X_train_final, y_train_final)\n",
    "\n",
    "\n",
    "# Evaluate the model's performance with the test set on predicting y (the target)\n",
    "y_pred = log_reg.predict(X_test_final)\n",
    "\n",
    "\n",
    "# Metrics of evaluation\n",
    "# A confusion matrix of the actual y values and the predicted y values\n",
    "print(\"Confusion Matrix:\\n\", confusion_matrix(y_test_final, y_pred))\n",
    "print('\\n')\n",
    "\n",
    "\n",
    "# A classification report with a detailed report on the metrics of our model \n",
    "print(\"Classification Report:\\n\", classification_report(y_test_final, y_pred))\n",
    "\n",
    "\n",
    "# AUC-ROC Curve\n",
    "y_pred_prob = log_reg.predict_proba(X_test_final)[:, 1]\n",
    "roc_auc = roc_auc_score(y_test_final, y_pred_prob)\n",
    "print('\\n')\n",
    "print(\"AUC-ROC:\", roc_auc)\n",
    "\n",
    "\n",
    "# Plotting the ROC Curve\n",
    "fpr, tpr, _ = roc_curve(y_test_final, y_pred_prob)\n",
    "plt.figure(figsize=(8, 6))\n",
    "plt.plot(fpr, tpr, color='b', label='ROC curve (area = %0.2f)' % roc_auc)\n",
    "plt.plot([0, 1], [0, 1], color='gray', linestyle='--')\n",
    "plt.xlabel('False Positive Rate')\n",
    "plt.ylabel('True Positive Rate')\n",
    "plt.title('Receiver Operating Characteristic')\n",
    "plt.show()\n",
    "\n",
    "\n",
    "# Reading and interpreting the coefficients of the model\n",
    "# coefficients\n",
    "coefficients = log_reg.coef_\n",
    "\n",
    "# intercept\n",
    "intercept = log_reg.intercept_\n",
    "\n",
    "# Display coefficients with feature names\n",
    "feature_names = X_train_final.columns\n",
    "for feature, coef in zip(feature_names, coefficients[0]):\n",
    "    print(f\"{feature}: {coef}\")"
   ]
  },
  {
   "cell_type": "markdown",
   "metadata": {},
   "source": [
    "### BASELINE MODEL DISCUSSION\n",
    "\n",
    "#### INTERPRETING THE COEFFICIENTS\n",
    "\n",
    "**Customer Service calls: 0.6042**: Each additional call to customer service increases the odds of churning by 𝑒0.6042≈1.83 or 83%.\n",
    "\n",
    "\n",
    "**international plan_yes : 0.6248**: Customers with an international plan are more likely to churn (positive class).\n",
    "\n",
    "\n",
    "\n",
    "**Area Code** --> **415 coefficient: 0.0186**: Those in area code 415 are slightly more likely to churn but by a very negligible amount.\n",
    "\n",
    "**510 coefficient: -0.0755**: Those in area code 510 are slightly less likely to churn.\n",
    "\n",
    "\n",
    "\n",
    "**Account length: 0.0624**: For every additional day in account length, the odds of churning increased by 6%.\n",
    "\n",
    "\n",
    "**Total Day calls: 0.1183**: For every additional day call, odds of churning increased by 𝑒0.1183≈1.13 or 13%.\n",
    "\n",
    "\n",
    "**Total intl calls: -0.1328**: For every additional international call, odds of churning decrease by 𝑒−0.1328≈0.88 or 12%.\n",
    "\n",
    "\n",
    "**state_IA** and state **state_WV** both with coefficients of 0.0 are likely to be the reference category for the states, meaning that all the other states are compared to this baseline.\n",
    "\n",
    "\n",
    "\n",
    "\n",
    "### INTERPREATING THE METRICS OF THE BASELINE MODEL\n",
    "#### Confusion Matrix\n",
    "\n",
    "True Negatives (TN): 413\n",
    "The model correctly predicted 413 non-churns (0) as non-churn.\n",
    "\n",
    "False Positives (FP): 157\n",
    "The model incorrectly predicted 157 non-churns as churn.\n",
    "\n",
    "False Negatives (FN): 38\n",
    "The model incorrectly predicted 38 churn as non-churn.\n",
    "\n",
    "True Positives (TP): 59\n",
    "The model correctly predicted 59 churn (class 1) as churn.\n",
    "\n",
    "\n",
    "#### Classification Report\n",
    "\n",
    "**Precision:**\n",
    "\n",
    "For class 1 (churn), precision is 0.27, meaning 27% of the predictions labeled as churn are actually churns.\n",
    "For class 0 (non-churn), precision is 0.92, meaning the model is highly accurate when predicting non-churn. But this is because of the class imbalance.\n",
    "\n",
    "\n",
    "**Recall:**\n",
    "\n",
    "For class 1 (churn), recall is 0.61, meaning the model correctly identifies 61% of churns in the dataset.\n",
    "For class 0 (non-churn), recall is 0.72, meaning the model correctly identifies 72% of non-churns.\n",
    "\n",
    "\n",
    "**F1-Score:**\n",
    "\n",
    "For class 1 (churn), F1-score is 0.38, which is low, indicating a poor balance between precision and recall for predicting churn.\n",
    "For class 0 (non-churn), F1-score is 0.81, which is strong.\n",
    "\n",
    "\n",
    "**Overall Accuracy:**\n",
    "The model achieves an accuracy of 71%, but since the dataset is imbalanced, we can't rely on accuracy to be a reliable metric.\n",
    "\n",
    "\n",
    "\n",
    "\n",
    "#### AUC-ROC: 0.694\n",
    "The AUC-ROC score is 0.694, which is decent but not great since an AUC-ROC score near 0.5 indicates random guessing while a score near 1.0 indicates a better distinction between classes.\n",
    "Our score suggests the model has moderate discriminatory power in distinguishing churns from non-churns.\n",
    "\n",
    "\n",
    "\n",
    "\n",
    "#### Overall Evaluation:\n",
    "Overall, the model’s performance is medium. It can identify churns reasonably well but struggles with precision for churn predictions.\n",
    "\n",
    "\n",
    "\n",
    "\n",
    "#### OPTIMIZATION STRATEGIES\n",
    "To improve this model, I tried these approaches;\n",
    "\n",
    "**Hyperparameter Tuning:** Try to improve the regularization strength as well as other parameters.\n",
    "\n",
    "**Alternative Models:** I'll consider other classifiers like decision trees which might handle the imbalance better.\n",
    "\n",
    "**Explore other class balancing strategies:** Try oversampling, undersampling, or synthetic techniques (SMOTE)."
   ]
  },
  {
   "cell_type": "markdown",
   "metadata": {},
   "source": [
    "## OPTIMIZATION 1"
   ]
  },
  {
   "cell_type": "code",
   "execution_count": 59,
   "metadata": {},
   "outputs": [],
   "source": [
    "from sklearn.model_selection import GridSearchCV\n",
    "from imblearn.over_sampling import SMOTE\n",
    "from imblearn.pipeline import Pipeline"
   ]
  },
  {
   "cell_type": "code",
   "execution_count": 60,
   "metadata": {},
   "outputs": [
    {
     "name": "stdout",
     "output_type": "stream",
     "text": [
      "Class distribution after SMOTE:\n",
      "1    2280\n",
      "0    2280\n",
      "Name: churn, dtype: int64\n"
     ]
    }
   ],
   "source": [
    "# Address the class imbalance\n",
    "\n",
    "# Initialize SMOTE with random state for reproducibility\n",
    "smote = SMOTE(random_state=42)\n",
    "\n",
    "# Fit SMOTE to create synthetic data for the minority training data (y)\n",
    "X_train_smot, y_train_smot = smote.fit_resample(X_train_final, y_train_final)\n",
    "\n",
    "# Confirm the new class distribution\n",
    "print(\"Class distribution after SMOTE:\")\n",
    "print(y_train_smot.value_counts())"
   ]
  },
  {
   "cell_type": "markdown",
   "metadata": {},
   "source": [
    "Above, we've dealt with the class imbalance by creating synthetic data for the minority class using SMOTE. As seen in the output above, the distribution of the values after SMOTE is now ideal."
   ]
  },
  {
   "cell_type": "code",
   "execution_count": 61,
   "metadata": {},
   "outputs": [],
   "source": [
    "# Hyperparameter Tuning\n",
    "# We’ll include cross-validation to find the best hyperparameters.\n",
    "\n",
    "# Instatiate the logistic regression model (use d l2 regularization & class weight from the baseline)\n",
    "log_reg = LogisticRegression( class_weight='balanced', penalty='l2' , solver='liblinear', random_state=42)\n",
    "\n",
    "\n",
    "# Set up hyperparameter grid that'll help identify the best hyperparameters for the model\n",
    "param_grid = param_grid = {\n",
    "    'C': [0.01, 0.1, 1, 10, 100]  # Regularization strength\n",
    "}\n",
    "\n",
    "# Use a pipeline to bundle up all these processes into a single object that can be called later.  \n",
    "pipeline = Pipeline(steps=[('smote', SMOTE(random_state=42)), ('log_reg', log_reg)])\n",
    "\n",
    "\n",
    "# Use GridSearchCV to find the best hyperparameter combo with cross validation\n",
    "grid_search = GridSearchCV(\n",
    "    estimator = pipeline,\n",
    "    param_grid = {'log_reg__C': param_grid['C']},\n",
    "    cv = 5,   #five-fold cross validation\n",
    "    scoring = 'roc_auc',\n",
    "    n_jobs=-1\n",
    ")"
   ]
  },
  {
   "cell_type": "code",
   "execution_count": 62,
   "metadata": {},
   "outputs": [
    {
     "name": "stdout",
     "output_type": "stream",
     "text": [
      "Best regularization strength (C): {'log_reg__C': 0.1}\n"
     ]
    }
   ],
   "source": [
    "# Train the model\n",
    "# grid_search contain our model, the pipeline with the processing steps, and the parameter grid. So we fit the grid search..\n",
    "#... to the training model.\n",
    "grid_search.fit(X_train_smot, y_train_smot)\n",
    "\n",
    "\n",
    "# Get the best model\n",
    "best_model = grid_search.best_estimator_\n",
    "\n",
    "\n",
    "# Best hyperparameter value\n",
    "print(\"Best regularization strength (C):\", grid_search.best_params_)"
   ]
  },
  {
   "cell_type": "code",
   "execution_count": 63,
   "metadata": {
    "scrolled": false
   },
   "outputs": [
    {
     "name": "stdout",
     "output_type": "stream",
     "text": [
      "Confusion Matrix:\n",
      " [[409 161]\n",
      " [ 38  59]]\n",
      "\n",
      "\n",
      "Classification Report:\n",
      "               precision    recall  f1-score   support\n",
      "\n",
      "           0       0.91      0.72      0.80       570\n",
      "           1       0.27      0.61      0.37        97\n",
      "\n",
      "    accuracy                           0.70       667\n",
      "   macro avg       0.59      0.66      0.59       667\n",
      "weighted avg       0.82      0.70      0.74       667\n",
      "\n",
      "\n",
      "\n",
      "AUC-ROC: 0.6851148489781155\n",
      "\n",
      "\n"
     ]
    },
    {
     "data": {
      "image/png": "[encoded data removed]",
      "text/plain": [
       "<Figure size 432x288 with 1 Axes>"
      ]
     },
     "metadata": {
      "needs_background": "light"
     },
     "output_type": "display_data"
    }
   ],
   "source": [
    "# Evaluation of the optimized model\n",
    "\n",
    "# Predict the test set\n",
    "y_pred = best_model.predict(X_test_final)\n",
    "y_pred_prob = best_model.predict_proba(X_test_final)[:, 1]\n",
    "\n",
    "\n",
    "# Confusion Matrix\n",
    "conf_matrix = confusion_matrix(y_test_final, y_pred)\n",
    "print(\"Confusion Matrix:\\n\", conf_matrix)\n",
    "print('\\n')\n",
    "\n",
    "\n",
    "# Classification Report\n",
    "class_report = classification_report(y_test_final, y_pred)\n",
    "print(\"Classification Report:\\n\", class_report)\n",
    "print('\\n')\n",
    "\n",
    "\n",
    "# AUC-ROC\n",
    "roc_auc = roc_auc_score(y_test_final, y_pred_prob)\n",
    "print(\"AUC-ROC:\", roc_auc)\n",
    "print('\\n')\n",
    "\n",
    "\n",
    "\n",
    "# Plotting the ROC Curve\n",
    "fpr, tpr, thresholds = roc_curve(y_test_final, y_pred_prob)\n",
    "plt.plot(fpr, tpr, label=f\"ROC Curve (AUC = {roc_auc:.2f})\")\n",
    "plt.plot([0, 1], [0, 1], 'k--', label='Random Classifier')\n",
    "plt.xlabel('False Positive Rate')\n",
    "plt.ylabel('True Positive Rate')\n",
    "plt.title('ROC Curve')\n",
    "plt.legend()\n",
    "plt.show()"
   ]
  },
  {
   "cell_type": "markdown",
   "metadata": {},
   "source": [
    "###  OPTIMIZATION 1 DISCUSSION\n",
    "\n",
    "**BASELINE vs OPTIMIZATION 1 METRICS**\n",
    "\n",
    "**Accuracy**: Decreased from 0.71 (baseline) to 0.69 (optimized).\n",
    "\n",
    "**AUC-ROC**: Dropped from 0.694 to 0.687, indicating the optimized model is slightly less effective at distinguishing between churn and no churn.\n",
    "\n",
    "**F1-score for Class 1 (Churn)**: Decreased slightly from 0.38 (baseline) to 0.37 (optimized), showing reduced performance in balancing precision and recall for the minority class.\n",
    "\n",
    "\n",
    "**While these differences are subtle, they reveal that hyperparameter tuning and SMOTE did not improve the model as expected.**\n",
    "\n",
    "\n",
    "\n",
    "\n",
    "**FURTHER OPTIMIZATION STRATEGY**\n",
    "\n",
    "1. Explore alternative resampling rtrategies: Instead of SMOTE, try ADASYN (Adaptive Synthetic Sampling).\n",
    "\n",
    "2. Try expanding the hyperparameter grid: Include a broader range of the C values.\n",
    "\n",
    "3. Try l2 regularization to see if sparsity improves the model."
   ]
  },
  {
   "cell_type": "markdown",
   "metadata": {},
   "source": [
    "### OPTIMIZATION 2"
   ]
  },
  {
   "cell_type": "code",
   "execution_count": 64,
   "metadata": {},
   "outputs": [
    {
     "name": "stdout",
     "output_type": "stream",
     "text": [
      "Class distribution after ADASYN:\n",
      "1    2321\n",
      "0    2280\n",
      "Name: churn, dtype: int64\n"
     ]
    }
   ],
   "source": [
    "# Initialize ADASYN with random state for reproducibility\n",
    "adasyn = ADASYN(random_state=42)\n",
    "\n",
    "# Fit ADASYN to create synthetic data for the minority training data (y)\n",
    "X_train_adasyn, y_train_adasyn = adasyn.fit_resample(X_train_final, y_train_final)\n",
    "\n",
    "# Confirm the new class distribution\n",
    "print(\"Class distribution after ADASYN:\")\n",
    "print(y_train_adasyn.value_counts())"
   ]
  },
  {
   "cell_type": "code",
   "execution_count": 65,
   "metadata": {},
   "outputs": [
    {
     "name": "stdout",
     "output_type": "stream",
     "text": [
      "Fitting 5 folds for each of 7 candidates, totalling 35 fits\n"
     ]
    },
    {
     "name": "stderr",
     "output_type": "stream",
     "text": [
      "[Parallel(n_jobs=-1)]: Using backend LokyBackend with 8 concurrent workers.\n",
      "[Parallel(n_jobs=-1)]: Done  35 out of  35 | elapsed:    2.1s finished\n"
     ]
    },
    {
     "name": "stdout",
     "output_type": "stream",
     "text": [
      "Confusion Matrix:\n",
      " [[364 206]\n",
      " [ 34  63]]\n",
      "\n",
      "\n",
      "Classification Report:\n",
      "               precision    recall  f1-score   support\n",
      "\n",
      "           0       0.91      0.64      0.75       570\n",
      "           1       0.23      0.65      0.34        97\n",
      "\n",
      "    accuracy                           0.64       667\n",
      "   macro avg       0.57      0.64      0.55       667\n",
      "weighted avg       0.82      0.64      0.69       667\n",
      "\n",
      "\n",
      "\n",
      "AUC-ROC: 0.6861276903599204\n"
     ]
    }
   ],
   "source": [
    "# Initialize Logistic Regression\n",
    "log_reg = LogisticRegression(\n",
    "    class_weight='balanced', penalty='l2', solver='liblinear', random_state=42\n",
    ")\n",
    "\n",
    "\n",
    "# Define hyperparameter grid\n",
    "param_grid = {\n",
    "    'C': [0.001, 0.01, 0.1, 1, 10, 100, 1000]  # Expanding the Regularization strengths\n",
    "}\n",
    "\n",
    "\n",
    "# Define pipeline with ADASYN that houses all algorithm and class balancing strategy\n",
    "pipeline = Pipeline(steps=[\n",
    "    ('adasyn', ADASYN(random_state=42)),  # Apply ADASYN during training\n",
    "    ('log_reg', log_reg)  # Logistic Regression model\n",
    "])\n",
    "\n",
    "\n",
    "# Perform Grid Search Cross-Validation\n",
    "grid_search = GridSearchCV(\n",
    "    estimator=pipeline,\n",
    "    param_grid={'log_reg__C': param_grid['C']},\n",
    "    cv=5,  # Five-fold cross-validation\n",
    "    scoring='roc_auc',  # Use AUC-ROC as the evaluation metric\n",
    "    verbose=1,\n",
    "    n_jobs=-1\n",
    ")\n",
    "\n",
    "\n",
    "# Train the model\n",
    "grid_search.fit(X_train_final, y_train_final)\n",
    "\n",
    "\n",
    "# Get the best model\n",
    "best_model = grid_search.best_estimator_\n",
    "\n",
    "\n",
    "# Evaluate the optimized model\n",
    "y_pred = best_model.predict(X_test_final)\n",
    "y_pred_prob = best_model.predict_proba(X_test_final)[:, 1]\n",
    "\n",
    "\n",
    "# Metrics and evaluation\n",
    "conf_matrix = confusion_matrix(y_test_final, y_pred)\n",
    "print(\"Confusion Matrix:\\n\", conf_matrix)\n",
    "print('\\n')\n",
    "\n",
    "\n",
    "class_report = classification_report(y_test_final, y_pred)\n",
    "print(\"Classification Report:\\n\", class_report)\n",
    "print('\\n')\n",
    "\n",
    "\n",
    "roc_auc = roc_auc_score(y_test_final, y_pred_prob)\n",
    "print(\"AUC-ROC:\", roc_auc)"
   ]
  },
  {
   "cell_type": "markdown",
   "metadata": {},
   "source": [
    "### OPTIMIZATION 2 DISCUSSION\n",
    "\n",
    "**OPTIMIZATION 2 METRICS**\n",
    "\n",
    "**Recall**: for the minority class improved (from 61% with SMOTE to 65%), indicating the model detected slightly more churn cases.\n",
    "\n",
    "**Precision**: for the minority class dropped significantly (from 27% to 23%), meaning that many of the predicted churn cases were false positives.\n",
    "  \n",
    "- Because of this tradeoff, we got a lower **F1-score (34%)** for the minority class compared to SMOTE (37%), since F1-score balances precision and recall.\n",
    "\n",
    "**Overall accuracy**: dropped (from 70% to 64%), suggesting a higher number of incorrect predictions.\n",
    "\n",
    "\n",
    "\n",
    "- This model performance dropped compared to the first optimization\n",
    "\n",
    "\n",
    "\n",
    "**FURTHER OPTIMIZATION STRATEGIES**\n",
    "\n",
    "**Explore decision tree model:** Since class imbalance is the biggest issue with this dataset, I decided to try modeling with decision trees which can often handle imbalanced data better because they don't assume linear decision boundaries."
   ]
  },
  {
   "cell_type": "markdown",
   "metadata": {},
   "source": [
    "### DECISION TREE"
   ]
  },
  {
   "cell_type": "code",
   "execution_count": 66,
   "metadata": {},
   "outputs": [
    {
     "name": "stdout",
     "output_type": "stream",
     "text": [
      "Confusion Matrix:\n",
      " [[488  82]\n",
      " [ 66  31]]\n",
      "\n",
      "\n",
      "Classification Report:\n",
      "               precision    recall  f1-score   support\n",
      "\n",
      "           0       0.88      0.86      0.87       570\n",
      "           1       0.27      0.32      0.30        97\n",
      "\n",
      "    accuracy                           0.78       667\n",
      "   macro avg       0.58      0.59      0.58       667\n",
      "weighted avg       0.79      0.78      0.78       667\n",
      "\n",
      "\n",
      "\n",
      "AUC-ROC: 0.5878639898715862\n",
      "\n",
      "\n"
     ]
    },
    {
     "data": {
      "image/png": "[encoded data removed]",
      "text/plain": [
       "<Figure size 432x288 with 1 Axes>"
      ]
     },
     "metadata": {
      "needs_background": "light"
     },
     "output_type": "display_data"
    }
   ],
   "source": [
    "#Instatiate a simple Decision Tree baseline model with random state for reproducibility\n",
    "dt_baseline = DecisionTreeClassifier(random_state=42)\n",
    "\n",
    "\n",
    "#Train on the training data (fit)\n",
    "dt_baseline.fit(X_train_final, y_train_final)\n",
    "\n",
    "\n",
    "#Predict on the test set\n",
    "y_pred = dt_baseline.predict(X_test_final)\n",
    "y_pred_prob = dt_baseline.predict_proba(X_test_final)[:, 1]\n",
    "\n",
    "\n",
    "# Evaluate the baseline Decision Tree's performance\n",
    "conf_matrix = confusion_matrix(y_test_final, y_pred)\n",
    "print(\"Confusion Matrix:\\n\", conf_matrix)\n",
    "print('\\n')\n",
    "\n",
    "\n",
    "class_report = classification_report(y_test_final, y_pred)\n",
    "print(\"Classification Report:\\n\", class_report)\n",
    "print('\\n')\n",
    "\n",
    "\n",
    "roc_auc = roc_auc_score(y_test_final, y_pred_prob)\n",
    "print(\"AUC-ROC:\", roc_auc)\n",
    "print('\\n')\n",
    "\n",
    "\n",
    "# Plot the ROC Curve\n",
    "fpr, tpr, thresholds = roc_curve(y_test_final, y_pred_prob)\n",
    "plt.plot(fpr, tpr, label=f\"ROC Curve (AUC = {roc_auc:.2f})\")\n",
    "plt.plot([0, 1], [0, 1], 'k--', label='Random Classifier')\n",
    "plt.xlabel('False Positive Rate')\n",
    "plt.ylabel('True Positive Rate')\n",
    "plt.title('ROC Curve - Baseline Decision Tree')\n",
    "plt.legend()\n",
    "plt.show()"
   ]
  },
  {
   "cell_type": "markdown",
   "metadata": {},
   "source": [
    "### DECISION TREE BASELINE DISCUSSION\n",
    "\n",
    "**Accuracy : 78%**: The decision tree improved accuracy by better classifying the majority class (0), which is evident from a higher true positive count for class 0 (488 vs. 364). However, this came at the cost of minority-class performance.\n",
    "\n",
    "\n",
    "\n",
    " **Precision (Minority Class): 27%**: The decision tree produced fewer false positives for the minority class (1), which led to a slight precision increase. With Logistic regression, with ADASYN, overfit of the synthetic data may have occured leading to more false positives.\n",
    "\n",
    "\n",
    "**AUC-ROC : 0.588**: dropped compared to the logistic regression probably because it struggled to rank the positive class effectively.\n",
    "\n",
    "\n",
    "\n",
    "- Decision trees achieved a higher overall accuracy (**78%**) by focusing on correctly classifying the majority class, with **86% recall** but this could be due to the class imbalance in the dataset.\n",
    "- The tree performed marginally better in minority-class precision, as it made fewer false positive predictions for class 1.\n",
    "\n",
    "- Since decision trees are often biased toward the majority class, this model struggled to identify minority-class samples (**32% recall**) for class 1.  \n",
    "\n",
    "- The model's lower AUC-ROC score reflects its inability to rank predictions probabilistically.\n",
    "\n",
    "\n",
    "Class imbalance still proved to be a huge problem in this model. Also, in decision trees, without rebalancing, the model focused on the majority class during splits.\n",
    "\n",
    "\n",
    "\n",
    "\n",
    "**FURTHER OPTIMIZATION STRATEGY**\n",
    "1. Apply **class weights** to penalize misclassification of the minority class class 1.\n",
    "\n",
    "2. Optimize hyperparameters (max_depth, min_samples_split, etc.) to balance performance for both classes."
   ]
  },
  {
   "cell_type": "markdown",
   "metadata": {},
   "source": [
    "### OPTIMIZED DECISION TREE"
   ]
  },
  {
   "cell_type": "code",
   "execution_count": 67,
   "metadata": {},
   "outputs": [
    {
     "name": "stdout",
     "output_type": "stream",
     "text": [
      "Fitting 5 folds for each of 100 candidates, totalling 500 fits\n"
     ]
    },
    {
     "name": "stderr",
     "output_type": "stream",
     "text": [
      "[Parallel(n_jobs=-1)]: Using backend LokyBackend with 8 concurrent workers.\n",
      "[Parallel(n_jobs=-1)]: Done  52 tasks      | elapsed:    0.4s\n",
      "[Parallel(n_jobs=-1)]: Done 485 out of 500 | elapsed:    4.6s remaining:    0.0s\n",
      "[Parallel(n_jobs=-1)]: Done 500 out of 500 | elapsed:    4.7s finished\n"
     ]
    },
    {
     "name": "stdout",
     "output_type": "stream",
     "text": [
      "Best Hyperparameters: {'class_weight': 'balanced', 'max_depth': 3, 'min_samples_leaf': 8, 'min_samples_split': 2}\n"
     ]
    }
   ],
   "source": [
    "# Instatiate the Decision Tree with default settings\n",
    "dt = DecisionTreeClassifier(random_state=42)\n",
    "\n",
    "\n",
    "# Set up the hyperparameter grid\n",
    "param_grid = {\n",
    "    'max_depth': [3, 5, 10, 15],   #how deep the tree can grow\n",
    "    'min_samples_split': [2, 5, 10, 15, 20], #min number of samples for a split\n",
    "    'min_samples_leaf': [1, 2, 4, 6, 8],   #min number of samples on the leaf node\n",
    "    'class_weight': ['balanced']\n",
    "}\n",
    "\n",
    "\n",
    "# Perform Grid Search\n",
    "grid_search_dt = GridSearchCV(\n",
    "    estimator=dt,\n",
    "    param_grid=param_grid,\n",
    "    cv=5,\n",
    "    scoring='roc_auc',\n",
    "    verbose=1,\n",
    "    n_jobs=-1\n",
    ")\n",
    "\n",
    "\n",
    "# Train the model using GridSearchCV\n",
    "grid_search_dt.fit(X_train_final, y_train_final)\n",
    "\n",
    "\n",
    "# Get the best model\n",
    "best_dt = grid_search_dt.best_estimator_\n",
    "\n",
    "\n",
    "# Best hyperparameter combination\n",
    "print(\"Best Hyperparameters:\", grid_search_dt.best_params_)"
   ]
  },
  {
   "cell_type": "code",
   "execution_count": 68,
   "metadata": {},
   "outputs": [
    {
     "name": "stdout",
     "output_type": "stream",
     "text": [
      "Confusion Matrix:\n",
      " [[498  72]\n",
      " [ 48  49]]\n",
      "\n",
      "\n",
      "Classification Report:\n",
      "               precision    recall  f1-score   support\n",
      "\n",
      "           0       0.91      0.87      0.89       570\n",
      "           1       0.40      0.51      0.45        97\n",
      "\n",
      "    accuracy                           0.82       667\n",
      "   macro avg       0.66      0.69      0.67       667\n",
      "weighted avg       0.84      0.82      0.83       667\n",
      "\n",
      "\n",
      "\n",
      "AUC-ROC: 0.7019081208175078\n",
      "\n",
      "\n"
     ]
    },
    {
     "data": {
      "image/png": "[encoded data removed]",
      "text/plain": [
       "<Figure size 432x288 with 1 Axes>"
      ]
     },
     "metadata": {
      "needs_background": "light"
     },
     "output_type": "display_data"
    }
   ],
   "source": [
    "# Mak predictions on the testing set\n",
    "y_pred_optimized = best_dt.predict(X_test_final)\n",
    "y_pred_prob_optimized = best_dt.predict_proba(X_test_final)[:, 1]\n",
    "\n",
    "\n",
    "# Evaluation\n",
    "# Confusion Matrix\n",
    "conf_matrix_optimized = confusion_matrix(y_test_final, y_pred_optimized)\n",
    "print(\"Confusion Matrix:\\n\", conf_matrix_optimized)\n",
    "print('\\n')\n",
    "\n",
    "\n",
    "# Classification Report\n",
    "class_report_optimized = classification_report(y_test_final, y_pred_optimized)\n",
    "print(\"Classification Report:\\n\", class_report_optimized)\n",
    "print('\\n')\n",
    "\n",
    "\n",
    "# AUC-ROC\n",
    "roc_auc_optimized = roc_auc_score(y_test_final, y_pred_prob_optimized)\n",
    "print(\"AUC-ROC:\", roc_auc_optimized)\n",
    "print('\\n')\n",
    "\n",
    "\n",
    "# Plot the ROC Curve\n",
    "fpr, tpr, thresholds = roc_curve(y_test_final, y_pred_prob_optimized)\n",
    "plt.plot(fpr, tpr, label=f\"ROC Curve (AUC = {roc_auc_optimized:.2f})\")\n",
    "plt.plot([0, 1], [0, 1], 'k--', label='Random Classifier')\n",
    "plt.xlabel('False Positive Rate')\n",
    "plt.ylabel('True Positive Rate')\n",
    "plt.title('ROC Curve - Optimized Decision Tree')\n",
    "plt.legend()\n",
    "plt.show()"
   ]
  },
  {
   "cell_type": "markdown",
   "metadata": {},
   "source": [
    "#### INTERPRETATION OF THE OPTIMIZED DECISION TREE (discussing feature importance)"
   ]
  },
  {
   "cell_type": "code",
   "execution_count": 69,
   "metadata": {},
   "outputs": [
    {
     "data": {
      "image/png": "[encoded data removed]",
      "text/plain": [
       "<Figure size 720x432 with 1 Axes>"
      ]
     },
     "metadata": {
      "needs_background": "light"
     },
     "output_type": "display_data"
    }
   ],
   "source": [
    "# Extract feature importance\n",
    "feature_importances = best_dt.feature_importances_\n",
    "\n",
    "# Create a DataFrame to better interpret\n",
    "feature_importance_df = pd.DataFrame({\n",
    "    'Feature': X_test_final.columns, \n",
    "    'Importance': feature_importances\n",
    "}).sort_values(by='Importance', ascending=False)\n",
    "#print(feature_importance_df)\n",
    "#print('\\n')\n",
    "\n",
    "\n",
    "# Filter the features with importance greater than 0\n",
    "feature_importance_filtered = feature_importance_df[feature_importance_df['Importance'] > 0]\n",
    "\n",
    "# Visualizing only features with importance > 0\n",
    "plt.figure(figsize=(10, 6))\n",
    "plt.barh(feature_importance_filtered['Feature'], feature_importance_filtered['Importance'], color='skyblue')\n",
    "plt.xlabel('Feature Importance')\n",
    "plt.ylabel('Features')\n",
    "plt.title('Feature Importance - Decision Tree (Filtered)')\n",
    "plt.gca().invert_yaxis()  # To have the most important feature on top\n",
    "plt.show()"
   ]
  },
  {
   "cell_type": "markdown",
   "metadata": {},
   "source": [
    "Features with larger importance values contribute more to splitting and reducing impurity in the tree. These features are the most influential for the model's predictions. Features with an importance of 0 are not used at any node in the tree.\n",
    "\n",
    "From the visualization above the features plotted influenced the model the most. As observed, customer service calls has the highest feature importance score meaning it contributed the most. This was also evident in the logistic regression where we observed its coefficients. \n",
    "\n",
    "International_plan_yes and total_intl_calls columns also contributed significantly to splitting and reducing the tree's impurity."
   ]
  },
  {
   "cell_type": "code",
   "execution_count": 70,
   "metadata": {},
   "outputs": [
    {
     "data": {
      "image/png": "[encoded data removed]",
      "text/plain": [
       "<Figure size 1440x720 with 1 Axes>"
      ]
     },
     "metadata": {
      "needs_background": "light"
     },
     "output_type": "display_data"
    }
   ],
   "source": [
    "#Visualise the decision tree\n",
    "from sklearn.tree import plot_tree\n",
    "\n",
    "plt.figure(figsize=(20, 10))\n",
    "plot_tree(best_dt, feature_names=X_test_final.columns, class_names=['Class 0', 'Class 1'], filled=True)\n",
    "plt.show()"
   ]
  },
  {
   "cell_type": "markdown",
   "metadata": {},
   "source": [
    "### DECISION TREE OPTIMIZATION DISCUSSION\n",
    "\n",
    "**OPTIMIZED vs BASELINE METRICS**\n",
    "\n",
    "**Accuracy:** Baseline: 78% and Optimized: 87%  \n",
    "\n",
    "We can attribute this increase in accuracy to tuning hyperparameters (like max_depth, min_samples_split, etc.). These hyperparameters allowed the tree to generalize better. However, we cannot rely on this metric alone since our dataset is highly imbalanced.\n",
    "\n",
    "\n",
    "**Recall (Class 1):** Baseline: 32% and Optimized: 27%  \n",
    "\n",
    "This decline may be because the model focused on increasing the overall accuracy and precision for the minority class which came at the cost of detecting the minority-class samples.\n",
    "\n",
    "\n",
    "**Precision (Class 1):** Baseline: 27% and Optimized: 59%  \n",
    "\n",
    "By utilizing class weights, the tree reduced false positives for the minority class, improving precision significantly.\n",
    "\n",
    "\n",
    "**AUC-ROC:** Baseline: 0.59 and Optimized: 0.70  \n",
    "\n",
    "The optimized decision tree provides a better ranking of predicted probabilities for distinguishing between class 0 and class 1.\n",
    "\n",
    "\n",
    "**This is an improved model compared to the baseline.**"
   ]
  },
  {
   "cell_type": "markdown",
   "metadata": {},
   "source": [
    "## MODELS COMPARISON"
   ]
  },
  {
   "cell_type": "markdown",
   "metadata": {},
   "source": [
    "In this project, I built and evaluated multiple models to predict customer churn. The baseline logistic regression model achieved an accuracy of 64% and an AUC-ROC of 0.6861, demonstrating strong precision (91%) for the negative class but struggling with the positive class, where precision was only 23%. The low f1-score (0.34) for the positive class highlighted the model's challenges in effectively handling the imbalanced dataset, particularly in identifying minority cases.\n",
    "\n",
    "To address class imbalance, I optimized logistic regression using SMOTE and ADASYN. The SMOTE-optimized model slightly improved accuracy to 70% and increased recall for the positive class but sacrificed precision. ADASYN, however, led to instability, with a drop in accuracy to 64% and imbalanced metrics, making it less suitable for deployment.\n",
    "\n",
    "I then shifted to decision tree models, where the baseline decision tree achieved higher accuracy (78%) but suffered from poor recall (32%) and a low AUC-ROC (0.5878). By optimizing the decision tree through hyperparameter tuning, I achieved a decent performance, with an accuracy of 87% and an AUC-ROC of 0.7024. The optimized decision tree balanced precision (59%) and recall (27%) for the positive class, while maintaining good performance for the negative class (precision: 89%, recall: 97%). The decision tree's ability to slightly better handle class imbalance made it the model of choice for this prediction task. However, the model still struggled with the imbalance. "
   ]
  },
  {
   "cell_type": "markdown",
   "metadata": {},
   "source": [
    "#### FINAL MODEL"
   ]
  },
  {
   "cell_type": "markdown",
   "metadata": {},
   "source": [
    "The final model, an **optimized decision tree**, achieved a decent balance between accuracy and interpretability. By preprocessing categorical variables with one-hot encoding and incorporating key numerical features like account length and customer service calls, the model performed well. Hyperparameter tuning further enhanced performance, achieving 87% accuracy and an AUC-ROC of 0.7024, with features such as customer service calls and international plan identified as critical churn predictors."
   ]
  },
  {
   "cell_type": "markdown",
   "metadata": {},
   "source": [
    "## RECOMMENDATIONS"
   ]
  },
  {
   "cell_type": "markdown",
   "metadata": {},
   "source": [
    "- **Enhance customer service:** Improve efficiency and quality of customer service to resolve issues quickly and efficiently and reduce churn, as high customer service calls signal dissatisfaction.  \n",
    "\n",
    "- **Consider offering tailored and improved plans for international users:** Design flexible international plans and conduct targeted marketing to address dissatisfaction among users of these plans.  \n",
    "\n",
    "- **Consider developing state-specific retention strategies:** Analyze regional trends and implement retention strategies tailored to the locals, like community engagement, to address state-specific churn patterns.  \n",
    "\n",
    "- **Identify at-risk clients early:** Use the model predictions to create a warning system for at-risk customers, deploying personalized offers, discounts, or loyalty rewards to retain them.  \n",
    "\n",
    "- **Improve data collection strategies:** Ensure data colleted is diverse and useful for better analysis and modeling in the future."
   ]
  },
  {
   "cell_type": "markdown",
   "metadata": {},
   "source": [
    "## CONCLUSION"
   ]
  },
  {
   "cell_type": "markdown",
   "metadata": {},
   "source": [
    "This analysis identified key predictors of churn, which include **international plan**(whether a customer has an international plan or not), **customer service calls**(the number of calls the clients has made to customer service calls, and **account length**(how long the customer has been with the company). Logistic regression initially outperformed in accuracy and AUC-ROC, but an optimized decision tree, enhanced through hyperparameter tuning and feature refinement, ultimately delivered a more balanced performance. Efforts to address class imbalance using SMOTE improved recall for the minority class, while ADASYN had limited impact. The optimized decision tree was selected as the final model, though further tuning is recommended to improve recall and ensure robust churn predictions."
   ]
  },
  {
   "cell_type": "markdown",
   "metadata": {},
   "source": [
    "## NEXT STEPS"
   ]
  },
  {
   "cell_type": "markdown",
   "metadata": {},
   "source": [
    "- **Further tune and perfect the model**: Explore more complex models like random forests or further tune the models built here for improved generalization.\n",
    "\n",
    "- **Model deployment**: After further fine-tuning and perfecting, deploy the optimized decision tree model into production, ensuring it's accessible to end-users for real-time predictions of customer churn.\n",
    "\n",
    "- **Monitor the model performance**: Track the model's performance over time to ensure it maintains its predictive accuracy and to identify any drift.\n",
    "\n",
    "- **Collect more data that is also diverse**: Collect additional data, especially on features like customer demographics, usage patterns, and service plans, to improve model robustness.\n",
    "\n",
    "\n",
    "- **User feedback integration**: Gather feedback from the end users to understand practical challenges and adjust the model based on user input."
   ]
  }
 ],
 "metadata": {
  "kernelspec": {
   "display_name": "Python (learn-env)",
   "language": "python",
   "name": "learn-env"
  },
  "language_info": {
   "codemirror_mode": {
    "name": "ipython",
    "version": 3
   },
   "file_extension": ".py",
   "mimetype": "text/x-python",
   "name": "python",
   "nbconvert_exporter": "python",
   "pygments_lexer": "ipython3",
   "version": "3.8.5"
  }
 },
 "nbformat": 4,
 "nbformat_minor": 4
}
