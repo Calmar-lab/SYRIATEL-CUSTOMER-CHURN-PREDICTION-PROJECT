{
 "cells": [
  {
   "cell_type": "markdown",
   "metadata": {},
   "source": [
    "# SYRIATEL CUSTOMER CHURN PREDICTION PROJECT"
   ]
  },
  {
   "cell_type": "markdown",
   "metadata": {},
   "source": [
    "**This project aims to build a classifier to predict whether a customer will (\"soon\") stop doing business with SyriaTel, a telecommunications company. This is a binary classification problem. The project entails data preprocessing, analysis, model selection, and evaluation to achieve accurate and actionable predictions.**"
   ]
  },
  {
   "cell_type": "markdown",
   "metadata": {},
   "source": [
    "## BUSINESS OVERVIEW"
   ]
  },
  {
   "cell_type": "markdown",
   "metadata": {},
   "source": [
    "Customer churn, or customer attrition, refers to customers ceasing to do business with a company, often by switching to competitors or stopping services altogether. For companies like SyriaTel, churn directly affects revenue and profitability, making it essential to monitor and address churns proactively. Reducing churn is vital for retaining customers, sustaining growth, and remaining competitive in the market.\n",
    "\n",
    "Detecting churn involves processes like analyzing customer behavior to identify signs such as reduced usage, complaints, or payment changes. While modern machine learning techniques improve accuracy, challenges like class imbalances and evolving customer behaviors complicate the process. External factors, such as market conditions and competitor actions, further influence customer decisions, requiring businesses like SyriaTel to adapt their strategies continuously.\n",
    "\n",
    "To tackle this project, a structured approach is needed. This includes data preprocessing, feature engineering, and training machine learning models to identify at-risk customers. By leveraging actionable insights from these models, SyriaTel can implement targeted retention strategies, such as personalized offers and enhanced customer service, to reduce churn, improve customer satisfaction, and support long-term growth.\n",
    "\n",
    "\n",
    "###### PROBLEM STATEMENT:\n",
    "SyriaTel faces significant revenue loss due to customer churn but lacks a data-driven approach to proactively identify at-risk customers. This project aims to develop a machine learning model to predict churn, uncover contributing factors, and provide actionable insights for targeted retention strategies, helping the company minimize churn and enhance customer loyalty.\n",
    "\n",
    "\n",
    "###### OBJECTIVES:\n",
    "- Develop a machine learning classifier to accurately predict customer churn for SyriaTel, categorizing customers as \"churn\"(True) or \"non-churn\" (False).\n",
    "- Utilize logistic regression for probabilistic predictions and feature interpretability.\n",
    "- Leverage decision trees for capturing nonlinear patterns and generating intuitive decision rules.\n",
    "- Evaluate model performance using precision, recall, F1-score, and AUC-ROC to ensure reliable predictions.\n",
    "- Support SyriaTel in deploying data-driven strategies to minimize churn and improve customer loyalty.\n",
    "\n",
    "\n",
    "###### METRICS OF SUCCESS:\n",
    "To evaluate and compare the performance of the models, the following metrics will be used:\n",
    "- Precision: Measures the accuracy of predicting churn among all predicted churners, ensuring minimal false positives.\n",
    "- Recall (Sensitivity): Captures the ability to identify all actual churners, minimizing false negatives.\n",
    "- F1-Score: Balances precision and recall, providing a single metric for performance on imbalanced data.\n",
    "- AUC-ROC: Assesses the model’s ability to distinguish between churners and non-churners across all thresholds.\n",
    "These metrics ensure the chosen model performs well on the dataset, balances key trade-offs, and generalizes effectively to unseen data"
   ]
  },
  {
   "cell_type": "markdown",
   "metadata": {},
   "source": [
    "## DATA UNDERSTANDING"
   ]
  },
  {
   "cell_type": "markdown",
   "metadata": {},
   "source": [
    "This section explores the dataset's source, structure, and contents to ensure its relevance and credibility. We will examine the columns and rows to understand the variables and their significance for predicting customer churn.\n",
    "\n",
    "##### DATA SOURCE:\n",
    "The dataset used in this project is sourced from Kaggle, titled \"Churn in Telecoms.\" It's a  csv file that contains information on customer demographics, service usage, and other features to predict telecom churn. You can access it [here](https://www.kaggle.com/datasets/becksddf/churn-in-telecoms-dataset)."
   ]
  },
  {
   "cell_type": "markdown",
   "metadata": {},
   "source": [
    "#### UNDERSTANDING ROWS & COLUMNS IN THE DATASET"
   ]
  },
  {
   "cell_type": "code",
   "execution_count": 1,
   "metadata": {},
   "outputs": [],
   "source": [
    "#Import the libraries needed for this section\n",
    "import pandas as pd\n",
    "import numpy as np\n",
    "import matplotlib.pyplot as plt\n",
    "import seaborn as sns\n",
    "sns.set_style(\"darkgrid\")\n",
    "%matplotlib inline"
   ]
  },
  {
   "cell_type": "code",
   "execution_count": 2,
   "metadata": {},
   "outputs": [
    {
     "data": {
      "text/plain": [
       "(3333, 21)"
      ]
     },
     "execution_count": 2,
     "metadata": {},
     "output_type": "execute_result"
    }
   ],
   "source": [
    "#LOAD THE DATASET\n",
    "df = pd.read_csv('bigml.csv.csv')\n",
    "df.shape"
   ]
  },
  {
   "cell_type": "markdown",
   "metadata": {},
   "source": [
    "The dataset has 3333 rows (entries) and 21 columns"
   ]
  },
  {
   "cell_type": "code",
   "execution_count": 3,
   "metadata": {},
   "outputs": [
    {
     "name": "stdout",
     "output_type": "stream",
     "text": [
      "<class 'pandas.core.frame.DataFrame'>\n",
      "RangeIndex: 3333 entries, 0 to 3332\n",
      "Data columns (total 21 columns):\n",
      " #   Column                  Non-Null Count  Dtype  \n",
      "---  ------                  --------------  -----  \n",
      " 0   state                   3333 non-null   object \n",
      " 1   account length          3333 non-null   int64  \n",
      " 2   area code               3333 non-null   int64  \n",
      " 3   phone number            3333 non-null   object \n",
      " 4   international plan      3333 non-null   object \n",
      " 5   voice mail plan         3333 non-null   object \n",
      " 6   number vmail messages   3333 non-null   int64  \n",
      " 7   total day minutes       3333 non-null   float64\n",
      " 8   total day calls         3333 non-null   int64  \n",
      " 9   total day charge        3333 non-null   float64\n",
      " 10  total eve minutes       3333 non-null   float64\n",
      " 11  total eve calls         3333 non-null   int64  \n",
      " 12  total eve charge        3333 non-null   float64\n",
      " 13  total night minutes     3333 non-null   float64\n",
      " 14  total night calls       3333 non-null   int64  \n",
      " 15  total night charge      3333 non-null   float64\n",
      " 16  total intl minutes      3333 non-null   float64\n",
      " 17  total intl calls        3333 non-null   int64  \n",
      " 18  total intl charge       3333 non-null   float64\n",
      " 19  customer service calls  3333 non-null   int64  \n",
      " 20  churn                   3333 non-null   bool   \n",
      "dtypes: bool(1), float64(8), int64(8), object(4)\n",
      "memory usage: 524.2+ KB\n",
      "None\n"
     ]
    }
   ],
   "source": [
    "#MORE INFO ABOUT THE DATASET\n",
    "print(df.info())"
   ]
  },
  {
   "cell_type": "markdown",
   "metadata": {},
   "source": [
    "The dataset consists of 3,333 customer records and 21 columns, including features like customer demographics, service usage, call minutes, charges, and calls to customer service. The key column is **churn**, which indicates whether a customer has stopped using the service. The data is complete with no missing values (we'll confirm this later), providing a solid foundation for analysis and predicting churn based on usage patterns and other factors. Overall, this looks like a high quality dataset. \n",
    "\n",
    "\n",
    "The data types for this dataset are mainly numerical(int64 & float64) with a few categorical datatypes(object).\n",
    "\n",
    "\n",
    "Our target column's datatype is a boolean, showing whether a customer has churned (True) or not (False)"
   ]
  },
  {
   "cell_type": "code",
   "execution_count": 4,
   "metadata": {},
   "outputs": [
    {
     "data": {
      "text/html": [
       "<div>\n",
       "<style scoped>\n",
       "    .dataframe tbody tr th:only-of-type {\n",
       "        vertical-align: middle;\n",
       "    }\n",
       "\n",
       "    .dataframe tbody tr th {\n",
       "        vertical-align: top;\n",
       "    }\n",
       "\n",
       "    .dataframe thead th {\n",
       "        text-align: right;\n",
       "    }\n",
       "</style>\n",
       "<table border=\"1\" class=\"dataframe\">\n",
       "  <thead>\n",
       "    <tr style=\"text-align: right;\">\n",
       "      <th></th>\n",
       "      <th>state</th>\n",
       "      <th>account length</th>\n",
       "      <th>area code</th>\n",
       "      <th>phone number</th>\n",
       "      <th>international plan</th>\n",
       "      <th>voice mail plan</th>\n",
       "      <th>number vmail messages</th>\n",
       "      <th>total day minutes</th>\n",
       "      <th>total day calls</th>\n",
       "      <th>total day charge</th>\n",
       "      <th>...</th>\n",
       "      <th>total eve calls</th>\n",
       "      <th>total eve charge</th>\n",
       "      <th>total night minutes</th>\n",
       "      <th>total night calls</th>\n",
       "      <th>total night charge</th>\n",
       "      <th>total intl minutes</th>\n",
       "      <th>total intl calls</th>\n",
       "      <th>total intl charge</th>\n",
       "      <th>customer service calls</th>\n",
       "      <th>churn</th>\n",
       "    </tr>\n",
       "  </thead>\n",
       "  <tbody>\n",
       "    <tr>\n",
       "      <th>0</th>\n",
       "      <td>KS</td>\n",
       "      <td>128</td>\n",
       "      <td>415</td>\n",
       "      <td>382-4657</td>\n",
       "      <td>no</td>\n",
       "      <td>yes</td>\n",
       "      <td>25</td>\n",
       "      <td>265.1</td>\n",
       "      <td>110</td>\n",
       "      <td>45.07</td>\n",
       "      <td>...</td>\n",
       "      <td>99</td>\n",
       "      <td>16.78</td>\n",
       "      <td>244.7</td>\n",
       "      <td>91</td>\n",
       "      <td>11.01</td>\n",
       "      <td>10.0</td>\n",
       "      <td>3</td>\n",
       "      <td>2.70</td>\n",
       "      <td>1</td>\n",
       "      <td>False</td>\n",
       "    </tr>\n",
       "    <tr>\n",
       "      <th>1</th>\n",
       "      <td>OH</td>\n",
       "      <td>107</td>\n",
       "      <td>415</td>\n",
       "      <td>371-7191</td>\n",
       "      <td>no</td>\n",
       "      <td>yes</td>\n",
       "      <td>26</td>\n",
       "      <td>161.6</td>\n",
       "      <td>123</td>\n",
       "      <td>27.47</td>\n",
       "      <td>...</td>\n",
       "      <td>103</td>\n",
       "      <td>16.62</td>\n",
       "      <td>254.4</td>\n",
       "      <td>103</td>\n",
       "      <td>11.45</td>\n",
       "      <td>13.7</td>\n",
       "      <td>3</td>\n",
       "      <td>3.70</td>\n",
       "      <td>1</td>\n",
       "      <td>False</td>\n",
       "    </tr>\n",
       "    <tr>\n",
       "      <th>2</th>\n",
       "      <td>NJ</td>\n",
       "      <td>137</td>\n",
       "      <td>415</td>\n",
       "      <td>358-1921</td>\n",
       "      <td>no</td>\n",
       "      <td>no</td>\n",
       "      <td>0</td>\n",
       "      <td>243.4</td>\n",
       "      <td>114</td>\n",
       "      <td>41.38</td>\n",
       "      <td>...</td>\n",
       "      <td>110</td>\n",
       "      <td>10.30</td>\n",
       "      <td>162.6</td>\n",
       "      <td>104</td>\n",
       "      <td>7.32</td>\n",
       "      <td>12.2</td>\n",
       "      <td>5</td>\n",
       "      <td>3.29</td>\n",
       "      <td>0</td>\n",
       "      <td>False</td>\n",
       "    </tr>\n",
       "    <tr>\n",
       "      <th>3</th>\n",
       "      <td>OH</td>\n",
       "      <td>84</td>\n",
       "      <td>408</td>\n",
       "      <td>375-9999</td>\n",
       "      <td>yes</td>\n",
       "      <td>no</td>\n",
       "      <td>0</td>\n",
       "      <td>299.4</td>\n",
       "      <td>71</td>\n",
       "      <td>50.90</td>\n",
       "      <td>...</td>\n",
       "      <td>88</td>\n",
       "      <td>5.26</td>\n",
       "      <td>196.9</td>\n",
       "      <td>89</td>\n",
       "      <td>8.86</td>\n",
       "      <td>6.6</td>\n",
       "      <td>7</td>\n",
       "      <td>1.78</td>\n",
       "      <td>2</td>\n",
       "      <td>False</td>\n",
       "    </tr>\n",
       "    <tr>\n",
       "      <th>4</th>\n",
       "      <td>OK</td>\n",
       "      <td>75</td>\n",
       "      <td>415</td>\n",
       "      <td>330-6626</td>\n",
       "      <td>yes</td>\n",
       "      <td>no</td>\n",
       "      <td>0</td>\n",
       "      <td>166.7</td>\n",
       "      <td>113</td>\n",
       "      <td>28.34</td>\n",
       "      <td>...</td>\n",
       "      <td>122</td>\n",
       "      <td>12.61</td>\n",
       "      <td>186.9</td>\n",
       "      <td>121</td>\n",
       "      <td>8.41</td>\n",
       "      <td>10.1</td>\n",
       "      <td>3</td>\n",
       "      <td>2.73</td>\n",
       "      <td>3</td>\n",
       "      <td>False</td>\n",
       "    </tr>\n",
       "    <tr>\n",
       "      <th>5</th>\n",
       "      <td>AL</td>\n",
       "      <td>118</td>\n",
       "      <td>510</td>\n",
       "      <td>391-8027</td>\n",
       "      <td>yes</td>\n",
       "      <td>no</td>\n",
       "      <td>0</td>\n",
       "      <td>223.4</td>\n",
       "      <td>98</td>\n",
       "      <td>37.98</td>\n",
       "      <td>...</td>\n",
       "      <td>101</td>\n",
       "      <td>18.75</td>\n",
       "      <td>203.9</td>\n",
       "      <td>118</td>\n",
       "      <td>9.18</td>\n",
       "      <td>6.3</td>\n",
       "      <td>6</td>\n",
       "      <td>1.70</td>\n",
       "      <td>0</td>\n",
       "      <td>False</td>\n",
       "    </tr>\n",
       "    <tr>\n",
       "      <th>6</th>\n",
       "      <td>MA</td>\n",
       "      <td>121</td>\n",
       "      <td>510</td>\n",
       "      <td>355-9993</td>\n",
       "      <td>no</td>\n",
       "      <td>yes</td>\n",
       "      <td>24</td>\n",
       "      <td>218.2</td>\n",
       "      <td>88</td>\n",
       "      <td>37.09</td>\n",
       "      <td>...</td>\n",
       "      <td>108</td>\n",
       "      <td>29.62</td>\n",
       "      <td>212.6</td>\n",
       "      <td>118</td>\n",
       "      <td>9.57</td>\n",
       "      <td>7.5</td>\n",
       "      <td>7</td>\n",
       "      <td>2.03</td>\n",
       "      <td>3</td>\n",
       "      <td>False</td>\n",
       "    </tr>\n",
       "    <tr>\n",
       "      <th>7</th>\n",
       "      <td>MO</td>\n",
       "      <td>147</td>\n",
       "      <td>415</td>\n",
       "      <td>329-9001</td>\n",
       "      <td>yes</td>\n",
       "      <td>no</td>\n",
       "      <td>0</td>\n",
       "      <td>157.0</td>\n",
       "      <td>79</td>\n",
       "      <td>26.69</td>\n",
       "      <td>...</td>\n",
       "      <td>94</td>\n",
       "      <td>8.76</td>\n",
       "      <td>211.8</td>\n",
       "      <td>96</td>\n",
       "      <td>9.53</td>\n",
       "      <td>7.1</td>\n",
       "      <td>6</td>\n",
       "      <td>1.92</td>\n",
       "      <td>0</td>\n",
       "      <td>False</td>\n",
       "    </tr>\n",
       "    <tr>\n",
       "      <th>8</th>\n",
       "      <td>LA</td>\n",
       "      <td>117</td>\n",
       "      <td>408</td>\n",
       "      <td>335-4719</td>\n",
       "      <td>no</td>\n",
       "      <td>no</td>\n",
       "      <td>0</td>\n",
       "      <td>184.5</td>\n",
       "      <td>97</td>\n",
       "      <td>31.37</td>\n",
       "      <td>...</td>\n",
       "      <td>80</td>\n",
       "      <td>29.89</td>\n",
       "      <td>215.8</td>\n",
       "      <td>90</td>\n",
       "      <td>9.71</td>\n",
       "      <td>8.7</td>\n",
       "      <td>4</td>\n",
       "      <td>2.35</td>\n",
       "      <td>1</td>\n",
       "      <td>False</td>\n",
       "    </tr>\n",
       "    <tr>\n",
       "      <th>9</th>\n",
       "      <td>WV</td>\n",
       "      <td>141</td>\n",
       "      <td>415</td>\n",
       "      <td>330-8173</td>\n",
       "      <td>yes</td>\n",
       "      <td>yes</td>\n",
       "      <td>37</td>\n",
       "      <td>258.6</td>\n",
       "      <td>84</td>\n",
       "      <td>43.96</td>\n",
       "      <td>...</td>\n",
       "      <td>111</td>\n",
       "      <td>18.87</td>\n",
       "      <td>326.4</td>\n",
       "      <td>97</td>\n",
       "      <td>14.69</td>\n",
       "      <td>11.2</td>\n",
       "      <td>5</td>\n",
       "      <td>3.02</td>\n",
       "      <td>0</td>\n",
       "      <td>False</td>\n",
       "    </tr>\n",
       "  </tbody>\n",
       "</table>\n",
       "<p>10 rows × 21 columns</p>\n",
       "</div>"
      ],
      "text/plain": [
       "  state  account length  area code phone number international plan  \\\n",
       "0    KS             128        415     382-4657                 no   \n",
       "1    OH             107        415     371-7191                 no   \n",
       "2    NJ             137        415     358-1921                 no   \n",
       "3    OH              84        408     375-9999                yes   \n",
       "4    OK              75        415     330-6626                yes   \n",
       "5    AL             118        510     391-8027                yes   \n",
       "6    MA             121        510     355-9993                 no   \n",
       "7    MO             147        415     329-9001                yes   \n",
       "8    LA             117        408     335-4719                 no   \n",
       "9    WV             141        415     330-8173                yes   \n",
       "\n",
       "  voice mail plan  number vmail messages  total day minutes  total day calls  \\\n",
       "0             yes                     25              265.1              110   \n",
       "1             yes                     26              161.6              123   \n",
       "2              no                      0              243.4              114   \n",
       "3              no                      0              299.4               71   \n",
       "4              no                      0              166.7              113   \n",
       "5              no                      0              223.4               98   \n",
       "6             yes                     24              218.2               88   \n",
       "7              no                      0              157.0               79   \n",
       "8              no                      0              184.5               97   \n",
       "9             yes                     37              258.6               84   \n",
       "\n",
       "   total day charge  ...  total eve calls  total eve charge  \\\n",
       "0             45.07  ...               99             16.78   \n",
       "1             27.47  ...              103             16.62   \n",
       "2             41.38  ...              110             10.30   \n",
       "3             50.90  ...               88              5.26   \n",
       "4             28.34  ...              122             12.61   \n",
       "5             37.98  ...              101             18.75   \n",
       "6             37.09  ...              108             29.62   \n",
       "7             26.69  ...               94              8.76   \n",
       "8             31.37  ...               80             29.89   \n",
       "9             43.96  ...              111             18.87   \n",
       "\n",
       "   total night minutes  total night calls  total night charge  \\\n",
       "0                244.7                 91               11.01   \n",
       "1                254.4                103               11.45   \n",
       "2                162.6                104                7.32   \n",
       "3                196.9                 89                8.86   \n",
       "4                186.9                121                8.41   \n",
       "5                203.9                118                9.18   \n",
       "6                212.6                118                9.57   \n",
       "7                211.8                 96                9.53   \n",
       "8                215.8                 90                9.71   \n",
       "9                326.4                 97               14.69   \n",
       "\n",
       "   total intl minutes  total intl calls  total intl charge  \\\n",
       "0                10.0                 3               2.70   \n",
       "1                13.7                 3               3.70   \n",
       "2                12.2                 5               3.29   \n",
       "3                 6.6                 7               1.78   \n",
       "4                10.1                 3               2.73   \n",
       "5                 6.3                 6               1.70   \n",
       "6                 7.5                 7               2.03   \n",
       "7                 7.1                 6               1.92   \n",
       "8                 8.7                 4               2.35   \n",
       "9                11.2                 5               3.02   \n",
       "\n",
       "   customer service calls  churn  \n",
       "0                       1  False  \n",
       "1                       1  False  \n",
       "2                       0  False  \n",
       "3                       2  False  \n",
       "4                       3  False  \n",
       "5                       0  False  \n",
       "6                       3  False  \n",
       "7                       0  False  \n",
       "8                       1  False  \n",
       "9                       0  False  \n",
       "\n",
       "[10 rows x 21 columns]"
      ]
     },
     "execution_count": 4,
     "metadata": {},
     "output_type": "execute_result"
    }
   ],
   "source": [
    "# View of the dataset\n",
    "df.head(10)"
   ]
  },
  {
   "cell_type": "markdown",
   "metadata": {},
   "source": [
    "## DATA ANALYSIS\n",
    "\n",
    "This section contains Exploratory Data Analysis (EDA), where duplicates and missing values are checked. Also, deeper analysis on the different columns is carried out. Visualizations are provided to summarize the findings and better understand what is being investigated."
   ]
  },
  {
   "cell_type": "markdown",
   "metadata": {},
   "source": [
    "###### MISSING VALUES"
   ]
  },
  {
   "cell_type": "code",
   "execution_count": 5,
   "metadata": {
    "scrolled": false
   },
   "outputs": [
    {
     "data": {
      "text/plain": [
       "state                     0\n",
       "account length            0\n",
       "area code                 0\n",
       "phone number              0\n",
       "international plan        0\n",
       "voice mail plan           0\n",
       "number vmail messages     0\n",
       "total day minutes         0\n",
       "total day calls           0\n",
       "total day charge          0\n",
       "total eve minutes         0\n",
       "total eve calls           0\n",
       "total eve charge          0\n",
       "total night minutes       0\n",
       "total night calls         0\n",
       "total night charge        0\n",
       "total intl minutes        0\n",
       "total intl calls          0\n",
       "total intl charge         0\n",
       "customer service calls    0\n",
       "churn                     0\n",
       "dtype: int64"
      ]
     },
     "execution_count": 5,
     "metadata": {},
     "output_type": "execute_result"
    }
   ],
   "source": [
    "# Check for missing values in the dataset\n",
    "df.isnull().sum()"
   ]
  },
  {
   "cell_type": "markdown",
   "metadata": {},
   "source": [
    "Our dataset doesn't have any missing values, which is great!"
   ]
  },
  {
   "cell_type": "markdown",
   "metadata": {},
   "source": [
    "###### DUPLICATES"
   ]
  },
  {
   "cell_type": "code",
   "execution_count": 6,
   "metadata": {},
   "outputs": [
    {
     "data": {
      "text/plain": [
       "0"
      ]
     },
     "execution_count": 6,
     "metadata": {},
     "output_type": "execute_result"
    }
   ],
   "source": [
    "# Check for duplicates\n",
    "df.duplicated().sum()"
   ]
  },
  {
   "cell_type": "markdown",
   "metadata": {},
   "source": [
    "This dataset has no duplicates."
   ]
  },
  {
   "cell_type": "markdown",
   "metadata": {},
   "source": [
    "###### CLASS IMBALANCE IN THE TARGET VARIABLE"
   ]
  },
  {
   "cell_type": "code",
   "execution_count": 7,
   "metadata": {},
   "outputs": [
    {
     "data": {
      "text/plain": [
       "False    2850\n",
       "True      483\n",
       "Name: churn, dtype: int64"
      ]
     },
     "execution_count": 7,
     "metadata": {},
     "output_type": "execute_result"
    }
   ],
   "source": [
    "# Check if our dataset is imbalanced\n",
    "# Check our target column\n",
    "df['churn'].value_counts()"
   ]
  },
  {
   "cell_type": "code",
   "execution_count": 8,
   "metadata": {},
   "outputs": [
    {
     "data": {
      "image/png": "[encoded data removed]",
      "text/plain": [
       "<Figure size 720x432 with 1 Axes>"
      ]
     },
     "metadata": {
      "needs_background": "light"
     },
     "output_type": "display_data"
    }
   ],
   "source": [
    "# Visualizing this imbalance\n",
    "# Create the figure and set the size\n",
    "plt.figure(figsize=(10, 6))\n",
    "\n",
    "# Plot\n",
    "df['churn'].value_counts().plot(kind='bar', color=['skyblue', 'orange'])\n",
    "\n",
    "# Add title and labels  \n",
    "plt.title('DISTRIBUTION OF THE TARGET CLASS IN THE DATASET', fontsize=18)\n",
    "plt.xlabel('TARGET CLASSES', fontsize=16)\n",
    "plt.ylabel('CLASS COUNT', fontsize=16)\n",
    "\n",
    "\n",
    "# Customize  \n",
    "plt.xticks(fontsize=14)\n",
    "plt.yticks(fontsize=14)\n",
    "\n",
    "# Adjust layout\n",
    "plt.tight_layout()\n",
    "\n",
    "# Show the plot\n",
    "plt.show()"
   ]
  },
  {
   "cell_type": "markdown",
   "metadata": {},
   "source": [
    "###### Observation:\n",
    "There's a substantial imbalance in our dataset. 85.5% of the rows belong to the \"False\" class while 14.5% of rows belong to the \"True\" class.\n",
    "\n",
    "This also shows that 15% of customers at SyriaTel have churned. "
   ]
  },
  {
   "cell_type": "markdown",
   "metadata": {},
   "source": [
    "###### ANALYSING AREA CODES"
   ]
  },
  {
   "cell_type": "code",
   "execution_count": 9,
   "metadata": {},
   "outputs": [
    {
     "data": {
      "text/plain": [
       "415    1655\n",
       "510     840\n",
       "408     838\n",
       "Name: area code, dtype: int64"
      ]
     },
     "execution_count": 9,
     "metadata": {},
     "output_type": "execute_result"
    }
   ],
   "source": [
    "# Check which area codes are heavily served by SyriaTel\n",
    "df['area code'].value_counts()"
   ]
  },
  {
   "cell_type": "markdown",
   "metadata": {},
   "source": [
    "Convert the data type of the area code column from integer to categorical, as it serves as an identifier (similar to a phone number) rather than a numerical value."
   ]
  },
  {
   "cell_type": "code",
   "execution_count": 10,
   "metadata": {},
   "outputs": [],
   "source": [
    "# Change the dtype of the area code from int to categorical as its an identifier\n",
    "df['area code'] = df['area code'].astype(object)"
   ]
  },
  {
   "cell_type": "code",
   "execution_count": 11,
   "metadata": {},
   "outputs": [
    {
     "name": "stdout",
     "output_type": "stream",
     "text": [
      "object\n"
     ]
    }
   ],
   "source": [
    "# Confirm the change\n",
    "print(df['area code'].dtypes)"
   ]
  },
  {
   "cell_type": "code",
   "execution_count": 12,
   "metadata": {
    "scrolled": false
   },
   "outputs": [
    {
     "data": {
      "image/png": "[encoded data removed]",
      "text/plain": [
       "<Figure size 720x432 with 1 Axes>"
      ]
     },
     "metadata": {
      "needs_background": "light"
     },
     "output_type": "display_data"
    }
   ],
   "source": [
    "# Visualizing these area codes\n",
    "# Create the figure and set the size\n",
    "plt.figure(figsize=(10, 6))\n",
    "\n",
    "# Plot\n",
    "df['area code'].value_counts().plot(kind='bar', color=['skyblue', 'orange', 'pink'])\n",
    "\n",
    "# Add labels and title\n",
    "plt.title('DISTRIBUTION OF THE AREA CODES SERVED BY SYRIATEL', fontsize=18)\n",
    "plt.xlabel('AREA CODES', fontsize=16)\n",
    "plt.ylabel('FREQUENCY', fontsize=16)\n",
    "\n",
    "# Customize\n",
    "plt.xticks(fontsize=14)\n",
    "plt.yticks(fontsize=14)\n",
    "\n",
    "# Adjust layout\n",
    "plt.tight_layout()\n",
    "\n",
    "# Show the plot\n",
    "plt.show()"
   ]
  },
  {
   "cell_type": "markdown",
   "metadata": {},
   "source": [
    "###### Observation:\n",
    "From the visualization above we can observe that area code 415 has the highest number of SyriaTel customers, followed by area code 510, and lastly area code 408. This distribution, however, is most likely influenced by the population size of these areas. \n",
    "\n",
    "The organization might want to further investigate the number of users in these areas as well as the population to streamline their services to suit sizes of people they are serving."
   ]
  },
  {
   "cell_type": "markdown",
   "metadata": {},
   "source": [
    "###### CHURNS BY STATE"
   ]
  },
  {
   "cell_type": "code",
   "execution_count": 13,
   "metadata": {},
   "outputs": [
    {
     "name": "stdout",
     "output_type": "stream",
     "text": [
      "churn  False  True \n",
      "state              \n",
      "AK        49      3\n",
      "AL        72      8\n",
      "AR        44     11\n",
      "AZ        60      4\n",
      "CA        25      9\n",
      "CO        57      9\n",
      "CT        62     12\n",
      "DC        49      5\n",
      "DE        52      9\n",
      "FL        55      8\n",
      "GA        46      8\n",
      "HI        50      3\n",
      "IA        41      3\n",
      "ID        64      9\n",
      "IL        53      5\n",
      "IN        62      9\n",
      "KS        57     13\n",
      "KY        51      8\n",
      "LA        47      4\n",
      "MA        54     11\n",
      "MD        53     17\n",
      "ME        49     13\n",
      "MI        57     16\n",
      "MN        69     15\n",
      "MO        56      7\n",
      "MS        51     14\n",
      "MT        54     14\n",
      "NC        57     11\n",
      "ND        56      6\n",
      "NE        56      5\n",
      "NH        47      9\n",
      "NJ        50     18\n",
      "NM        56      6\n",
      "NV        52     14\n",
      "NY        68     15\n",
      "OH        68     10\n",
      "OK        52      9\n",
      "OR        67     11\n",
      "PA        37      8\n",
      "RI        59      6\n",
      "SC        46     14\n",
      "SD        52      8\n",
      "TN        48      5\n",
      "TX        54     18\n",
      "UT        62     10\n",
      "VA        72      5\n",
      "VT        65      8\n",
      "WA        52     14\n",
      "WI        71      7\n",
      "WV        96     10\n",
      "WY        68      9\n"
     ]
    }
   ],
   "source": [
    "# Analyze churns by state\n",
    "state_churn = df.groupby('state')['churn'].value_counts().unstack(fill_value=0)\n",
    "print(state_churn)"
   ]
  },
  {
   "cell_type": "markdown",
   "metadata": {},
   "source": [
    "From the output above we see the number of churns and non-churns for different states."
   ]
  },
  {
   "cell_type": "code",
   "execution_count": 14,
   "metadata": {},
   "outputs": [
    {
     "data": {
      "image/png": "[encoded data removed]",
      "text/plain": [
       "<Figure size 1080x1296 with 1 Axes>"
      ]
     },
     "metadata": {
      "needs_background": "light"
     },
     "output_type": "display_data"
    }
   ],
   "source": [
    "# Visualizing customer churn by \"state\"\n",
    "# Create the figure and set size\n",
    "plt.figure(figsize=(15, 18))\n",
    "\n",
    "# Plot\n",
    "state_churn.plot(kind='barh', stacked=False, ax=plt.gca(), color=['skyblue', 'orange'])\n",
    "\n",
    "# Add title and labels\n",
    "plt.title('CUSTOMER CHURN BY STATE', fontsize=24)\n",
    "plt.xlabel('NUMBER OF CHURN & NON-CHURN CUSTOMERS', fontsize=18)\n",
    "plt.ylabel('STATES', fontsize=20)\n",
    "\n",
    "# Customize\n",
    "plt.xticks(fontsize=16)\n",
    "plt.yticks(fontsize=12)\n",
    "\n",
    "# Adjust layout\n",
    "plt.tight_layout()\n",
    "\n",
    "# Show the plot\n",
    "plt.show()"
   ]
  },
  {
   "cell_type": "markdown",
   "metadata": {},
   "source": [
    "###### Observation:\n",
    "From the visualization above we can observe that the states WY, VA, and AL have retained the highest number of customers. \n",
    "\n",
    "We can also see that the states TX, NJ, and MD have the highest number of churns."
   ]
  },
  {
   "cell_type": "markdown",
   "metadata": {},
   "source": [
    "###### TOP 20 STATES WITH THE HIGHEST CHURNS"
   ]
  },
  {
   "cell_type": "code",
   "execution_count": 15,
   "metadata": {},
   "outputs": [
    {
     "data": {
      "text/plain": [
       "state\n",
       "TX    18\n",
       "NJ    18\n",
       "MD    17\n",
       "MI    16\n",
       "NY    15\n",
       "MN    15\n",
       "MS    14\n",
       "MT    14\n",
       "WA    14\n",
       "SC    14\n",
       "NV    14\n",
       "ME    13\n",
       "KS    13\n",
       "CT    12\n",
       "NC    11\n",
       "MA    11\n",
       "OR    11\n",
       "AR    11\n",
       "OH    10\n",
       "UT    10\n",
       "dtype: int64"
      ]
     },
     "execution_count": 15,
     "metadata": {},
     "output_type": "execute_result"
    }
   ],
   "source": [
    "# Top 20 states with the highest churn.\n",
    "highest_churn_state = df[df['churn'] == True].groupby('state').size().sort_values(ascending=False).head(20)\n",
    "highest_churn_state"
   ]
  },
  {
   "cell_type": "code",
   "execution_count": 16,
   "metadata": {},
   "outputs": [
    {
     "data": {
      "image/png": "[encoded data removed]",
      "text/plain": [
       "<Figure size 1080x576 with 1 Axes>"
      ]
     },
     "metadata": {
      "needs_background": "light"
     },
     "output_type": "display_data"
    }
   ],
   "source": [
    "# Visualizing the top 20 states with the highest churns\n",
    "# Create the figure and set size\n",
    "plt.figure(figsize=(15, 8))\n",
    "\n",
    "# Plot\n",
    "highest_churn_state.plot(kind='bar', color=['skyblue'])\n",
    "\n",
    "# Add title and labels\n",
    "plt.title('TOP 20 STATES WITH THE HIGHEST CHURN', fontsize=20)\n",
    "plt.xlabel('STATES', fontsize=16)\n",
    "plt.ylabel('NUMBER OF CHURNED CUSTOMERS', fontsize=16)\n",
    "\n",
    "# Customize\n",
    "plt.xticks(fontsize=14)\n",
    "plt.yticks(fontsize=14)\n",
    "\n",
    "# Adjust layout\n",
    "plt.tight_layout()\n",
    "\n",
    "# Show the plot\n",
    "plt.show()"
   ]
  },
  {
   "cell_type": "markdown",
   "metadata": {},
   "source": [
    "###### Observation:\n",
    "From the visualization above we can observe that TX, NJ, MD, MI,and NY are some of the states with the highest numbers of churns. \n",
    "\n",
    "This can be investigated further to determine whether the population size of these states explain the churn numbers. "
   ]
  },
  {
   "cell_type": "markdown",
   "metadata": {},
   "source": [
    "###### TOP 20 STATES WITH THE HIGHEST COUNT OF CUSTOMER SERVICE CALLS"
   ]
  },
  {
   "cell_type": "code",
   "execution_count": 17,
   "metadata": {},
   "outputs": [
    {
     "data": {
      "text/plain": [
       "state\n",
       "WV    159\n",
       "NY    142\n",
       "OR    135\n",
       "MN    130\n",
       "VT    127\n",
       "AL    125\n",
       "VA    123\n",
       "ID    122\n",
       "IN    120\n",
       "MD    119\n",
       "MI    119\n",
       "CO    118\n",
       "TX    116\n",
       "NJ    114\n",
       "CT    112\n",
       "WY    111\n",
       "WI    111\n",
       "MT    111\n",
       "MS    110\n",
       "AR    109\n",
       "Name: customer service calls, dtype: int64"
      ]
     },
     "execution_count": 17,
     "metadata": {},
     "output_type": "execute_result"
    }
   ],
   "source": [
    "# Top 20 states with the highest customer service calls\n",
    "highest_service_calls= df.groupby('state')['customer service calls'].sum().sort_values(ascending=False).head(20)\n",
    "highest_service_calls"
   ]
  },
  {
   "cell_type": "code",
   "execution_count": 18,
   "metadata": {},
   "outputs": [
    {
     "data": {
      "image/png": "[encoded data removed]",
      "text/plain": [
       "<Figure size 1152x576 with 1 Axes>"
      ]
     },
     "metadata": {
      "needs_background": "light"
     },
     "output_type": "display_data"
    }
   ],
   "source": [
    "# Visualizing the top 20 states with the highest customer service calls\n",
    "# Create the figure and set size\n",
    "plt.figure(figsize=(16, 8))\n",
    "\n",
    "# Plot\n",
    "highest_service_calls.plot(kind='bar', color=['orange'])\n",
    "\n",
    "# Add title and labels\n",
    "plt.title('TOP 20 STATES WITH THE HIGHEST CUSTOMER SERVICE CALLS', fontsize=24)\n",
    "plt.xlabel('STATE', fontsize=18)\n",
    "plt.ylabel('COUNT OF CUSTOMER SERVICE CALLS', fontsize=18)\n",
    "\n",
    "# Customize\n",
    "plt.xticks(fontsize=16)\n",
    "plt.yticks(fontsize=14)\n",
    "\n",
    "# Adjust layout\n",
    "plt.tight_layout()\n",
    "\n",
    "# Show the plot\n",
    "plt.show()"
   ]
  },
  {
   "cell_type": "markdown",
   "metadata": {},
   "source": [
    "###### Observation:\n",
    "From the visualization above we can see that the states WV, NY, OR, MN, and VT are some of the states with the highest number of customer service calls. We can also spot states that have the highest number of churns are here with the highest number of customer service calls. "
   ]
  },
  {
   "cell_type": "markdown",
   "metadata": {},
   "source": [
    "###### STATES WITH THE HIGHEST COUNT OF CHURNS AND CALLS TO CUSTOMER SERVICE"
   ]
  },
  {
   "cell_type": "code",
   "execution_count": 19,
   "metadata": {
    "scrolled": true
   },
   "outputs": [
    {
     "data": {
      "text/plain": [
       "Index(['TX', 'NJ', 'MD', 'MI', 'NY', 'MN', 'MS', 'MT', 'CT', 'OR', 'AR'], dtype='object', name='state')"
      ]
     },
     "execution_count": 19,
     "metadata": {},
     "output_type": "execute_result"
    }
   ],
   "source": [
    "# Investigate whether the states with the highest number of churns also report the highest number of customer service calls.\n",
    "# Find the common states (intersection) between the highest churn states and highest customer service calls states\n",
    "common_states = highest_churn_state.index.intersection(highest_service_calls.index)\n",
    "common_states"
   ]
  },
  {
   "cell_type": "code",
   "execution_count": 20,
   "metadata": {},
   "outputs": [
    {
     "data": {
      "image/png": "[encoded data removed]",
      "text/plain": [
       "<Figure size 1008x576 with 1 Axes>"
      ]
     },
     "metadata": {
      "needs_background": "light"
     },
     "output_type": "display_data"
    }
   ],
   "source": [
    "# Visualizing this intersection\n",
    "\n",
    "# Create a new dataframe for common states with both churn and customer service call data\n",
    "common_state_data = pd.DataFrame({'Churned Customers': highest_churn_state[common_states],\n",
    "                                  'Service Calls': highest_service_calls[common_states]})\n",
    "\n",
    "# Plot\n",
    "common_state_data.plot(kind='bar', figsize=(14, 8), color=['orange', 'skyblue'])\n",
    "\n",
    "# Add title and labels\n",
    "plt.title('A COMPARISON OF CHURN AND CUSTOMER SERVICE CALLS COUNT FOR THE COMMON STATES', fontsize = 18)\n",
    "plt.xlabel('STATES', fontsize = 18)\n",
    "plt.ylabel('COUNTS', fontsize = 18)\n",
    "\n",
    "# Customize\n",
    "plt.xticks(rotation = 45, fontsize=14)\n",
    "plt.yticks(fontsize=14)\n",
    "\n",
    "# Adjust layout\n",
    "plt.tight_layout()\n",
    "\n",
    "# Show the plot\n",
    "plt.show()"
   ]
  },
  {
   "cell_type": "markdown",
   "metadata": {},
   "source": [
    "###### Observation:\n",
    "From the output and visualization above we can observe the states that had the highest number of churned customers and also had the highest number of customer service calls.\n",
    "\n",
    "SyriaTel can use this information to investigate their service in these states. What could be causing these numerous calls to customer service? Could this be a reason why the churn rates in these states are high? Again, could these numbers be high simply due to the population size of these states?"
   ]
  },
  {
   "cell_type": "markdown",
   "metadata": {},
   "source": [
    "###### NUMBERS OF CALLS MADE DURING DIFFERENT TIMES"
   ]
  },
  {
   "cell_type": "code",
   "execution_count": 21,
   "metadata": {},
   "outputs": [
    {
     "name": "stdout",
     "output_type": "stream",
     "text": [
      "total day calls      334752\n",
      "total eve calls      333681\n",
      "total night calls    333659\n",
      "total intl calls      14930\n",
      "dtype: int64\n"
     ]
    }
   ],
   "source": [
    "# What times do people mostly use the services\n",
    "# Summing up the calls for each type\n",
    "calls_summary = df[['total day calls', 'total eve calls', 'total night calls', 'total intl calls']].sum()\n",
    "print(calls_summary)"
   ]
  },
  {
   "cell_type": "code",
   "execution_count": 22,
   "metadata": {
    "scrolled": false
   },
   "outputs": [
    {
     "data": {
      "image/png": "[encoded data removed]",
      "text/plain": [
       "<Figure size 864x576 with 1 Axes>"
      ]
     },
     "metadata": {
      "needs_background": "light"
     },
     "output_type": "display_data"
    }
   ],
   "source": [
    "# Visualizing what times do people mostly use the services\n",
    "# Create the figure and set size\n",
    "plt.figure(figsize=(12, 8))\n",
    "\n",
    "# Plot\n",
    "sns.barplot(x=calls_summary.index, y=calls_summary.values, palette='pastel')\n",
    "\n",
    "# Add title and labels\n",
    "plt.title('TOTAL NUMBER OF CALLS BY CALL TIME', fontsize=20)\n",
    "plt.xlabel('CALL TIME', fontsize=18)\n",
    "plt.ylabel('TOTAL NUMBER OF CALLS', fontsize=18)\n",
    "\n",
    "# Customise\n",
    "plt.xticks(fontsize=14)\n",
    "plt.yticks(fontsize=14)\n",
    "\n",
    "# Adjust layout\n",
    "plt.tight_layout()\n",
    "\n",
    "# Show the plot\n",
    "plt.show()"
   ]
  },
  {
   "cell_type": "markdown",
   "metadata": {},
   "source": [
    "###### Observation:\n",
    "From the output and visualization above we can observe that there is no substatial difference between the number of calls made throughout the day. \n",
    "\n",
    "However, we can see the huge difference between the local total number of calls and the international calls. \n",
    "\n",
    "SyriaTel can use this information to investigate further why the international calls made through their services are not as high. Can they improve the international plan for their customers?"
   ]
  },
  {
   "cell_type": "code",
   "execution_count": 23,
   "metadata": {},
   "outputs": [
    {
     "name": "stdout",
     "output_type": "stream",
     "text": [
      "total day minutes      599190.4\n",
      "total eve minutes      669867.5\n",
      "total night minutes    669506.5\n",
      "total intl minutes      34120.9\n",
      "dtype: float64\n"
     ]
    }
   ],
   "source": [
    "# Summing up the minutes for each type\n",
    "minutes_summary = df[['total day minutes', 'total eve minutes', 'total night minutes', 'total intl minutes']].sum()\n",
    "print(minutes_summary)"
   ]
  },
  {
   "cell_type": "code",
   "execution_count": 24,
   "metadata": {},
   "outputs": [
    {
     "data": {
      "image/png": "[encoded data removed]",
      "text/plain": [
       "<Figure size 864x576 with 1 Axes>"
      ]
     },
     "metadata": {
      "needs_background": "light"
     },
     "output_type": "display_data"
    }
   ],
   "source": [
    "# Visualizing what times do people mostly use the services\n",
    "# Create the figure and set size\n",
    "plt.figure(figsize=(12, 8))\n",
    "\n",
    "# Plot\n",
    "sns.barplot(x=minutes_summary.index, y=minutes_summary.values, palette='pastel')\n",
    "\n",
    "# Add title and labels\n",
    "plt.title('TOTAL NUMBER OF CALL MINUTES BY TIME', fontsize=20)\n",
    "plt.xlabel('CALL TIME', fontsize=18)\n",
    "plt.ylabel('TOTAL NUMBER OF MINUTES', fontsize=18)\n",
    "\n",
    "# Customise\n",
    "plt.xticks(fontsize=14)\n",
    "plt.yticks(fontsize=14)\n",
    "\n",
    "# Adjust layout\n",
    "plt.tight_layout()\n",
    "\n",
    "# Show the plot\n",
    "plt.show()"
   ]
  },
  {
   "cell_type": "markdown",
   "metadata": {},
   "source": [
    "###### CHURN RATE BY INTERNATIONAL PLAN"
   ]
  },
  {
   "cell_type": "code",
   "execution_count": 25,
   "metadata": {},
   "outputs": [
    {
     "data": {
      "text/plain": [
       "international plan  churn\n",
       "no                  False    2664\n",
       "                    True      346\n",
       "yes                 False     186\n",
       "                    True      137\n",
       "Name: churn, dtype: int64"
      ]
     },
     "execution_count": 25,
     "metadata": {},
     "output_type": "execute_result"
    }
   ],
   "source": [
    "# Churn rate by international plan\n",
    "churn_by_intl_plan = df.groupby('international plan')['churn'].value_counts().head(20)\n",
    "churn_by_intl_plan"
   ]
  },
  {
   "cell_type": "code",
   "execution_count": 26,
   "metadata": {},
   "outputs": [
    {
     "data": {
      "image/png": "[encoded data removed]",
      "text/plain": [
       "<Figure size 1008x576 with 1 Axes>"
      ]
     },
     "metadata": {
      "needs_background": "light"
     },
     "output_type": "display_data"
    }
   ],
   "source": [
    "# Visualizing churn rate by international plan\n",
    "# Prepare the data for visualization\n",
    "churn_by_intl = (df.groupby(['international plan', 'churn']).size().unstack(fill_value=0))\n",
    "\n",
    "# Create the figure and set size\n",
    "plt.figure(figsize=(14, 8))\n",
    "\n",
    "# Plot\n",
    "churn_by_intl.plot(kind='bar', stacked=True, color=['skyblue', 'orange'], ax=plt.gca())\n",
    "\n",
    "# Add title and labels\n",
    "plt.title('CHURN RATE BY INTERNATIONAL PLAN', fontsize=24)\n",
    "plt.xlabel('INETRNATIONAL PLAN', fontsize=18)\n",
    "plt.ylabel('CUSTOMER COUNT', fontsize=18)\n",
    "\n",
    "# Customize\n",
    "plt.xticks(fontsize=14)\n",
    "plt.yticks(fontsize=14)\n",
    "plt.legend(['Not Churned', 'Churned'], title='CHURN STATUS')\n",
    "\n",
    "# Adjust layout\n",
    "plt.tight_layout()\n",
    "\n",
    "# Show the plot\n",
    "plt.show()"
   ]
  },
  {
   "cell_type": "markdown",
   "metadata": {},
   "source": [
    "###### Observation:\n",
    "From the analysis and visualization above, we acn observe that the majority of SyriaTel customers don't have an international plan. Also the churn rate is higher among those without an international plan compared to those with one. This could also be contributed by the fact that most of the customers are in the 'no international plan' class. "
   ]
  },
  {
   "cell_type": "markdown",
   "metadata": {},
   "source": [
    "###### CHURN RATE BY VOICEMAIL PLAN"
   ]
  },
  {
   "cell_type": "code",
   "execution_count": 27,
   "metadata": {},
   "outputs": [
    {
     "data": {
      "text/plain": [
       "voice mail plan  churn\n",
       "no               False    2008\n",
       "                 True      403\n",
       "yes              False     842\n",
       "                 True       80\n",
       "Name: churn, dtype: int64"
      ]
     },
     "execution_count": 27,
     "metadata": {},
     "output_type": "execute_result"
    }
   ],
   "source": [
    "# Churn rate by voicemail plan\n",
    "churn_by_vm_plan = df.groupby('voice mail plan')['churn'].value_counts().head(20)\n",
    "churn_by_vm_plan"
   ]
  },
  {
   "cell_type": "code",
   "execution_count": 28,
   "metadata": {},
   "outputs": [
    {
     "data": {
      "image/png": "[encoded data removed]",
      "text/plain": [
       "<Figure size 1008x576 with 1 Axes>"
      ]
     },
     "metadata": {
      "needs_background": "light"
     },
     "output_type": "display_data"
    }
   ],
   "source": [
    "# Visualizing churn rate by voicemail plan\n",
    "# Prep the data for visualization\n",
    "churn_by_vm = (df.groupby(['voice mail plan', 'churn']).size().unstack(fill_value=0))\n",
    "\n",
    "\n",
    "# Create the figure and set size\n",
    "plt.figure(figsize=(14, 8))\n",
    "\n",
    "# Plot\n",
    "churn_by_vm.plot(kind='bar', stacked=True, color=['skyblue', 'orange'], ax=plt.gca())\n",
    "\n",
    "# Add title and labels\n",
    "plt.title('CHURN RATE BY VOICEMAIL PLAN', fontsize=20)\n",
    "plt.xlabel('VOICE MAIL PLAN', fontsize=16)\n",
    "plt.ylabel('NUMBER OF CUSTOMERS', fontsize=16)\n",
    "\n",
    "# Customize\n",
    "plt.xticks(fontsize=14)\n",
    "plt.yticks(fontsize=14)\n",
    "plt.legend(['Not Churned', 'Churned'], title='VM PLAN STATUS')\n",
    "\n",
    "# Adjust layout\n",
    "plt.tight_layout()\n",
    "\n",
    "# Show the plot\n",
    "plt.show()"
   ]
  },
  {
   "cell_type": "markdown",
   "metadata": {},
   "source": [
    "###### Observation:\n",
    "From the analysis and visualization above, we can observe that the majority of SyriaTel customers don't have a voicemail plan. Also the churn rate is higher among those without a voicemail plan compared to those with one but this could also be due to the fact that most of the customers don't have the plan."
   ]
  },
  {
   "cell_type": "markdown",
   "metadata": {},
   "source": [
    "###### CHURN RATE BY AREA CODES"
   ]
  },
  {
   "cell_type": "code",
   "execution_count": 29,
   "metadata": {},
   "outputs": [
    {
     "data": {
      "text/plain": [
       "area code  churn\n",
       "408        False     716\n",
       "           True      122\n",
       "415        False    1419\n",
       "           True      236\n",
       "510        False     715\n",
       "           True      125\n",
       "Name: churn, dtype: int64"
      ]
     },
     "execution_count": 29,
     "metadata": {},
     "output_type": "execute_result"
    }
   ],
   "source": [
    "# Churn rate by area codes\n",
    "churn_by_area_code = df.groupby('area code')['churn'].value_counts().head(20)\n",
    "churn_by_area_code"
   ]
  },
  {
   "cell_type": "code",
   "execution_count": 30,
   "metadata": {},
   "outputs": [
    {
     "data": {
      "image/png": "[encoded data removed]",
      "text/plain": [
       "<Figure size 1008x576 with 1 Axes>"
      ]
     },
     "metadata": {
      "needs_background": "light"
     },
     "output_type": "display_data"
    }
   ],
   "source": [
    "# Visualising churn rate by area codes\n",
    "# Prep the data for visualization\n",
    "churn_by_area = (df.groupby(['area code', 'churn']).size().unstack(fill_value=0))\n",
    "\n",
    "\n",
    "# Create the figure and set size\n",
    "plt.figure(figsize=(14, 8))\n",
    "\n",
    "# Plot\n",
    "churn_by_area.plot(kind='bar', stacked=True, color=['skyblue', 'orange'], ax=plt.gca())\n",
    "\n",
    "# Add title and labels\n",
    "plt.title('CHURN RATES BY AREA CODES', fontsize=20)\n",
    "plt.xlabel('AREA CODES', fontsize=16)\n",
    "plt.ylabel('NUMBER OF CUSTOMERS', fontsize=16)\n",
    "\n",
    "# Customize\n",
    "plt.xticks(fontsize=14)\n",
    "plt.yticks(fontsize=14)\n",
    "plt.legend(['Not Churned', 'Churned'], title='CHURN STATUS')\n",
    "\n",
    "# Adjust layout\n",
    "plt.tight_layout()\n",
    "\n",
    "# Show the plot\n",
    "plt.show()"
   ]
  },
  {
   "cell_type": "markdown",
   "metadata": {},
   "source": [
    "###### Observation:\n",
    "From the analysis and visualization above, we can observe that the majority of SyriaTel customers are in area code 415. Also the churn rate is higher in this area code compared to other area codes, however, this could also be due to the fact that SyriaTel customers are mostly located in area 415."
   ]
  },
  {
   "cell_type": "markdown",
   "metadata": {},
   "source": [
    "###### ACCOUNT LENGTH OF CHURNED CUSTOMERS"
   ]
  },
  {
   "cell_type": "code",
   "execution_count": 31,
   "metadata": {},
   "outputs": [
    {
     "name": "stdout",
     "output_type": "stream",
     "text": [
      "Average account length of churned customers: 102.66 days\n"
     ]
    }
   ],
   "source": [
    "# Analyze the average time it takes a customer to churn\n",
    "churned = df.loc[df['churn'] == True]\n",
    "time_before_churn = churned['account length'].mean()\n",
    "print(f'Average account length of churned customers: {time_before_churn:.2f} days')"
   ]
  },
  {
   "cell_type": "code",
   "execution_count": 32,
   "metadata": {},
   "outputs": [
    {
     "data": {
      "image/png": "[encoded data removed]",
      "text/plain": [
       "<Figure size 864x432 with 1 Axes>"
      ]
     },
     "metadata": {
      "needs_background": "light"
     },
     "output_type": "display_data"
    }
   ],
   "source": [
    "# Visualising the distribution of account length of churned customers\n",
    "# Filter data for churned customers\n",
    "churned = df.loc[df['churn'] == True]\n",
    "\n",
    "# Create the figure and set size\n",
    "plt.figure(figsize=(12, 6))\n",
    "\n",
    "# Plot\n",
    "sns.histplot(churned['account length'], kde=True, color='blue', bins=20)\n",
    "plt.axvline(churned['account length'].mean(), color='red', linestyle='--', label=f'Mean: {time_before_churn:.2f}')\n",
    "\n",
    "# Add title and labels\n",
    "plt.title('DISTRIBUTION OF ACCOUNT LENGTH FOR CHURNED CUSTOMERS', fontsize=18)\n",
    "plt.xlabel('ACCOUNT LENGTH(days)', fontsize=14)\n",
    "plt.ylabel('FREQUENCY', fontsize=14)\n",
    "\n",
    "# Customize\n",
    "plt.xticks(fontsize=14)\n",
    "plt.yticks(fontsize=14)\n",
    "plt.legend()\n",
    "\n",
    "# Adjust layout\n",
    "plt.tight_layout()\n",
    "\n",
    "# Show the plot\n",
    "plt.show()"
   ]
  },
  {
   "cell_type": "markdown",
   "metadata": {},
   "source": [
    "###### Observation:\n",
    "From the analysis and visualization above, we can observe that for churned customers, it took an average of 102 days before they churned.\n",
    "\n",
    "Further investigation can be carried out to find out what's happening around this time that might be contributing to churns."
   ]
  },
  {
   "cell_type": "markdown",
   "metadata": {},
   "source": [
    "## SUMMARY FINDINGS IN EDA AND DATA ANALYSIS"
   ]
  },
  {
   "cell_type": "markdown",
   "metadata": {},
   "source": [
    "Key Insights from the Analysis:\n",
    "- **Customer Retention Duration**: On average, it took approximately 102 days (3.4 months) for a churned customer to stop using SyriaTel's services.\n",
    "\n",
    "- **Call Patterns**: The total number of local calls made across different times of the day is relatively consistent, whereas the number of international calls is significantly lower.\n",
    "\n",
    "- **Service Plan**: The majority of SyriaTel customers do not subscribe to international or voicemail plans.\n",
    "\n",
    "- **Churn by Area Code**: Area code 415 reports the highest number of churns, but it is also the area where SyriaTel services are most utilized.\n",
    "\n",
    "- **State-Level Trends**: States such as TX, NJ, NY, MD, CT, OR, and MI exhibit both the highest number of churns and the highest volume of customer service calls.\n",
    "\n",
    "- **Class Imbalance**: The dataset is imbalanced, with 85% of the target class labeled as \"False\" (not churned) and only 15% labeled as \"True\" (churned).\n",
    "\n",
    "\n",
    "\n",
    "\n",
    "### **DECISION AFTER DATA ANALYSIS**\n",
    "From the analysis carried out, these are the conclusions about the data that'll be used to build the classifier to help predict churn among SyriaTel customers.\n",
    "1. The phone number column is an identifier. It doesn't provide any useful predictive value about churn. So it'll be dropped.\n",
    "2. All the other columns will go through feature selection and a test for multicollinearity to decide which ones are kept for modeling. \n",
    "\n",
    "- unsure about which features to retain, you can leave this task to feature selection methods. These methods ensure that only the most useful features are kept for the model.\n",
    "\n",
    "3. The columns area code and state are also identifiers, however, whether they'll be dropped or kept will also be decided by feature selection.\n",
    "4. Encoding will be performed for the state, area code, churn, international plan, and voice mail plan columns as they are categorical variables.\n",
    "5. A test for multicollinearity will also be performed to further decide columns to drop for an effective model."
   ]
  },
  {
   "cell_type": "markdown",
   "metadata": {},
   "source": [
    "## DATA PREPROCESSING FOR MODELING\n",
    "**(DATASET-LEVEL PREPROCESSING)** - preprocessing that doesn't alter the training set"
   ]
  },
  {
   "cell_type": "code",
   "execution_count": 33,
   "metadata": {},
   "outputs": [],
   "source": [
    "# encoding columns \n",
    "# multicollinearity\n",
    "# feature selection\n",
    "# dealing with imbalance\n",
    "# check if to Normalize/standardize/scale numerical features, especially if needed for Logistic Regression\n",
    "# investigate whether the relationships are linear / non linear"
   ]
  },
  {
   "cell_type": "code",
   "execution_count": 34,
   "metadata": {},
   "outputs": [],
   "source": [
    "# Dropped the phone number column as it's just an identifier\n",
    "df.drop('phone number', axis= 1, inplace = True)"
   ]
  },
  {
   "cell_type": "markdown",
   "metadata": {},
   "source": [
    "##### IMPORTING THE LIBRARIES NEEDED FOR MODELING"
   ]
  },
  {
   "cell_type": "code",
   "execution_count": 35,
   "metadata": {},
   "outputs": [],
   "source": [
    "#import the necessary libraries needed for the data prep for modeling and for modeling\n",
    "import itertools\n",
    "import warnings\n",
    "warnings.filterwarnings(\"ignore\")\n",
    "\n",
    "# To split the dataset into train and test sets\n",
    "from sklearn.model_selection import train_test_split   \n",
    "from sklearn.model_selection import cross_val_score\n",
    "\n",
    "# Logistic Regression algorithm\n",
    "from sklearn.linear_model import LogisticRegression    \n",
    "from sklearn.linear_model import Ridge, Lasso\n",
    "\n",
    "# Decision Tree algorithm\n",
    "from sklearn.tree import DecisionTreeClassifier        \n",
    "\n",
    "# For encoding the categorical and target columns\n",
    "from sklearn.preprocessing import OneHotEncoder \n",
    "\n",
    "# For scaling the data\n",
    "from sklearn.preprocessing import StandardScaler\n",
    "\n",
    "# For feature selection during modeling(logistic regression)\n",
    "from sklearn.feature_selection import RFE\n",
    "\n",
    "# To apply transformations to specific columns\n",
    "from sklearn.compose import ColumnTransformer          \n",
    "\n",
    "# For model evaluation\n",
    "from sklearn.metrics import classification_report, confusion_matrix, ConfusionMatrixDisplay, precision_recall_curve \n",
    "from sklearn.metrics import roc_auc_score, roc_curve, auc\n",
    "from sklearn.metrics import precision_score, recall_score, f1_score\n",
    "\n",
    "# For handling class imbalance\n",
    "from imblearn.over_sampling import SMOTE, ADASYN"
   ]
  },
  {
   "cell_type": "markdown",
   "metadata": {},
   "source": [
    "##### DEFINING THE TARGET AND THE FEATURES OF THE MODEL"
   ]
  },
  {
   "cell_type": "code",
   "execution_count": 36,
   "metadata": {},
   "outputs": [],
   "source": [
    "# Define the variables (the target and the features)\n",
    "X = df.drop('churn', axis=1)\n",
    "y = df['churn']"
   ]
  },
  {
   "cell_type": "markdown",
   "metadata": {},
   "source": [
    "##### SPLITTING THE DATASET INTO TRAINING AND TEST SETS"
   ]
  },
  {
   "cell_type": "markdown",
   "metadata": {},
   "source": [
    "To prevent data leakage and leave the testing set untouched to simulate real-world data, I split the dataset first before further preprocessing and feature selection.\n",
    "\n",
    "Used 80% of the dataset for training the algorithm and 20% for testing the model's performance.\n",
    "\n",
    "I used the **'stratify'** parameter to ensure that the distribution of the target class in the train and test sets remain consistent with the original dataset, since our dataset is highly imbalanced."
   ]
  },
  {
   "cell_type": "code",
   "execution_count": 37,
   "metadata": {},
   "outputs": [],
   "source": [
    "# Splitting the dataset into a training and testing set\n",
    "X_train, X_test, y_train, y_test = train_test_split(X, y, stratify =y, test_size=0.2, random_state= 42)"
   ]
  },
  {
   "cell_type": "code",
   "execution_count": 38,
   "metadata": {},
   "outputs": [
    {
     "data": {
      "text/html": [
       "<div>\n",
       "<style scoped>\n",
       "    .dataframe tbody tr th:only-of-type {\n",
       "        vertical-align: middle;\n",
       "    }\n",
       "\n",
       "    .dataframe tbody tr th {\n",
       "        vertical-align: top;\n",
       "    }\n",
       "\n",
       "    .dataframe thead th {\n",
       "        text-align: right;\n",
       "    }\n",
       "</style>\n",
       "<table border=\"1\" class=\"dataframe\">\n",
       "  <thead>\n",
       "    <tr style=\"text-align: right;\">\n",
       "      <th></th>\n",
       "      <th>state</th>\n",
       "      <th>account length</th>\n",
       "      <th>area code</th>\n",
       "      <th>international plan</th>\n",
       "      <th>voice mail plan</th>\n",
       "      <th>number vmail messages</th>\n",
       "      <th>total day minutes</th>\n",
       "      <th>total day calls</th>\n",
       "      <th>total day charge</th>\n",
       "      <th>total eve minutes</th>\n",
       "      <th>total eve calls</th>\n",
       "      <th>total eve charge</th>\n",
       "      <th>total night minutes</th>\n",
       "      <th>total night calls</th>\n",
       "      <th>total night charge</th>\n",
       "      <th>total intl minutes</th>\n",
       "      <th>total intl calls</th>\n",
       "      <th>total intl charge</th>\n",
       "      <th>customer service calls</th>\n",
       "    </tr>\n",
       "  </thead>\n",
       "  <tbody>\n",
       "    <tr>\n",
       "      <th>3286</th>\n",
       "      <td>OH</td>\n",
       "      <td>106</td>\n",
       "      <td>415</td>\n",
       "      <td>no</td>\n",
       "      <td>yes</td>\n",
       "      <td>30</td>\n",
       "      <td>220.1</td>\n",
       "      <td>105</td>\n",
       "      <td>37.42</td>\n",
       "      <td>222.2</td>\n",
       "      <td>109</td>\n",
       "      <td>18.89</td>\n",
       "      <td>158.4</td>\n",
       "      <td>96</td>\n",
       "      <td>7.13</td>\n",
       "      <td>13.1</td>\n",
       "      <td>8</td>\n",
       "      <td>3.54</td>\n",
       "      <td>0</td>\n",
       "    </tr>\n",
       "    <tr>\n",
       "      <th>86</th>\n",
       "      <td>IN</td>\n",
       "      <td>94</td>\n",
       "      <td>408</td>\n",
       "      <td>no</td>\n",
       "      <td>no</td>\n",
       "      <td>0</td>\n",
       "      <td>157.9</td>\n",
       "      <td>105</td>\n",
       "      <td>26.84</td>\n",
       "      <td>155.0</td>\n",
       "      <td>101</td>\n",
       "      <td>13.18</td>\n",
       "      <td>189.6</td>\n",
       "      <td>84</td>\n",
       "      <td>8.53</td>\n",
       "      <td>8.0</td>\n",
       "      <td>5</td>\n",
       "      <td>2.16</td>\n",
       "      <td>4</td>\n",
       "    </tr>\n",
       "    <tr>\n",
       "      <th>1349</th>\n",
       "      <td>KY</td>\n",
       "      <td>71</td>\n",
       "      <td>510</td>\n",
       "      <td>no</td>\n",
       "      <td>yes</td>\n",
       "      <td>22</td>\n",
       "      <td>141.4</td>\n",
       "      <td>107</td>\n",
       "      <td>24.04</td>\n",
       "      <td>163.0</td>\n",
       "      <td>105</td>\n",
       "      <td>13.86</td>\n",
       "      <td>220.0</td>\n",
       "      <td>99</td>\n",
       "      <td>9.90</td>\n",
       "      <td>5.6</td>\n",
       "      <td>3</td>\n",
       "      <td>1.51</td>\n",
       "      <td>2</td>\n",
       "    </tr>\n",
       "    <tr>\n",
       "      <th>1649</th>\n",
       "      <td>NH</td>\n",
       "      <td>130</td>\n",
       "      <td>408</td>\n",
       "      <td>no</td>\n",
       "      <td>no</td>\n",
       "      <td>0</td>\n",
       "      <td>68.4</td>\n",
       "      <td>86</td>\n",
       "      <td>11.63</td>\n",
       "      <td>193.3</td>\n",
       "      <td>110</td>\n",
       "      <td>16.43</td>\n",
       "      <td>171.5</td>\n",
       "      <td>139</td>\n",
       "      <td>7.72</td>\n",
       "      <td>10.4</td>\n",
       "      <td>4</td>\n",
       "      <td>2.81</td>\n",
       "      <td>0</td>\n",
       "    </tr>\n",
       "    <tr>\n",
       "      <th>3000</th>\n",
       "      <td>NJ</td>\n",
       "      <td>87</td>\n",
       "      <td>510</td>\n",
       "      <td>no</td>\n",
       "      <td>no</td>\n",
       "      <td>0</td>\n",
       "      <td>223.2</td>\n",
       "      <td>109</td>\n",
       "      <td>37.94</td>\n",
       "      <td>127.5</td>\n",
       "      <td>86</td>\n",
       "      <td>10.84</td>\n",
       "      <td>289.3</td>\n",
       "      <td>83</td>\n",
       "      <td>13.02</td>\n",
       "      <td>14.5</td>\n",
       "      <td>4</td>\n",
       "      <td>3.92</td>\n",
       "      <td>3</td>\n",
       "    </tr>\n",
       "  </tbody>\n",
       "</table>\n",
       "</div>"
      ],
      "text/plain": [
       "     state  account length area code international plan voice mail plan  \\\n",
       "3286    OH             106       415                 no             yes   \n",
       "86      IN              94       408                 no              no   \n",
       "1349    KY              71       510                 no             yes   \n",
       "1649    NH             130       408                 no              no   \n",
       "3000    NJ              87       510                 no              no   \n",
       "\n",
       "      number vmail messages  total day minutes  total day calls  \\\n",
       "3286                     30              220.1              105   \n",
       "86                        0              157.9              105   \n",
       "1349                     22              141.4              107   \n",
       "1649                      0               68.4               86   \n",
       "3000                      0              223.2              109   \n",
       "\n",
       "      total day charge  total eve minutes  total eve calls  total eve charge  \\\n",
       "3286             37.42              222.2              109             18.89   \n",
       "86               26.84              155.0              101             13.18   \n",
       "1349             24.04              163.0              105             13.86   \n",
       "1649             11.63              193.3              110             16.43   \n",
       "3000             37.94              127.5               86             10.84   \n",
       "\n",
       "      total night minutes  total night calls  total night charge  \\\n",
       "3286                158.4                 96                7.13   \n",
       "86                  189.6                 84                8.53   \n",
       "1349                220.0                 99                9.90   \n",
       "1649                171.5                139                7.72   \n",
       "3000                289.3                 83               13.02   \n",
       "\n",
       "      total intl minutes  total intl calls  total intl charge  \\\n",
       "3286                13.1                 8               3.54   \n",
       "86                   8.0                 5               2.16   \n",
       "1349                 5.6                 3               1.51   \n",
       "1649                10.4                 4               2.81   \n",
       "3000                14.5                 4               3.92   \n",
       "\n",
       "      customer service calls  \n",
       "3286                       0  \n",
       "86                         4  \n",
       "1349                       2  \n",
       "1649                       0  \n",
       "3000                       3  "
      ]
     },
     "execution_count": 38,
     "metadata": {},
     "output_type": "execute_result"
    }
   ],
   "source": [
    "# Brief view of the X_train\n",
    "X_train.head()"
   ]
  },
  {
   "cell_type": "code",
   "execution_count": 39,
   "metadata": {},
   "outputs": [
    {
     "data": {
      "text/html": [
       "<div>\n",
       "<style scoped>\n",
       "    .dataframe tbody tr th:only-of-type {\n",
       "        vertical-align: middle;\n",
       "    }\n",
       "\n",
       "    .dataframe tbody tr th {\n",
       "        vertical-align: top;\n",
       "    }\n",
       "\n",
       "    .dataframe thead th {\n",
       "        text-align: right;\n",
       "    }\n",
       "</style>\n",
       "<table border=\"1\" class=\"dataframe\">\n",
       "  <thead>\n",
       "    <tr style=\"text-align: right;\">\n",
       "      <th></th>\n",
       "      <th>state</th>\n",
       "      <th>account length</th>\n",
       "      <th>area code</th>\n",
       "      <th>international plan</th>\n",
       "      <th>voice mail plan</th>\n",
       "      <th>number vmail messages</th>\n",
       "      <th>total day minutes</th>\n",
       "      <th>total day calls</th>\n",
       "      <th>total day charge</th>\n",
       "      <th>total eve minutes</th>\n",
       "      <th>total eve calls</th>\n",
       "      <th>total eve charge</th>\n",
       "      <th>total night minutes</th>\n",
       "      <th>total night calls</th>\n",
       "      <th>total night charge</th>\n",
       "      <th>total intl minutes</th>\n",
       "      <th>total intl calls</th>\n",
       "      <th>total intl charge</th>\n",
       "      <th>customer service calls</th>\n",
       "    </tr>\n",
       "  </thead>\n",
       "  <tbody>\n",
       "    <tr>\n",
       "      <th>601</th>\n",
       "      <td>MA</td>\n",
       "      <td>62</td>\n",
       "      <td>415</td>\n",
       "      <td>yes</td>\n",
       "      <td>no</td>\n",
       "      <td>0</td>\n",
       "      <td>159.7</td>\n",
       "      <td>86</td>\n",
       "      <td>27.15</td>\n",
       "      <td>197.5</td>\n",
       "      <td>76</td>\n",
       "      <td>16.79</td>\n",
       "      <td>121.6</td>\n",
       "      <td>105</td>\n",
       "      <td>5.47</td>\n",
       "      <td>13.9</td>\n",
       "      <td>6</td>\n",
       "      <td>3.75</td>\n",
       "      <td>0</td>\n",
       "    </tr>\n",
       "    <tr>\n",
       "      <th>2050</th>\n",
       "      <td>MT</td>\n",
       "      <td>121</td>\n",
       "      <td>408</td>\n",
       "      <td>no</td>\n",
       "      <td>no</td>\n",
       "      <td>0</td>\n",
       "      <td>213.2</td>\n",
       "      <td>79</td>\n",
       "      <td>36.24</td>\n",
       "      <td>120.7</td>\n",
       "      <td>116</td>\n",
       "      <td>10.26</td>\n",
       "      <td>244.4</td>\n",
       "      <td>102</td>\n",
       "      <td>11.00</td>\n",
       "      <td>7.5</td>\n",
       "      <td>4</td>\n",
       "      <td>2.03</td>\n",
       "      <td>1</td>\n",
       "    </tr>\n",
       "    <tr>\n",
       "      <th>3200</th>\n",
       "      <td>CT</td>\n",
       "      <td>100</td>\n",
       "      <td>510</td>\n",
       "      <td>yes</td>\n",
       "      <td>no</td>\n",
       "      <td>0</td>\n",
       "      <td>107.2</td>\n",
       "      <td>98</td>\n",
       "      <td>18.22</td>\n",
       "      <td>86.8</td>\n",
       "      <td>122</td>\n",
       "      <td>7.38</td>\n",
       "      <td>156.2</td>\n",
       "      <td>117</td>\n",
       "      <td>7.03</td>\n",
       "      <td>9.7</td>\n",
       "      <td>4</td>\n",
       "      <td>2.62</td>\n",
       "      <td>1</td>\n",
       "    </tr>\n",
       "    <tr>\n",
       "      <th>1953</th>\n",
       "      <td>WA</td>\n",
       "      <td>137</td>\n",
       "      <td>408</td>\n",
       "      <td>no</td>\n",
       "      <td>no</td>\n",
       "      <td>0</td>\n",
       "      <td>208.8</td>\n",
       "      <td>120</td>\n",
       "      <td>35.50</td>\n",
       "      <td>225.3</td>\n",
       "      <td>100</td>\n",
       "      <td>19.15</td>\n",
       "      <td>221.6</td>\n",
       "      <td>130</td>\n",
       "      <td>9.97</td>\n",
       "      <td>11.1</td>\n",
       "      <td>5</td>\n",
       "      <td>3.00</td>\n",
       "      <td>0</td>\n",
       "    </tr>\n",
       "    <tr>\n",
       "      <th>1119</th>\n",
       "      <td>OK</td>\n",
       "      <td>189</td>\n",
       "      <td>415</td>\n",
       "      <td>no</td>\n",
       "      <td>no</td>\n",
       "      <td>0</td>\n",
       "      <td>208.3</td>\n",
       "      <td>106</td>\n",
       "      <td>35.41</td>\n",
       "      <td>236.7</td>\n",
       "      <td>123</td>\n",
       "      <td>20.12</td>\n",
       "      <td>179.1</td>\n",
       "      <td>120</td>\n",
       "      <td>8.06</td>\n",
       "      <td>11.3</td>\n",
       "      <td>5</td>\n",
       "      <td>3.05</td>\n",
       "      <td>3</td>\n",
       "    </tr>\n",
       "  </tbody>\n",
       "</table>\n",
       "</div>"
      ],
      "text/plain": [
       "     state  account length area code international plan voice mail plan  \\\n",
       "601     MA              62       415                yes              no   \n",
       "2050    MT             121       408                 no              no   \n",
       "3200    CT             100       510                yes              no   \n",
       "1953    WA             137       408                 no              no   \n",
       "1119    OK             189       415                 no              no   \n",
       "\n",
       "      number vmail messages  total day minutes  total day calls  \\\n",
       "601                       0              159.7               86   \n",
       "2050                      0              213.2               79   \n",
       "3200                      0              107.2               98   \n",
       "1953                      0              208.8              120   \n",
       "1119                      0              208.3              106   \n",
       "\n",
       "      total day charge  total eve minutes  total eve calls  total eve charge  \\\n",
       "601              27.15              197.5               76             16.79   \n",
       "2050             36.24              120.7              116             10.26   \n",
       "3200             18.22               86.8              122              7.38   \n",
       "1953             35.50              225.3              100             19.15   \n",
       "1119             35.41              236.7              123             20.12   \n",
       "\n",
       "      total night minutes  total night calls  total night charge  \\\n",
       "601                 121.6                105                5.47   \n",
       "2050                244.4                102               11.00   \n",
       "3200                156.2                117                7.03   \n",
       "1953                221.6                130                9.97   \n",
       "1119                179.1                120                8.06   \n",
       "\n",
       "      total intl minutes  total intl calls  total intl charge  \\\n",
       "601                 13.9                 6               3.75   \n",
       "2050                 7.5                 4               2.03   \n",
       "3200                 9.7                 4               2.62   \n",
       "1953                11.1                 5               3.00   \n",
       "1119                11.3                 5               3.05   \n",
       "\n",
       "      customer service calls  \n",
       "601                        0  \n",
       "2050                       1  \n",
       "3200                       1  \n",
       "1953                       0  \n",
       "1119                       3  "
      ]
     },
     "execution_count": 39,
     "metadata": {},
     "output_type": "execute_result"
    }
   ],
   "source": [
    "# Brief view of the X_test\n",
    "X_test.head()"
   ]
  },
  {
   "cell_type": "code",
   "execution_count": 40,
   "metadata": {},
   "outputs": [
    {
     "data": {
      "text/plain": [
       "3286    False\n",
       "86       True\n",
       "1349    False\n",
       "1649    False\n",
       "3000    False\n",
       "Name: churn, dtype: bool"
      ]
     },
     "execution_count": 40,
     "metadata": {},
     "output_type": "execute_result"
    }
   ],
   "source": [
    "# Brief view of the y_train\n",
    "y_train.head()"
   ]
  },
  {
   "cell_type": "code",
   "execution_count": 41,
   "metadata": {},
   "outputs": [
    {
     "data": {
      "text/plain": [
       "601      True\n",
       "2050    False\n",
       "3200    False\n",
       "1953    False\n",
       "1119    False\n",
       "Name: churn, dtype: bool"
      ]
     },
     "execution_count": 41,
     "metadata": {},
     "output_type": "execute_result"
    }
   ],
   "source": [
    "# Brief view of the y_test\n",
    "y_test.head()"
   ]
  },
  {
   "cell_type": "markdown",
   "metadata": {},
   "source": [
    "###### ONE-HOT ENCODING THE CATEGORICAL VARIABLES\n",
    "\n",
    "One-hot encoded the categorical columns since algorithms 'understand' numerical values only.\n",
    "\n",
    "Ensure the fitting was done only on the training set, but transformation was done on both the training and test sets.\n",
    "\n",
    "The target column contains boolean values so encoding is straightforward. Used pandas .map() for this to assign True=1 and False=0"
   ]
  },
  {
   "cell_type": "code",
   "execution_count": 42,
   "metadata": {},
   "outputs": [],
   "source": [
    "# Encoding the target column (y)\n",
    "# Target column is a boolean (True/False) values.To encode, I simply mapped the column to convert True -> 1 and False -> 0.\n",
    "# Used pandas map() funct.\n",
    "\n",
    "# Encode training set\n",
    "y_train_final = y_train.map({True:1, False:0})\n",
    "\n",
    "# Encode testing set\n",
    "y_test_final = y_test.map({True:1, False:0})"
   ]
  },
  {
   "cell_type": "code",
   "execution_count": 43,
   "metadata": {},
   "outputs": [],
   "source": [
    "# Encoding the categorical feature columns (X)\n",
    "# Drop first to avoid the dummy variable trap\n",
    "ohe = OneHotEncoder(drop='first', sparse=False)\n",
    "\n",
    "# Fit and transform the encoder on the training set.\n",
    "# Fitting the training data only inorder to use the training data to determine the unique categories for each feature.\n",
    "X_train_ohe = ohe.fit_transform(X_train[['state', 'area code', 'international plan', 'voice mail plan']])\n",
    "\n",
    "# Transform only the testing set\n",
    "X_test_ohe = ohe.transform(X_test[['state', 'area code', 'international plan', 'voice mail plan']])"
   ]
  },
  {
   "cell_type": "markdown",
   "metadata": {},
   "source": [
    "Below, I converted the encoded columns into dataframes with appropriate indices and column names."
   ]
  },
  {
   "cell_type": "code",
   "execution_count": 44,
   "metadata": {},
   "outputs": [],
   "source": [
    "# Get column names for the encoded columns\n",
    "ohe_feature_names = ohe.get_feature_names(['state', 'area code', 'international plan', 'voice mail plan'])\n",
    "\n",
    "# Convert encoded columns to DataFrames\n",
    "X_train_encoded_df = pd.DataFrame(X_train_ohe, columns=ohe_feature_names, index=X_train.index)\n",
    "X_test_encoded_df = pd.DataFrame(X_test_ohe, columns=ohe_feature_names, index=X_test.index)"
   ]
  },
  {
   "cell_type": "markdown",
   "metadata": {},
   "source": [
    "Concantenated the now encoded columns with the rest of the dataset."
   ]
  },
  {
   "cell_type": "code",
   "execution_count": 45,
   "metadata": {},
   "outputs": [],
   "source": [
    "# Combine the encoded features with the other numerical columns in the dataset\n",
    "X_train_encd = pd.concat([X_train_encoded_df, X_train.drop(['state', 'area code', 'international plan', 'voice mail plan'], axis=1)], axis=1)\n",
    "X_test_encd = pd.concat([X_test_encoded_df, X_test.drop(['state', 'area code', 'international plan', 'voice mail plan'], axis=1)], axis=1)"
   ]
  },
  {
   "cell_type": "code",
   "execution_count": 46,
   "metadata": {},
   "outputs": [
    {
     "name": "stdout",
     "output_type": "stream",
     "text": [
      "      state_AL  state_AR  state_AZ  state_CA  state_CO  state_CT  state_DC  \\\n",
      "3286       0.0       0.0       0.0       0.0       0.0       0.0       0.0   \n",
      "86         0.0       0.0       0.0       0.0       0.0       0.0       0.0   \n",
      "1349       0.0       0.0       0.0       0.0       0.0       0.0       0.0   \n",
      "1649       0.0       0.0       0.0       0.0       0.0       0.0       0.0   \n",
      "3000       0.0       0.0       0.0       0.0       0.0       0.0       0.0   \n",
      "\n",
      "      state_DE  state_FL  state_GA  ...  total eve minutes  total eve calls  \\\n",
      "3286       0.0       0.0       0.0  ...              222.2              109   \n",
      "86         0.0       0.0       0.0  ...              155.0              101   \n",
      "1349       0.0       0.0       0.0  ...              163.0              105   \n",
      "1649       0.0       0.0       0.0  ...              193.3              110   \n",
      "3000       0.0       0.0       0.0  ...              127.5               86   \n",
      "\n",
      "      total eve charge  total night minutes  total night calls  \\\n",
      "3286             18.89                158.4                 96   \n",
      "86               13.18                189.6                 84   \n",
      "1349             13.86                220.0                 99   \n",
      "1649             16.43                171.5                139   \n",
      "3000             10.84                289.3                 83   \n",
      "\n",
      "      total night charge  total intl minutes  total intl calls  \\\n",
      "3286                7.13                13.1                 8   \n",
      "86                  8.53                 8.0                 5   \n",
      "1349                9.90                 5.6                 3   \n",
      "1649                7.72                10.4                 4   \n",
      "3000               13.02                14.5                 4   \n",
      "\n",
      "      total intl charge  customer service calls  \n",
      "3286               3.54                       0  \n",
      "86                 2.16                       4  \n",
      "1349               1.51                       2  \n",
      "1649               2.81                       0  \n",
      "3000               3.92                       3  \n",
      "\n",
      "[5 rows x 69 columns]\n",
      "\n",
      "\n",
      "3286    0\n",
      "86      1\n",
      "1349    0\n",
      "1649    0\n",
      "3000    0\n",
      "Name: churn, dtype: int64\n"
     ]
    }
   ],
   "source": [
    "# Confirm the encoding\n",
    "print(X_train_encd.head()) # ohe training features\n",
    "print('\\n')\n",
    "print(y_train_final[:5]) # ohe training features"
   ]
  },
  {
   "cell_type": "code",
   "execution_count": 47,
   "metadata": {},
   "outputs": [
    {
     "data": {
      "text/plain": [
       "Index(['state_AL', 'state_AR', 'state_AZ', 'state_CA', 'state_CO', 'state_CT',\n",
       "       'state_DC', 'state_DE', 'state_FL', 'state_GA', 'state_HI', 'state_IA',\n",
       "       'state_ID', 'state_IL', 'state_IN', 'state_KS', 'state_KY', 'state_LA',\n",
       "       'state_MA', 'state_MD', 'state_ME', 'state_MI', 'state_MN', 'state_MO',\n",
       "       'state_MS', 'state_MT', 'state_NC', 'state_ND', 'state_NE', 'state_NH',\n",
       "       'state_NJ', 'state_NM', 'state_NV', 'state_NY', 'state_OH', 'state_OK',\n",
       "       'state_OR', 'state_PA', 'state_RI', 'state_SC', 'state_SD', 'state_TN',\n",
       "       'state_TX', 'state_UT', 'state_VA', 'state_VT', 'state_WA', 'state_WI',\n",
       "       'state_WV', 'state_WY', 'area code_415', 'area code_510',\n",
       "       'international plan_yes', 'voice mail plan_yes', 'account length',\n",
       "       'number vmail messages', 'total day minutes', 'total day calls',\n",
       "       'total day charge', 'total eve minutes', 'total eve calls',\n",
       "       'total eve charge', 'total night minutes', 'total night calls',\n",
       "       'total night charge', 'total intl minutes', 'total intl calls',\n",
       "       'total intl charge', 'customer service calls'],\n",
       "      dtype='object')"
      ]
     },
     "execution_count": 47,
     "metadata": {},
     "output_type": "execute_result"
    }
   ],
   "source": [
    "X_train_encd.columns"
   ]
  },
  {
   "cell_type": "code",
   "execution_count": 48,
   "metadata": {},
   "outputs": [
    {
     "name": "stdout",
     "output_type": "stream",
     "text": [
      "All columns in the training data are numerical.\n"
     ]
    }
   ],
   "source": [
    "# Confirm that all columns in our training data are numerical\n",
    "# Filter out the categorical columns\n",
    "cat_train_columns = X_train_encd.select_dtypes(exclude=['number']).columns\n",
    "\n",
    "if len(cat_train_columns) == 0:\n",
    "    print(\"All columns in the training data are numerical.\")\n",
    "else:\n",
    "    print(\"These columns aren't numeric:\")\n",
    "    print(cat_train_columns)\n"
   ]
  },
  {
   "cell_type": "code",
   "execution_count": 49,
   "metadata": {},
   "outputs": [
    {
     "name": "stdout",
     "output_type": "stream",
     "text": [
      "All columns in the test data are numerical.\n"
     ]
    }
   ],
   "source": [
    "# Confirm that all columns in our testing data are numerical\n",
    "# Filter out the categorical columns\n",
    "cat_test_columns = X_test_encd.select_dtypes(exclude=['number']).columns\n",
    "\n",
    "if len(cat_test_columns) == 0:\n",
    "    print(\"All columns in the test data are numerical.\")\n",
    "else:\n",
    "    print(\"These columns aren't numeric:\")\n",
    "    print(cat_test_columns)\n"
   ]
  },
  {
   "cell_type": "code",
   "execution_count": 50,
   "metadata": {},
   "outputs": [
    {
     "data": {
      "text/plain": [
       "dtype('int64')"
      ]
     },
     "execution_count": 50,
     "metadata": {},
     "output_type": "execute_result"
    }
   ],
   "source": [
    "# Confirm the y_train dtype\n",
    "y_train_final.dtypes"
   ]
  },
  {
   "cell_type": "code",
   "execution_count": 51,
   "metadata": {},
   "outputs": [
    {
     "name": "stdout",
     "output_type": "stream",
     "text": [
      "[0 1]\n"
     ]
    }
   ],
   "source": [
    "# Confirm the encoding\n",
    "print(y_train_final.unique())"
   ]
  },
  {
   "cell_type": "code",
   "execution_count": 52,
   "metadata": {},
   "outputs": [
    {
     "data": {
      "text/plain": [
       "dtype('int64')"
      ]
     },
     "execution_count": 52,
     "metadata": {},
     "output_type": "execute_result"
    }
   ],
   "source": [
    "# Confirm the y_test dtype\n",
    "y_test_final.dtypes"
   ]
  },
  {
   "cell_type": "code",
   "execution_count": 53,
   "metadata": {},
   "outputs": [
    {
     "name": "stdout",
     "output_type": "stream",
     "text": [
      "[1 0]\n"
     ]
    }
   ],
   "source": [
    "# Confirm the encoding\n",
    "print(y_test_final.unique())"
   ]
  },
  {
   "cell_type": "markdown",
   "metadata": {},
   "source": [
    "##### SCALING THE DATA (Standardization)\n",
    "\n",
    "Keep in mind, For classification problems (e.g., logistic regression or decision trees), the target variable is categorical (e.g., 0 or 1 for churn). Scaling it would distort its meaning.\n"
   ]
  },
  {
   "cell_type": "code",
   "execution_count": 54,
   "metadata": {},
   "outputs": [],
   "source": [
    "# Standardizing the numerical columns \n",
    "# Initialize the scaler\n",
    "scaler = StandardScaler()\n",
    "\n",
    "# Fit (only on trainng data) and tranform the training data\n",
    "X_train_scaled = scaler.fit_transform(X_train_encd)\n",
    "\n",
    "# Transform the test set using the same scaler fitted on training data\n",
    "X_test_scaled = scaler.transform(X_test_encd)"
   ]
  },
  {
   "cell_type": "markdown",
   "metadata": {},
   "source": [
    "The result of this scaling is Numpy array, so we need to convert the scaled data to dataframes."
   ]
  },
  {
   "cell_type": "code",
   "execution_count": 55,
   "metadata": {},
   "outputs": [],
   "source": [
    "X_train_scaled_df = pd.DataFrame(X_train_scaled, columns=X_train_encd.columns, index=X_train_encd.index)\n",
    "X_test_scaled_df = pd.DataFrame(X_test_scaled, columns=X_test_encd.columns, index=X_test_encd.index)"
   ]
  },
  {
   "cell_type": "markdown",
   "metadata": {},
   "source": [
    "##### CHECKING FOR MULTICOLLINEARITY (VIF)\n",
    "check for multicollinearity before scaling, because high correlation between features can lead to issues in regression models \n",
    "\n",
    "to avoid any unnecessary complications when scaling and modeling\n",
    "\n",
    "We'll now calculate VIF on the scaled training data (X_train_scaled_df) since VIF calculations should only be performed on the training dataset.\n",
    "The Variance Inflation Factor (VIF) measures multicollinearity among independent variables, not between features and the target. Each VIF value represents how much the variance of a feature is inflated due to correlation with other features.\n",
    "\n",
    " VIF < 5: Indicates low or acceptable multicollinearity.\n",
    "    VIF ≥ 5: Indicates moderate multicollinearity; consider further investigation.\n",
    "    VIF ≥ 10: Indicates severe multicollinearity; you should consider removing or combining features.\n",
    "    \n",
    "\n",
    "**Best of Both Worlds**\n",
    "You can combine both approaches:\n",
    "\n",
    "Use VIF analysis to drop a few features with the highest multicollinearity to simplify the data.\n",
    "Then, apply Logistic Regression with regularization (Lasso or Ridge) to fine-tune feature importance and handle any remaining multicollinearity."
   ]
  },
  {
   "cell_type": "code",
   "execution_count": 56,
   "metadata": {},
   "outputs": [
    {
     "name": "stdout",
     "output_type": "stream",
     "text": [
      "                  Features           VIF\n",
      "56       total day minutes  1.064855e+07\n",
      "58        total day charge  1.064854e+07\n",
      "61        total eve charge  2.252244e+06\n",
      "59       total eve minutes  2.252231e+06\n",
      "62     total night minutes  6.355659e+05\n",
      "..                     ...           ...\n",
      "57         total day calls  1.028460e+00\n",
      "68  customer service calls  1.025810e+00\n",
      "63       total night calls  1.024541e+00\n",
      "54          account length  1.023379e+00\n",
      "66        total intl calls  1.023334e+00\n",
      "\n",
      "[69 rows x 2 columns]\n"
     ]
    }
   ],
   "source": [
    "# Check for multicollinearity with the vif method\n",
    "\n",
    "# Import the library needed\n",
    "from statsmodels.stats.outliers_influence import variance_inflation_factor\n",
    "\n",
    "\n",
    "# Create a vif dataframe that will store the vif results\n",
    "vif_df = pd.DataFrame()\n",
    "\n",
    "\n",
    "# Add feature columns names to this df (from the scaled df)\n",
    "vif_df['Features'] = X_train_scaled_df.columns\n",
    "\n",
    "\n",
    "# Calculate the vif for each column (feature) and put the score in the 'VIF' column in the vif df\n",
    "vif_df['VIF'] = [variance_inflation_factor(X_train_scaled_df.values, i)\n",
    "                for i in range(X_train_scaled_df.shape[1])]\n",
    "\n",
    "\"\"\"X_train_scaled_df.values: Converts the scaled DataFrame to a NumPy array, as variance_inflation_factor works with arrays.\n",
    "for i in range(X_train_scaled_df.shape[1]): Iterates over each column (feature) in the DataFrame.\n",
    "variance_inflation_factor(X_train_scaled_df.values, i): Calculates the VIF for the 𝑖𝑡ℎ feature. \n",
    "A high VIF indicates multicollinearity.\"\"\"\n",
    "\n",
    "print(vif_df.sort_values(by='VIF', ascending=False))"
   ]
  },
  {
   "cell_type": "code",
   "execution_count": 57,
   "metadata": {},
   "outputs": [
    {
     "data": {
      "text/html": [
       "<div>\n",
       "<style scoped>\n",
       "    .dataframe tbody tr th:only-of-type {\n",
       "        vertical-align: middle;\n",
       "    }\n",
       "\n",
       "    .dataframe tbody tr th {\n",
       "        vertical-align: top;\n",
       "    }\n",
       "\n",
       "    .dataframe thead th {\n",
       "        text-align: right;\n",
       "    }\n",
       "</style>\n",
       "<table border=\"1\" class=\"dataframe\">\n",
       "  <thead>\n",
       "    <tr style=\"text-align: right;\">\n",
       "      <th></th>\n",
       "      <th>Features</th>\n",
       "      <th>VIF</th>\n",
       "    </tr>\n",
       "  </thead>\n",
       "  <tbody>\n",
       "    <tr>\n",
       "      <th>0</th>\n",
       "      <td>state_AL</td>\n",
       "      <td>2.556376</td>\n",
       "    </tr>\n",
       "    <tr>\n",
       "      <th>1</th>\n",
       "      <td>state_AR</td>\n",
       "      <td>2.072709</td>\n",
       "    </tr>\n",
       "    <tr>\n",
       "      <th>2</th>\n",
       "      <td>state_AZ</td>\n",
       "      <td>2.351091</td>\n",
       "    </tr>\n",
       "    <tr>\n",
       "      <th>3</th>\n",
       "      <td>state_CA</td>\n",
       "      <td>1.674979</td>\n",
       "    </tr>\n",
       "    <tr>\n",
       "      <th>4</th>\n",
       "      <td>state_CO</td>\n",
       "      <td>2.333731</td>\n",
       "    </tr>\n",
       "    <tr>\n",
       "      <th>...</th>\n",
       "      <td>...</td>\n",
       "      <td>...</td>\n",
       "    </tr>\n",
       "    <tr>\n",
       "      <th>64</th>\n",
       "      <td>total night charge</td>\n",
       "      <td>635562.646604</td>\n",
       "    </tr>\n",
       "    <tr>\n",
       "      <th>65</th>\n",
       "      <td>total intl minutes</td>\n",
       "      <td>70710.289520</td>\n",
       "    </tr>\n",
       "    <tr>\n",
       "      <th>66</th>\n",
       "      <td>total intl calls</td>\n",
       "      <td>1.023334</td>\n",
       "    </tr>\n",
       "    <tr>\n",
       "      <th>67</th>\n",
       "      <td>total intl charge</td>\n",
       "      <td>70709.978987</td>\n",
       "    </tr>\n",
       "    <tr>\n",
       "      <th>68</th>\n",
       "      <td>customer service calls</td>\n",
       "      <td>1.025810</td>\n",
       "    </tr>\n",
       "  </tbody>\n",
       "</table>\n",
       "<p>69 rows × 2 columns</p>\n",
       "</div>"
      ],
      "text/plain": [
       "                  Features            VIF\n",
       "0                 state_AL       2.556376\n",
       "1                 state_AR       2.072709\n",
       "2                 state_AZ       2.351091\n",
       "3                 state_CA       1.674979\n",
       "4                 state_CO       2.333731\n",
       "..                     ...            ...\n",
       "64      total night charge  635562.646604\n",
       "65      total intl minutes   70710.289520\n",
       "66        total intl calls       1.023334\n",
       "67       total intl charge   70709.978987\n",
       "68  customer service calls       1.025810\n",
       "\n",
       "[69 rows x 2 columns]"
      ]
     },
     "execution_count": 57,
     "metadata": {},
     "output_type": "execute_result"
    }
   ],
   "source": [
    "vif_df"
   ]
  },
  {
   "cell_type": "code",
   "execution_count": 58,
   "metadata": {},
   "outputs": [
    {
     "name": "stdout",
     "output_type": "stream",
     "text": [
      "Features with high VIF:\n",
      "                 Features           VIF\n",
      "53    voice mail plan_yes  1.218280e+01\n",
      "55  number vmail messages  1.217342e+01\n",
      "56      total day minutes  1.064855e+07\n",
      "58       total day charge  1.064854e+07\n",
      "59      total eve minutes  2.252231e+06\n",
      "61       total eve charge  2.252244e+06\n",
      "62    total night minutes  6.355659e+05\n",
      "64     total night charge  6.355626e+05\n",
      "65     total intl minutes  7.071029e+04\n",
      "67      total intl charge  7.070998e+04\n"
     ]
    }
   ],
   "source": [
    "# Filter features with high VIF\n",
    "high_vif = vif_df[vif_df['VIF'] > 10]  # Threshold for high VIF\n",
    "print(\"Features with high VIF:\")\n",
    "print(high_vif)"
   ]
  },
  {
   "cell_type": "code",
   "execution_count": 59,
   "metadata": {},
   "outputs": [
    {
     "name": "stdout",
     "output_type": "stream",
     "text": [
      "Features with low VIF:\n",
      "                  Features       VIF\n",
      "0                 state_AL  2.556376\n",
      "1                 state_AR  2.072709\n",
      "2                 state_AZ  2.351091\n",
      "3                 state_CA  1.674979\n",
      "4                 state_CO  2.333731\n",
      "5                 state_CT  2.379547\n",
      "6                 state_DC  2.080227\n",
      "7                 state_DE  2.214619\n",
      "8                 state_FL  2.350148\n",
      "9                 state_GA  1.966979\n",
      "10                state_HI  2.026740\n",
      "11                state_IA  1.797385\n",
      "12                state_ID  2.424377\n",
      "13                state_IL  2.158161\n",
      "14                state_IN  2.342962\n",
      "15                state_KS  2.284022\n",
      "16                state_KY  2.166992\n",
      "17                state_LA  2.004428\n",
      "18                state_MA  2.295891\n",
      "19                state_MD  2.333651\n",
      "20                state_ME  2.263714\n",
      "21                state_MI  2.356445\n",
      "22                state_MN  2.491991\n",
      "23                state_MO  2.259552\n",
      "24                state_MS  2.214930\n",
      "25                state_MT  2.324296\n",
      "26                state_NC  2.271949\n",
      "27                state_ND  2.081058\n",
      "28                state_NE  2.192246\n",
      "29                state_NH  2.121935\n",
      "30                state_NJ  2.266897\n",
      "31                state_NM  2.175674\n",
      "32                state_NV  2.305524\n",
      "33                state_NY  2.512641\n",
      "34                state_OH  2.403744\n",
      "35                state_OK  2.263977\n",
      "36                state_OR  2.357287\n",
      "37                state_PA  1.820075\n",
      "38                state_RI  2.148847\n",
      "39                state_SC  2.102127\n",
      "40                state_SD  2.143892\n",
      "41                state_TN  1.989477\n",
      "42                state_TX  2.355328\n",
      "43                state_UT  2.392088\n",
      "44                state_VA  2.386073\n",
      "45                state_VT  2.308934\n",
      "46                state_WA  2.172116\n",
      "47                state_WI  2.555260\n",
      "48                state_WV  3.082105\n",
      "49                state_WY  2.423308\n",
      "50           area code_415  1.531835\n",
      "51           area code_510  1.531078\n",
      "52  international plan_yes  1.035737\n",
      "54          account length  1.023379\n",
      "57         total day calls  1.028460\n",
      "60         total eve calls  1.032960\n",
      "63       total night calls  1.024541\n",
      "66        total intl calls  1.023334\n",
      "68  customer service calls  1.025810\n",
      "\n",
      "\n",
      "Number of low vif features: 59\n"
     ]
    }
   ],
   "source": [
    "# Filter features with low VIF\n",
    "low_vif = vif_df[vif_df['VIF'] < 10]  # Threshold for high VIF\n",
    "print(\"Features with low VIF:\")\n",
    "print(low_vif)\n",
    "print('\\n')\n",
    "print(f'Number of low vif features: {len(low_vif)}')"
   ]
  },
  {
   "cell_type": "code",
   "execution_count": 60,
   "metadata": {},
   "outputs": [
    {
     "name": "stdout",
     "output_type": "stream",
     "text": [
      "Remaining Features after dropping:\n",
      "Index(['state_AL', 'state_AR', 'state_AZ', 'state_CA', 'state_CO', 'state_CT',\n",
      "       'state_DC', 'state_DE', 'state_FL', 'state_GA', 'state_HI', 'state_IA',\n",
      "       'state_ID', 'state_IL', 'state_IN', 'state_KS', 'state_KY', 'state_LA',\n",
      "       'state_MA', 'state_MD', 'state_ME', 'state_MI', 'state_MN', 'state_MO',\n",
      "       'state_MS', 'state_MT', 'state_NC', 'state_ND', 'state_NE', 'state_NH',\n",
      "       'state_NJ', 'state_NM', 'state_NV', 'state_NY', 'state_OH', 'state_OK',\n",
      "       'state_OR', 'state_PA', 'state_RI', 'state_SC', 'state_SD', 'state_TN',\n",
      "       'state_TX', 'state_UT', 'state_VA', 'state_VT', 'state_WA', 'state_WI',\n",
      "       'state_WV', 'state_WY', 'area code_415', 'area code_510',\n",
      "       'international plan_yes', 'account length', 'total day calls',\n",
      "       'total eve calls', 'total night calls', 'total intl calls',\n",
      "       'customer service calls'],\n",
      "      dtype='object')\n",
      "\n",
      "\n",
      "59\n"
     ]
    }
   ],
   "source": [
    "# Drop high VIF features on the training set\n",
    "X_train_final = X_train_scaled_df.drop(columns=high_vif['Features'])\n",
    "print(\"Remaining Features after dropping:\")\n",
    "print(X_train_final.columns)\n",
    "print('\\n')\n",
    "print(len(X_train_final.columns))"
   ]
  },
  {
   "cell_type": "code",
   "execution_count": 61,
   "metadata": {},
   "outputs": [
    {
     "name": "stdout",
     "output_type": "stream",
     "text": [
      "Remaining Features after dropping:\n",
      "Index(['state_AL', 'state_AR', 'state_AZ', 'state_CA', 'state_CO', 'state_CT',\n",
      "       'state_DC', 'state_DE', 'state_FL', 'state_GA', 'state_HI', 'state_IA',\n",
      "       'state_ID', 'state_IL', 'state_IN', 'state_KS', 'state_KY', 'state_LA',\n",
      "       'state_MA', 'state_MD', 'state_ME', 'state_MI', 'state_MN', 'state_MO',\n",
      "       'state_MS', 'state_MT', 'state_NC', 'state_ND', 'state_NE', 'state_NH',\n",
      "       'state_NJ', 'state_NM', 'state_NV', 'state_NY', 'state_OH', 'state_OK',\n",
      "       'state_OR', 'state_PA', 'state_RI', 'state_SC', 'state_SD', 'state_TN',\n",
      "       'state_TX', 'state_UT', 'state_VA', 'state_VT', 'state_WA', 'state_WI',\n",
      "       'state_WV', 'state_WY', 'area code_415', 'area code_510',\n",
      "       'international plan_yes', 'account length', 'total day calls',\n",
      "       'total eve calls', 'total night calls', 'total intl calls',\n",
      "       'customer service calls'],\n",
      "      dtype='object')\n",
      "\n",
      "\n",
      "(667, 59)\n"
     ]
    }
   ],
   "source": [
    "# Drop high VIF features in the test set\n",
    "X_test_final = X_test_scaled_df.drop(columns=high_vif['Features'])\n",
    "print(\"Remaining Features after dropping:\")\n",
    "print(X_test_final.columns)\n",
    "print('\\n')\n",
    "print(X_test_final.shape)"
   ]
  },
  {
   "cell_type": "markdown",
   "metadata": {},
   "source": [
    "UP UNTIL THIS POINT, THE TRAINING SET IS THE **X_train_final** and **y_train_final**, AND THE TESTING SET IS THE **X_test_final** and **y_test_final**"
   ]
  },
  {
   "cell_type": "code",
   "execution_count": null,
   "metadata": {},
   "outputs": [],
   "source": []
  },
  {
   "cell_type": "markdown",
   "metadata": {},
   "source": [
    "###### FEATURE SELECTION - EMBEDDED METHOD (Lasso)\n",
    "Feature selection should be done after the data is prepared (imbalanced handled, multicollinearity checked, and features scaled), as it helps improve model performance and reduces overfitting. By this point, you've already dealt with data issues, so selecting the most important features will be more effective.\n",
    "\n",
    "This is an additional step to further refine the features and improve your logistic regression model's performance. Feature selection can help identify the most relevant features for predicting the target variable. \n",
    "\n",
    "Futher feature selection will be done during modeling (RFE/Lasso/Ridge). At this stage selection fromvif will surfice."
   ]
  },
  {
   "cell_type": "markdown",
   "metadata": {},
   "source": [
    "##### DEALING WITH THE CLASS IMBALANCE\n",
    "Now that your feature set is well-prepared, you should address the class imbalance before starting your modeling. Since class imbalance affects model performance significantly (especially in logistic regression), tackling it now ensures that your model training is fair and effective.\n",
    "\n",
    "The key principle is that you should handle dataset-level preprocessing steps like multicollinearity checks, standardization, and feature selection before addressing class imbalance. \n",
    "Imbalance handling (like SMOTE or class weighting) alters the training dataset but does not affect the testing dataset, which must remain untouched to simulate real-world scenarios. Therefore, preprocessing must be applied before the training set is modified by oversampling, undersampling, or weighting."
   ]
  },
  {
   "cell_type": "markdown",
   "metadata": {},
   "source": [
    "can address class imbalance and perform feature selection during modeling in logistic regression, and your model can still be effective. \n",
    "\n",
    "Logistic regression has a built-in parameter, class_weight='balanced', which adjusts the weights of each class inversely proportional to their frequencies. This ensures the algorithm treats both classes fairly without requiring you to oversample or undersample the data.\n",
    "\n",
    "How it Works:\n",
    "For the minority class (e.g., churned customers), the model assigns a higher penalty for misclassification.\n",
    "For the majority class (e.g., non-churned customers), the penalty is lower.\n",
    "This approach avoids modifying the dataset and allows the algorithm to handle imbalance directly.\n",
    "\n",
    "Feature selection can be seamlessly integrated into logistic regression using techniques like:\n",
    "\n",
    "Lasso Regularization (L1):\n",
    "\n",
    "Automatically sets the coefficients of less important features to zero, effectively removing them.\n",
    "Recursive Feature Elimination (RFE):\n",
    "\n",
    "Iteratively eliminates the least important features based on their impact on model performance.\n",
    "Analyzing Coefficients Post-Training:\n",
    "\n",
    "After training, examine feature coefficients to identify and remove features with negligible impact.\n",
    "\n",
    "\n",
    "**Combining Both Steps**\n",
    "When using built-in logistic regression capabilities, you can simultaneously:\n",
    "\n",
    "Address class imbalance with class_weight='balanced'.\n",
    "Perform feature selection through L1 regularization or post-training analysis.\n",
    "This approach:\n",
    "\n",
    "Simplifies the workflow (fewer preprocessing steps).\n",
    "Leverages logistic regression's built-in capabilities to streamline the proces\n",
    "\n",
    "**Effectiveness of This Approach**\n",
    "By handling class imbalance and feature selection during modeling:\n",
    "\n",
    "You reduce the need for preprocessing steps.\n",
    "You ensure the model is balanced and focuses only on meaningful features.\n",
    "This workflow is efficient and often leads to good model performance while maintaining simplicity. However:\n",
    "\n",
    "Always validate the model on the test set to ensure it generalizes well to unseen data.\n",
    "If performance is suboptimal, consider additional steps like hyperparameter tuning or alternative resampling techniques."
   ]
  },
  {
   "cell_type": "markdown",
   "metadata": {},
   "source": [
    "## MODELING\n",
    "MENTION THE MODELS PICKED (logistic reg + dt), then compare performance\n",
    "\n",
    "HAVE 3 MODELS (baseline, and 2nd and 3rd hyperparameter tuned models)\n",
    "\n",
    "CLASSIFICATION MODEL (LOGISTIC REG/DECISION TREE)\n",
    "\n",
    "ENSURE TO INCLUDE PREDICTIVE APPROACH IN ADDITION TO INFERENTIAL\n",
    "\n",
    "MENTION PREDICTIVE FINDINGS & RECOMMENDATIONS\n",
    "\n",
    "ITERATIVE APPROACH TO MODELING (build multiple models...check project desc)\n",
    "\n",
    "JUSTIFY REASONS FOR SELECTING THE MODEL\n",
    "\n",
    "REFER TO THE METRICS OF SUCCESS MENTIONED EARLIER\n",
    "\n",
    "In this section, we focus on building and evaluating classification models to predict customer churn. The modeling process employs an iterative approach, progressively refining the models to achieve optimal performance. We begin with a simple logistic regression model as a baseline to establish a point of comparison. This baseline model is then improved through hyperparameter tuning to develop a more robust second version. Finally, we transition to a decision tree model, leveraging its interpretability and flexibility, and fine-tune it for further enhancement.\n",
    "\n",
    "This approach balances both predictive and inferential objectives. Logistic regression is chosen for its simplicity and statistical interpretability, while the decision tree complements it by offering insights into feature importance and complex decision boundaries. Both models are evaluated on key performance metrics—precision, recall, F1-score, and the AUC-ROC curve—to ensure comprehensive assessment and comparison.\n",
    "\n",
    "The ultimate goal is to identify the best-performing model that can generalize well to unseen data and provide actionable insights into customer churn. These insights will inform strategic recommendations to stakeholders and guide the next steps in addressing churn. This iterative modeling strategy ensures that each successive model builds upon the lessons learned from the previous one, enabling both accuracy and business relevance in the findings."
   ]
  },
  {
   "cell_type": "markdown",
   "metadata": {},
   "source": [
    "### BASELINE MODEL - LOGISTIC REGRESSION MODEL"
   ]
  },
  {
   "cell_type": "code",
   "execution_count": 62,
   "metadata": {},
   "outputs": [
    {
     "name": "stdout",
     "output_type": "stream",
     "text": [
      "Confusion Matrix:\n",
      " [[413 157]\n",
      " [ 38  59]]\n",
      "\n",
      "\n",
      "Classification Report:\n",
      "               precision    recall  f1-score   support\n",
      "\n",
      "           0       0.92      0.72      0.81       570\n",
      "           1       0.27      0.61      0.38        97\n",
      "\n",
      "    accuracy                           0.71       667\n",
      "   macro avg       0.59      0.67      0.59       667\n",
      "weighted avg       0.82      0.71      0.75       667\n",
      "\n",
      "\n",
      "\n",
      "AUC-ROC: 0.694212334961114\n"
     ]
    },
    {
     "data": {
      "image/png": "[encoded data removed]",
      "text/plain": [
       "<Figure size 576x432 with 1 Axes>"
      ]
     },
     "metadata": {
      "needs_background": "light"
     },
     "output_type": "display_data"
    },
    {
     "name": "stdout",
     "output_type": "stream",
     "text": [
      "\n",
      "\n"
     ]
    },
    {
     "data": {
      "image/png": "[encoded data removed]",
      "text/plain": [
       "<Figure size 576x432 with 1 Axes>"
      ]
     },
     "metadata": {
      "needs_background": "light"
     },
     "output_type": "display_data"
    }
   ],
   "source": [
    "# Build a logistic regression model, ensure feature selection (lasso (l1 regularization)) and... \n",
    "#... class imbalance (class_weight) are addressed in the model. Random state parameter included for reproducibility.\n",
    "\n",
    "# Instatiate the logistic regression model with the required parameters\n",
    "log_reg = LogisticRegression(class_weight = 'balanced', penalty='l1', solver= 'liblinear', random_state =42)\n",
    "\n",
    "\n",
    "# Fit the model on the training data to learn patterns in the training data\n",
    "log_reg.fit(X_train_final, y_train_final)\n",
    "\n",
    "\n",
    "# Evaluate the model's performance with the test set on predicting y, from the X_test_final\n",
    "y_pred = log_reg.predict(X_test_final)\n",
    "\n",
    "\n",
    "# Metrics of evaluation\n",
    "# A confusion matrix of the actual y values and the predicted y values\n",
    "print(\"Confusion Matrix:\\n\", confusion_matrix(y_test_final, y_pred))\n",
    "print('\\n')\n",
    "# A classification report with a detailed report on the metrics of our model \n",
    "print(\"Classification Report:\\n\", classification_report(y_test_final, y_pred))\n",
    "\n",
    "\n",
    "# AUC-ROC Curve\n",
    "y_pred_prob = log_reg.predict_proba(X_test_final)[:, 1]\n",
    "roc_auc = roc_auc_score(y_test_final, y_pred_prob)\n",
    "print('\\n')\n",
    "print(\"AUC-ROC:\", roc_auc)\n",
    "\n",
    "\n",
    "\n",
    "# Precision-Recall Curve\n",
    "precision, recall, thresholds = precision_recall_curve(y_test_final, y_pred_prob)\n",
    "plt.figure(figsize=(8, 6))\n",
    "plt.plot(recall, precision, color='b', label='Precision-Recall curve')\n",
    "plt.xlabel('Recall')\n",
    "plt.ylabel('Precision')\n",
    "plt.title('Precision-Recall curve')\n",
    "plt.show()\n",
    "print('\\n')\n",
    "\n",
    "\n",
    "# ROC Curve\n",
    "fpr, tpr, _ = roc_curve(y_test_final, y_pred_prob)\n",
    "plt.figure(figsize=(8, 6))\n",
    "plt.plot(fpr, tpr, color='b', label='ROC curve (area = %0.2f)' % roc_auc)\n",
    "plt.plot([0, 1], [0, 1], color='gray', linestyle='--')\n",
    "plt.xlabel('False Positive Rate')\n",
    "plt.ylabel('True Positive Rate')\n",
    "plt.title('Receiver Operating Characteristic')\n",
    "plt.show()"
   ]
  },
  {
   "cell_type": "markdown",
   "metadata": {},
   "source": [
    "###### INTERPRETATION OF THE BASELINE MODEL\n",
    "**Confusion Matrix**\n",
    "\n",
    "True Negatives (TN): 413\n",
    "The model correctly predicted 413 non-churners (class 0) as non-churners.\n",
    "\n",
    "False Positives (FP): 157\n",
    "The model incorrectly predicted 157 non-churners as churners.\n",
    "\n",
    "False Negatives (FN): 38\n",
    "The model incorrectly predicted 38 churners as non-churners.\n",
    "\n",
    "True Positives (TP): 59\n",
    "The model correctly predicted 59 churners (class 1) as churners.\n",
    "\n",
    "\n",
    "**Classification Report**\n",
    "Explanation of Metrics:\n",
    "Precision:\n",
    "\n",
    "For class 1 (churn), precision is 0.27, meaning that only 27% of the predictions labeled as churn are actually churners. This indicates a high number of false positives (157).\n",
    "For class 0 (non-churn), precision is 0.92, meaning the model is highly accurate when predicting non-churn.\n",
    "Recall (Sensitivity):\n",
    "\n",
    "For class 1 (churn), recall is 0.61, meaning the model correctly identifies 61% of churners in the dataset.\n",
    "For class 0 (non-churn), recall is 0.72, meaning the model correctly identifies 72% of non-churners.\n",
    "F1-Score:\n",
    "\n",
    "The F1-score is the harmonic mean of precision and recall.\n",
    "For class 1 (churn), F1-score is 0.38, which is low, indicating poor balance between precision and recall for predicting churn.\n",
    "For class 0 (non-churn), F1-score is 0.81, which is strong.\n",
    "Overall Accuracy:\n",
    "The model achieves an accuracy of 71%, but since the dataset is imbalanced, accuracy alone is not a reliable metric.\n",
    "\n",
    "Macro Average:\n",
    "The average metric values across both classes (unweighted).\n",
    "\n",
    "Macro F1-score is 0.59, showing that the model struggles with class 1 (churn).\n",
    "Weighted Average:\n",
    "The average metric values weighted by the support (number of instances in each class).\n",
    "\n",
    "Weighted F1-score is 0.75, influenced heavily by the majority class (non-churn).\n",
    "\n",
    "\n",
    "**AUC-ROC: 0.694**\n",
    "The AUC-ROC score is 0.694, which is decent but not excellent.\n",
    "An AUC-ROC closer to 1.0 indicates a better distinction between classes, while a score near 0.5 indicates random guessing.\n",
    "This suggests the model has moderate discriminatory power in distinguishing churners from non-churners.\n",
    "\n",
    "Area Under the Curve (AUC-ROC):\n",
    "AUC-ROC measures the area under the ROC curve and provides a single number summarizing the model's performance.\n",
    "Interpretation of AUC-ROC:\n",
    "1.0: Perfect model.\n",
    "0.7–0.9: Good model.\n",
    "0.5–0.7: Poor model.\n",
    "\n",
    "\n",
    "\n",
    "**Key Observations:**\n",
    "**Strengths:**\n",
    "The model is strong at identifying non-churners (class 0), as seen from the high precision (92%) and F1-score (81%) for this class.\n",
    "Recall for churners (class 1) is relatively decent (61%), meaning it captures most of the churners.\n",
    "\n",
    "\n",
    "**Weaknesses:**\n",
    "Precision for churners (class 1) is very low (27%), meaning a significant portion of the churn predictions are incorrect.\n",
    "The F1-score for churners (38%) reflects poor balance between precision and recall for this minority class.\n",
    "Class imbalance is still affecting the model's performance, as the majority class dominates the metrics.\n",
    "\n",
    "\n",
    "**Performance Evaluation:**\n",
    "Overall: The model’s performance is medium, with room for improvement. It can identify churners reasonably well but struggles with precision for churn predictions.\n",
    "\n",
    "\n",
    "**Action Points:**\n",
    "Address the low precision for churners by further tuning the model or trying additional methods like oversampling the minority class (e.g., SMOTE).\n",
    "Consider experimenting with hyperparameter tuning for the logistic regression model to improve performance.\n",
    "Evaluate alternative models (e.g., decision trees) to see if they handle the imbalance better.\n",
    "\n",
    "\n",
    "**Next Steps:**\n",
    "Hyperparameter Tuning: Improve this logistic regression model with regularization strength (C) and other parameters.\n",
    "Alternative Models: Test decision tree classifiers, which might better handle the imbalance and non-linear relationships.\n",
    "Revisit Class Balancing Techniques: Try oversampling, undersampling, or synthetic techniques (SMOTE).\n",
    "Actionable Insights: Investigate the features driving churn predictions (coefficients in logistic regression) to provide actionable insights for the stakeholders.\n",
    "\n",
    "\n",
    "**Interpreting Precision-Recall Curve**\n",
    "\n",
    "The **precision-recall (PR) curve** is a graphical representation of the tradeoff between precision (positive predictive value) and recall (sensitivity) for different thresholds of classification. It is particularly useful when dealing with imbalanced datasets, as it focuses on the positive (minority) class.\n",
    "\n",
    " **Key Components**:\n",
    "- **Precision**: The proportion of true positives among all predicted positives.\n",
    "- **Recall**: The proportion of true positives among all actual positives.\n",
    "\n",
    "**How to Interpret**:\n",
    "1. **Curve Shape**:\n",
    "   - A PR curve closer to the top-right corner indicates better model performance.\n",
    "   - A model that randomly guesses would produce a horizontal line at the level of the baseline precision, which equals the proportion of positive instances in the dataset.\n",
    "\n",
    "2. **Precision-Recall Tradeoff**:\n",
    "   - As recall increases, precision typically decreases. This happens because, to capture more positives (increase recall), the model starts predicting more instances as positive, increasing false positives.\n",
    "   - A sharp drop in precision as recall increases indicates the model struggles with making accurate predictions when trying to capture all positives.\n",
    "\n",
    "3. **Area Under the Curve (AUC-PR)**:\n",
    "   - A higher AUC-PR value indicates better model performance.\n",
    "   - This metric is more informative than ROC-AUC in imbalanced datasets because it focuses on the minority class.\n",
    "\n",
    "4. **Choosing a Threshold**:\n",
    "   - Use the PR curve to determine a threshold that balances precision and recall based on the problem's needs. For example:\n",
    "     - High precision might be necessary if false positives are costly.\n",
    "     - High recall might be necessary if missing true positives is unacceptable.\n",
    "\n",
    "---\n",
    "\n",
    "**Interpreting ROC Curve**\n",
    "\n",
    "The **receiver operating characteristic (ROC) curve** plots the true positive rate (TPR or recall) against the false positive rate (FPR) for different classification thresholds. It evaluates the model's ability to distinguish between classes.\n",
    "\n",
    " **Key Components**:\n",
    "- **True Positive Rate (TPR / Recall)**: The proportion of actual positives correctly predicted as positives.\n",
    "- **False Positive Rate (FPR)**: The proportion of actual negatives incorrectly predicted as positives.\n",
    "\n",
    "**How to Interpret**:\n",
    "1. **Curve Shape**:\n",
    "   - An ideal model has a curve that hugs the top-left corner, indicating high TPR and low FPR.\n",
    "   - A random model (guessing) produces a diagonal line from (0,0) to (1,1), with an AUC-ROC of 0.5.\n",
    "\n",
    "2. **Area Under the Curve (AUC-ROC)**:\n",
    "   - AUC-ROC measures the area under the ROC curve and provides a single number summarizing the model's performance.\n",
    "   - **Interpretation of AUC-ROC**:\n",
    "     - **1.0**: Perfect model.\n",
    "     - **0.7–0.9**: Good model.\n",
    "     - **0.5–0.7**: Poor model.\n",
    "     - **0.5**: Random guessing.\n",
    "\n",
    "3. **Threshold Selection**:\n",
    "   - The ROC curve helps select a threshold based on the tradeoff between TPR and FPR.\n",
    "   - For example:\n",
    "     - A low threshold increases TPR (recall) but also FPR.\n",
    "     - A high threshold reduces FPR but might miss true positives, lowering TPR.\n",
    "\n",
    "4. **Imbalanced Data**:\n",
    "   - ROC curves can be misleading in imbalanced datasets because they consider both classes equally. In such cases, the PR curve is more informative.\n",
    "\n",
    "---\n",
    "\n",
    "**Key Differences Between PR and ROC Curves**\n",
    "- **Focus**:\n",
    "  - PR curves focus on the positive (minority) class and are better for imbalanced datasets.\n",
    "  - ROC curves evaluate the performance across both classes.\n",
    "- **Interpretation in Imbalanced Data**:\n",
    "  - A high AUC-ROC may not mean the model is good at predicting the minority class because FPR is dominated by the majority class.\n",
    "  - A high AUC-PR explicitly indicates good performance on the minority class.\n",
    "\n",
    "---\n",
    "\n",
    " **Summary**\n",
    "- Use the **PR curve** to evaluate the model’s ability to handle the minority class (churn, in your case).\n",
    "- Use the **ROC curve** for a broader assessment of class discrimination.\n",
    "- Choose a decision threshold that aligns with your business or problem-specific goals, balancing precision and recall."
   ]
  },
  {
   "cell_type": "markdown",
   "metadata": {},
   "source": [
    "### OPTIMIZATION 1"
   ]
  },
  {
   "cell_type": "code",
   "execution_count": 63,
   "metadata": {},
   "outputs": [],
   "source": [
    "from sklearn.model_selection import GridSearchCV\n",
    "from imblearn.over_sampling import SMOTE\n",
    "from imblearn.pipeline import Pipeline"
   ]
  },
  {
   "cell_type": "code",
   "execution_count": 64,
   "metadata": {},
   "outputs": [
    {
     "name": "stdout",
     "output_type": "stream",
     "text": [
      "Class distribution after SMOTE:\n",
      "1    2280\n",
      "0    2280\n",
      "Name: churn, dtype: int64\n"
     ]
    }
   ],
   "source": [
    "# Address the class imbalance\n",
    "\n",
    "# Initialize SMOTE with random state for reproducibility\n",
    "smote = SMOTE(random_state=42)\n",
    "\n",
    "# Fit SMOTE to create synthetic data for the minority training data (y)\n",
    "X_train_smot, y_train_smot = smote.fit_resample(X_train_final, y_train_final)\n",
    "\n",
    "# Confirm the new class distribution\n",
    "print(\"Class distribution after SMOTE:\")\n",
    "print(y_train_smot.value_counts())"
   ]
  },
  {
   "cell_type": "markdown",
   "metadata": {},
   "source": [
    "Above, we've dealt with the class imbalance by creating synthetic data for the minority class using SMOTE. As seen in the output above, the distribution of the values after SMOTE is now ideal."
   ]
  },
  {
   "cell_type": "code",
   "execution_count": 65,
   "metadata": {},
   "outputs": [],
   "source": [
    "# Hyperparameter Tuning\n",
    "# We’ll include cross-validation to find the best hyperparameters.\n",
    "\n",
    "# Instatiate the logistic regression model (use d l2 regularization & class weight from the baseline)\n",
    "log_reg = LogisticRegression( class_weight='balanced', penalty='l2' , solver='liblinear', random_state=42)\n",
    "\n",
    "\n",
    "# Set up hyperparameter grid that'll help identify the best hyperparameters for the model\n",
    "param_grid = param_grid = {\n",
    "    'C': [0.01, 0.1, 1, 10, 100]  # Regularization strength\n",
    "}\n",
    "\n",
    "# Use a pipeline to bundle up all these processes into a single object that can be called later.  \n",
    "pipeline = Pipeline(steps=[('smote', SMOTE(random_state=42)), ('log_reg', log_reg)])\n",
    "\n",
    "\n",
    "# Use GridSearchCV to find the best hyperparameter combo with cross validation\n",
    "grid_search = GridSearchCV(\n",
    "    estimator = pipeline,\n",
    "    param_grid = {'log_reg__C': param_grid['C']},\n",
    "    cv = 5,   #five-fold cross validation\n",
    "    scoring = 'roc_auc',\n",
    "    n_jobs=-1\n",
    ")"
   ]
  },
  {
   "cell_type": "code",
   "execution_count": 66,
   "metadata": {},
   "outputs": [
    {
     "name": "stdout",
     "output_type": "stream",
     "text": [
      "Best regularization strength (C): {'log_reg__C': 0.01}\n"
     ]
    }
   ],
   "source": [
    "# Train the model\n",
    "# grid_search contain our model, the pipeline with the processing steps, and the parameter grid. So we fit the grid search..\n",
    "#... to the training model.\n",
    "grid_search.fit(X_train_final, y_train_final)\n",
    "\n",
    "\n",
    "# Get the best model\n",
    "best_model = grid_search.best_estimator_\n",
    "\n",
    "\n",
    "# Best hyperparameter value\n",
    "print(\"Best regularization strength (C):\", grid_search.best_params_)"
   ]
  },
  {
   "cell_type": "code",
   "execution_count": 67,
   "metadata": {},
   "outputs": [
    {
     "name": "stdout",
     "output_type": "stream",
     "text": [
      "Confusion Matrix:\n",
      " [[403 167]\n",
      " [ 37  60]]\n",
      "\n",
      "\n",
      "Classification Report:\n",
      "               precision    recall  f1-score   support\n",
      "\n",
      "           0       0.92      0.71      0.80       570\n",
      "           1       0.26      0.62      0.37        97\n",
      "\n",
      "    accuracy                           0.69       667\n",
      "   macro avg       0.59      0.66      0.58       667\n",
      "weighted avg       0.82      0.69      0.74       667\n",
      "\n",
      "\n",
      "\n",
      "AUC-ROC: 0.6867788026767949\n",
      "\n",
      "\n"
     ]
    },
    {
     "data": {
      "image/png": "[encoded data removed]",
      "text/plain": [
       "<Figure size 432x288 with 1 Axes>"
      ]
     },
     "metadata": {
      "needs_background": "light"
     },
     "output_type": "display_data"
    }
   ],
   "source": [
    "# Evaluation of the optimized model\n",
    "\n",
    "# Predict the test set\n",
    "y_pred = best_model.predict(X_test_final)\n",
    "y_pred_prob = best_model.predict_proba(X_test_final)[:, 1]\n",
    "\n",
    "\n",
    "# Confusion Matrix\n",
    "conf_matrix = confusion_matrix(y_test_final, y_pred)\n",
    "print(\"Confusion Matrix:\\n\", conf_matrix)\n",
    "print('\\n')\n",
    "\n",
    "\n",
    "# Classification Report\n",
    "class_report = classification_report(y_test_final, y_pred)\n",
    "print(\"Classification Report:\\n\", class_report)\n",
    "print('\\n')\n",
    "\n",
    "\n",
    "# AUC-ROC\n",
    "roc_auc = roc_auc_score(y_test_final, y_pred_prob)\n",
    "print(\"AUC-ROC:\", roc_auc)\n",
    "print('\\n')\n",
    "\n",
    "\n",
    "\n",
    "# Plot ROC Curve\n",
    "fpr, tpr, thresholds = roc_curve(y_test_final, y_pred_prob)\n",
    "plt.plot(fpr, tpr, label=f\"ROC Curve (AUC = {roc_auc:.2f})\")\n",
    "plt.plot([0, 1], [0, 1], 'k--', label='Random Classifier')\n",
    "plt.xlabel('False Positive Rate')\n",
    "plt.ylabel('True Positive Rate')\n",
    "plt.title('ROC Curve')\n",
    "plt.legend()\n",
    "plt.show()"
   ]
  },
  {
   "cell_type": "code",
   "execution_count": null,
   "metadata": {},
   "outputs": [],
   "source": []
  },
  {
   "cell_type": "markdown",
   "metadata": {},
   "source": [
    "### OPTIMIZATION 2"
   ]
  },
  {
   "cell_type": "code",
   "execution_count": 68,
   "metadata": {},
   "outputs": [
    {
     "name": "stdout",
     "output_type": "stream",
     "text": [
      "Class distribution after ADASYN:\n",
      "1    2321\n",
      "0    2280\n",
      "Name: churn, dtype: int64\n"
     ]
    }
   ],
   "source": [
    "# Initialize ADASYN with random state for reproducibility\n",
    "adasyn = ADASYN(random_state=42)\n",
    "\n",
    "# Fit ADASYN to create synthetic data for the minority training data (y)\n",
    "X_train_adasyn, y_train_adasyn = adasyn.fit_resample(X_train_final, y_train_final)\n",
    "\n",
    "# Confirm the new class distribution\n",
    "print(\"Class distribution after ADASYN:\")\n",
    "print(y_train_adasyn.value_counts())"
   ]
  },
  {
   "cell_type": "code",
   "execution_count": 69,
   "metadata": {},
   "outputs": [
    {
     "name": "stdout",
     "output_type": "stream",
     "text": [
      "Fitting 5 folds for each of 7 candidates, totalling 35 fits\n"
     ]
    },
    {
     "name": "stderr",
     "output_type": "stream",
     "text": [
      "[Parallel(n_jobs=-1)]: Using backend LokyBackend with 8 concurrent workers.\n",
      "[Parallel(n_jobs=-1)]: Done  35 out of  35 | elapsed:    1.9s finished\n"
     ]
    },
    {
     "name": "stdout",
     "output_type": "stream",
     "text": [
      "Confusion Matrix:\n",
      " [[364 206]\n",
      " [ 34  63]]\n",
      "Classification Report:\n",
      "               precision    recall  f1-score   support\n",
      "\n",
      "           0       0.91      0.64      0.75       570\n",
      "           1       0.23      0.65      0.34        97\n",
      "\n",
      "    accuracy                           0.64       667\n",
      "   macro avg       0.57      0.64      0.55       667\n",
      "weighted avg       0.82      0.64      0.69       667\n",
      "\n",
      "AUC-ROC: 0.6861276903599204\n"
     ]
    }
   ],
   "source": [
    "# Initialize Logistic Regression\n",
    "log_reg = LogisticRegression(\n",
    "    class_weight='balanced', penalty='l2', solver='liblinear', random_state=42\n",
    ")\n",
    "\n",
    "# Define hyperparameter grid\n",
    "param_grid = {\n",
    "    'C': [0.001, 0.01, 0.1, 1, 10, 100, 1000]  # Regularization strengths\n",
    "}\n",
    "\n",
    "# Define pipeline with ADASYN\n",
    "pipeline = Pipeline(steps=[\n",
    "    ('adasyn', ADASYN(random_state=42)),  # Apply ADASYN during training\n",
    "    ('log_reg', log_reg)  # Logistic Regression model\n",
    "])\n",
    "\n",
    "# Perform Grid Search Cross-Validation\n",
    "grid_search = GridSearchCV(\n",
    "    estimator=pipeline,\n",
    "    param_grid={'log_reg__C': param_grid['C']},\n",
    "    cv=5,  # Five-fold cross-validation\n",
    "    scoring='roc_auc',  # Use AUC-ROC as the evaluation metric\n",
    "    verbose=1,\n",
    "    n_jobs=-1\n",
    ")\n",
    "\n",
    "# Train the model\n",
    "grid_search.fit(X_train_final, y_train_final)\n",
    "\n",
    "# Get the best model\n",
    "best_model = grid_search.best_estimator_\n",
    "\n",
    "# Evaluate the optimized model\n",
    "y_pred = best_model.predict(X_test_final)\n",
    "y_pred_prob = best_model.predict_proba(X_test_final)[:, 1]\n",
    "\n",
    "# Metrics and evaluation\n",
    "from sklearn.metrics import confusion_matrix, classification_report, roc_auc_score\n",
    "\n",
    "conf_matrix = confusion_matrix(y_test_final, y_pred)\n",
    "print(\"Confusion Matrix:\\n\", conf_matrix)\n",
    "\n",
    "class_report = classification_report(y_test_final, y_pred)\n",
    "print(\"Classification Report:\\n\", class_report)\n",
    "\n",
    "roc_auc = roc_auc_score(y_test_final, y_pred_prob)\n",
    "print(\"AUC-ROC:\", roc_auc)"
   ]
  },
  {
   "cell_type": "code",
   "execution_count": null,
   "metadata": {},
   "outputs": [],
   "source": []
  },
  {
   "cell_type": "markdown",
   "metadata": {},
   "source": [
    "### DECISION TREE"
   ]
  },
  {
   "cell_type": "code",
   "execution_count": 70,
   "metadata": {},
   "outputs": [
    {
     "name": "stdout",
     "output_type": "stream",
     "text": [
      "Confusion Matrix:\n",
      " [[488  82]\n",
      " [ 66  31]]\n",
      "Classification Report:\n",
      "               precision    recall  f1-score   support\n",
      "\n",
      "           0       0.88      0.86      0.87       570\n",
      "           1       0.27      0.32      0.30        97\n",
      "\n",
      "    accuracy                           0.78       667\n",
      "   macro avg       0.58      0.59      0.58       667\n",
      "weighted avg       0.79      0.78      0.78       667\n",
      "\n",
      "AUC-ROC: 0.5878639898715862\n"
     ]
    },
    {
     "data": {
      "image/png": "[encoded data removed]",
      "text/plain": [
       "<Figure size 432x288 with 1 Axes>"
      ]
     },
     "metadata": {
      "needs_background": "light"
     },
     "output_type": "display_data"
    }
   ],
   "source": [
    "# Initialize a simple Decision Tree\n",
    "dt_baseline = DecisionTreeClassifier(random_state=42)\n",
    "\n",
    "# Train on the training data\n",
    "dt_baseline.fit(X_train_final, y_train_final)\n",
    "\n",
    "# Predict on the test set\n",
    "y_pred = dt_baseline.predict(X_test_final)\n",
    "y_pred_prob = dt_baseline.predict_proba(X_test_final)[:, 1]\n",
    "\n",
    "# Evaluate the baseline Decision Tree\n",
    "conf_matrix = confusion_matrix(y_test_final, y_pred)\n",
    "print(\"Confusion Matrix:\\n\", conf_matrix)\n",
    "\n",
    "class_report = classification_report(y_test_final, y_pred)\n",
    "print(\"Classification Report:\\n\", class_report)\n",
    "\n",
    "roc_auc = roc_auc_score(y_test_final, y_pred_prob)\n",
    "print(\"AUC-ROC:\", roc_auc)\n",
    "\n",
    "# Plot the ROC Curve\n",
    "fpr, tpr, thresholds = roc_curve(y_test_final, y_pred_prob)\n",
    "plt.plot(fpr, tpr, label=f\"ROC Curve (AUC = {roc_auc:.2f})\")\n",
    "plt.plot([0, 1], [0, 1], 'k--', label='Random Classifier')\n",
    "plt.xlabel('False Positive Rate')\n",
    "plt.ylabel('True Positive Rate')\n",
    "plt.title('ROC Curve - Baseline Decision Tree')\n",
    "plt.legend()\n",
    "plt.show()"
   ]
  },
  {
   "cell_type": "markdown",
   "metadata": {},
   "source": [
    "### OPTIMIZED DECISION TREE"
   ]
  },
  {
   "cell_type": "code",
   "execution_count": 71,
   "metadata": {},
   "outputs": [
    {
     "name": "stdout",
     "output_type": "stream",
     "text": [
      "Fitting 5 folds for each of 250 candidates, totalling 1250 fits\n"
     ]
    },
    {
     "name": "stderr",
     "output_type": "stream",
     "text": [
      "[Parallel(n_jobs=-1)]: Using backend LokyBackend with 8 concurrent workers.\n",
      "[Parallel(n_jobs=-1)]: Done  56 tasks      | elapsed:    0.5s\n",
      "[Parallel(n_jobs=-1)]: Done 656 tasks      | elapsed:    6.1s\n",
      "[Parallel(n_jobs=-1)]: Done 1235 out of 1250 | elapsed:   11.5s remaining:    0.0s\n",
      "[Parallel(n_jobs=-1)]: Done 1250 out of 1250 | elapsed:   11.6s finished\n"
     ]
    },
    {
     "name": "stdout",
     "output_type": "stream",
     "text": [
      "Best Hyperparameters: {'class_weight': None, 'max_depth': 3, 'min_samples_leaf': 8, 'min_samples_split': 2}\n"
     ]
    }
   ],
   "source": [
    "# Initialize the Decision Tree with default settings\n",
    "dt = DecisionTreeClassifier(random_state=42)\n",
    "\n",
    "# Define the hyperparameter grid\n",
    "param_grid = {\n",
    "    'max_depth': [3, 5, 10, 15, None],\n",
    "    'min_samples_split': [2, 5, 10, 15, 20],\n",
    "    'min_samples_leaf': [1, 2, 4, 6, 8],\n",
    "    'class_weight': [None, 'balanced']\n",
    "}\n",
    "\n",
    "# Perform Grid Search\n",
    "grid_search_dt = GridSearchCV(\n",
    "    estimator=dt,\n",
    "    param_grid=param_grid,\n",
    "    cv=5,\n",
    "    scoring='roc_auc',\n",
    "    verbose=1,\n",
    "    n_jobs=-1\n",
    ")\n",
    "\n",
    "# Train the model using GridSearchCV\n",
    "grid_search_dt.fit(X_train_final, y_train_final)\n",
    "\n",
    "# Get the best model\n",
    "best_dt = grid_search_dt.best_estimator_\n",
    "\n",
    "# Best hyperparameter combination\n",
    "print(\"Best Hyperparameters:\", grid_search_dt.best_params_)"
   ]
  },
  {
   "cell_type": "code",
   "execution_count": 72,
   "metadata": {},
   "outputs": [
    {
     "name": "stdout",
     "output_type": "stream",
     "text": [
      "Confusion Matrix:\n",
      " [[552  18]\n",
      " [ 71  26]]\n",
      "Classification Report:\n",
      "               precision    recall  f1-score   support\n",
      "\n",
      "           0       0.89      0.97      0.93       570\n",
      "           1       0.59      0.27      0.37        97\n",
      "\n",
      "    accuracy                           0.87       667\n",
      "   macro avg       0.74      0.62      0.65       667\n",
      "weighted avg       0.84      0.87      0.84       667\n",
      "\n",
      "AUC-ROC: 0.7024326279616568\n"
     ]
    },
    {
     "data": {
      "image/png": "[encoded data removed]",
      "text/plain": [
       "<Figure size 432x288 with 1 Axes>"
      ]
     },
     "metadata": {
      "needs_background": "light"
     },
     "output_type": "display_data"
    }
   ],
   "source": [
    "# Predict on the test set\n",
    "y_pred_optimized = best_dt.predict(X_test_final)\n",
    "y_pred_prob_optimized = best_dt.predict_proba(X_test_final)[:, 1]\n",
    "\n",
    "# Confusion Matrix\n",
    "conf_matrix_optimized = confusion_matrix(y_test_final, y_pred_optimized)\n",
    "print(\"Confusion Matrix:\\n\", conf_matrix_optimized)\n",
    "\n",
    "# Classification Report\n",
    "class_report_optimized = classification_report(y_test_final, y_pred_optimized)\n",
    "print(\"Classification Report:\\n\", class_report_optimized)\n",
    "\n",
    "# AUC-ROC\n",
    "roc_auc_optimized = roc_auc_score(y_test_final, y_pred_prob_optimized)\n",
    "print(\"AUC-ROC:\", roc_auc_optimized)\n",
    "\n",
    "# Plot the ROC Curve\n",
    "fpr, tpr, thresholds = roc_curve(y_test_final, y_pred_prob_optimized)\n",
    "plt.plot(fpr, tpr, label=f\"ROC Curve (AUC = {roc_auc_optimized:.2f})\")\n",
    "plt.plot([0, 1], [0, 1], 'k--', label='Random Classifier')\n",
    "plt.xlabel('False Positive Rate')\n",
    "plt.ylabel('True Positive Rate')\n",
    "plt.title('ROC Curve - Optimized Decision Tree')\n",
    "plt.legend()\n",
    "plt.show()"
   ]
  },
  {
   "cell_type": "code",
   "execution_count": null,
   "metadata": {},
   "outputs": [],
   "source": []
  },
  {
   "cell_type": "markdown",
   "metadata": {},
   "source": [
    "## MODELS COMPARISON"
   ]
  },
  {
   "cell_type": "code",
   "execution_count": 73,
   "metadata": {},
   "outputs": [],
   "source": [
    "# Compare the performance of the logistic reg and decision tree"
   ]
  },
  {
   "cell_type": "code",
   "execution_count": null,
   "metadata": {},
   "outputs": [],
   "source": []
  },
  {
   "cell_type": "markdown",
   "metadata": {},
   "source": [
    "# DISCUSSION ON THE FINAL MODEL\n",
    "\n",
    "Provide 1-3 paragraphs discussing the final model.\n",
    "Explore; \n",
    "- model features and preprocessing approach\n",
    "- the diff kinds of models built\n",
    "- diff model hyperparameters and the tuning\n",
    "- ENSURE TO COMMUNICATE THE PERFORMANCE & INSIGHTS GENERATED BY THE ML MODELS"
   ]
  },
  {
   "cell_type": "markdown",
   "metadata": {},
   "source": [
    "## RECOMMENDATIONS"
   ]
  },
  {
   "cell_type": "code",
   "execution_count": 74,
   "metadata": {},
   "outputs": [],
   "source": [
    "#POINT FORM (discussion in paragraphs will be in the report)\n",
    "#PREDICTIVE FINDINGS & PREDICTIVE RECOMMENDATIONS\n",
    "#GIVE SUGGESTIONS BASED ON FINDNGS (ANALYSIS & MODELING)\n",
    "#GIVE SUGGESTION BASED ON CHALLENGES FACED (e.g we need to collect more data, check locations etc)"
   ]
  },
  {
   "cell_type": "code",
   "execution_count": null,
   "metadata": {},
   "outputs": [],
   "source": []
  },
  {
   "cell_type": "markdown",
   "metadata": {},
   "source": [
    "## CONCLUSION"
   ]
  },
  {
   "cell_type": "code",
   "execution_count": 75,
   "metadata": {},
   "outputs": [],
   "source": [
    "# Brief (more explanation in the data report)\n",
    "#WHAT ARE YOUR FINDINGS FROM THE ANALYSIS & MODELING?\n",
    "#ANSWERS EVERYTHING IN YOUR OBJECTIVES"
   ]
  },
  {
   "cell_type": "code",
   "execution_count": null,
   "metadata": {},
   "outputs": [],
   "source": []
  },
  {
   "cell_type": "markdown",
   "metadata": {},
   "source": [
    "## NEXT STEPS"
   ]
  },
  {
   "cell_type": "code",
   "execution_count": 76,
   "metadata": {},
   "outputs": [],
   "source": [
    "# POINT-FORM, BRIEF (more discussion in the report)\n",
    "#DISCUSS DEPLOYMENT OF THE MODEL FOR ACCESS TO END USERS\n",
    "# COLLECT MORE DATA POINTS"
   ]
  },
  {
   "cell_type": "code",
   "execution_count": null,
   "metadata": {},
   "outputs": [],
   "source": []
  }
 ],
 "metadata": {
  "kernelspec": {
   "display_name": "Python (learn-env)",
   "language": "python",
   "name": "learn-env"
  },
  "language_info": {
   "codemirror_mode": {
    "name": "ipython",
    "version": 3
   },
   "file_extension": ".py",
   "mimetype": "text/x-python",
   "name": "python",
   "nbconvert_exporter": "python",
   "pygments_lexer": "ipython3",
   "version": "3.8.5"
  }
 },
 "nbformat": 4,
 "nbformat_minor": 4
}
