{
 "cells": [
  {
   "cell_type": "markdown",
   "metadata": {},
   "source": [
    "# TELECOM CHURN PREDICTION PROJECT"
   ]
  },
  {
   "cell_type": "markdown",
   "metadata": {},
   "source": [
    "This project builds a classifier to predict customer churn for a telecom business. This project aims to help the telecom company retain customers. The project entails data preprocessing, analysis, model selection, and evaluation to achieve accurate and actionable predictions."
   ]
  },
  {
   "cell_type": "markdown",
   "metadata": {},
   "source": [
    "## BUSINESS OVERVIEW"
   ]
  },
  {
   "cell_type": "code",
   "execution_count": 2,
   "metadata": {},
   "outputs": [],
   "source": [
    "#DISCUSS B/S OVERVIEW (CHECK NIKITA'S GUIDE)\n",
    "#IF STATS ARE INCLUDED, MENTION REFERENCES(SOURCES)"
   ]
  },
  {
   "cell_type": "markdown",
   "metadata": {},
   "source": [
    "### PROBLEM STATEMENT"
   ]
  },
  {
   "cell_type": "code",
   "execution_count": 3,
   "metadata": {},
   "outputs": [],
   "source": [
    "# COME UP WITH PROBLEM STATEMENT\n",
    "# DEFINE STAKHOLDERS"
   ]
  },
  {
   "cell_type": "markdown",
   "metadata": {},
   "source": [
    "### OBJECTIVES"
   ]
  },
  {
   "cell_type": "code",
   "execution_count": null,
   "metadata": {},
   "outputs": [],
   "source": []
  },
  {
   "cell_type": "markdown",
   "metadata": {},
   "source": [
    "### METRICS OF SUCCESS"
   ]
  },
  {
   "cell_type": "code",
   "execution_count": null,
   "metadata": {},
   "outputs": [],
   "source": []
  },
  {
   "cell_type": "code",
   "execution_count": null,
   "metadata": {},
   "outputs": [],
   "source": []
  },
  {
   "cell_type": "markdown",
   "metadata": {},
   "source": [
    "## DATA UNDERSTANDING"
   ]
  },
  {
   "cell_type": "code",
   "execution_count": 4,
   "metadata": {},
   "outputs": [],
   "source": [
    "#BRIEF INTRO TO DATA UNDERSTANDING"
   ]
  },
  {
   "cell_type": "markdown",
   "metadata": {},
   "source": [
    "### DATA SOURCE"
   ]
  },
  {
   "cell_type": "code",
   "execution_count": 5,
   "metadata": {},
   "outputs": [],
   "source": [
    "#WHERE'S THE DATA FROM"
   ]
  },
  {
   "cell_type": "markdown",
   "metadata": {},
   "source": [
    "### UNDERSTANDING ROWS & COLUMNS IN THE DATASET"
   ]
  },
  {
   "cell_type": "code",
   "execution_count": 6,
   "metadata": {},
   "outputs": [],
   "source": [
    "# HOW MANY ROWS\n",
    "#HOW MANY COLUMNS\n",
    "# WHAT DO THE COLUMNS MEAN?"
   ]
  },
  {
   "cell_type": "code",
   "execution_count": 7,
   "metadata": {},
   "outputs": [],
   "source": [
    "#LOAD DATA, DOC STRING TO DESCRIBE THE COLS (.SHAPE, .INFO, OR .DESCRIBE)"
   ]
  },
  {
   "cell_type": "markdown",
   "metadata": {},
   "source": [
    "## DATA PREPARATION & ANALYSIS (EDA)"
   ]
  },
  {
   "cell_type": "code",
   "execution_count": 8,
   "metadata": {},
   "outputs": [],
   "source": [
    "#THIS BIT IS TECHNICAL ENSURE CODE IS USED HERE AND NOT ALOT OF EXPLAINING (explanation can be done in the report)\n",
    "#STEPS TAKEN TO PREP DATA, CLEANING, MISSING VALUES?\n",
    "# UNIVARIATE, BI, & MULTIVARIATE ANALYSIS"
   ]
  },
  {
   "cell_type": "code",
   "execution_count": 9,
   "metadata": {},
   "outputs": [],
   "source": [
    "#DISCUSS WHAT TO CHECK ON THE DATA (missing, duplicates(remove), outliers, nulls)\n",
    "#DISCUSS HOW TO DEAL WITH THEM\n",
    "#WHAT ARE THE % OF THE MISSING VALUES, DUPLICATES ETC.\n",
    "#IS IMPUTATION, DROPPING, FORWARD/BACKFILL THE OPTION TO USE"
   ]
  },
  {
   "cell_type": "code",
   "execution_count": null,
   "metadata": {},
   "outputs": [],
   "source": []
  },
  {
   "cell_type": "markdown",
   "metadata": {},
   "source": [
    "## DATA ANALYSIS"
   ]
  },
  {
   "cell_type": "code",
   "execution_count": 10,
   "metadata": {},
   "outputs": [],
   "source": [
    "#ACTUAL/MAIN ANALYSIS VISUALS ARE PLOTTED HERE\n",
    "#UNIVARIATE, BI, & MULTI"
   ]
  },
  {
   "cell_type": "code",
   "execution_count": 11,
   "metadata": {},
   "outputs": [],
   "source": [
    "#BE TECHNICAL HERE AND USE VISUALS TO DISPLAY THE TECHNICALITIES"
   ]
  },
  {
   "cell_type": "code",
   "execution_count": null,
   "metadata": {},
   "outputs": [],
   "source": []
  },
  {
   "cell_type": "markdown",
   "metadata": {},
   "source": [
    "## MODELING"
   ]
  },
  {
   "cell_type": "code",
   "execution_count": 12,
   "metadata": {},
   "outputs": [],
   "source": [
    "# MENTION THE MODELS PICKED\n",
    "# HAVE 3 MODELS (baseline, and 2nd and 3rd hyperparameter tuned models)\n",
    "# CLASSIFICATION MODEL (LOGISTIC REG/DECISION TREE)\n",
    "#ENSURE TO INCLUDE PREDICTIVE APPROACH IN ADDITION TO INFERENTIAL\n",
    "#MENTION PREDICTIVE FINDINGS & RECOMMENDATIONS\n",
    "#ITERATIVE APPROACH TO MODELING (build multiple models...check project desc)"
   ]
  },
  {
   "cell_type": "code",
   "execution_count": 13,
   "metadata": {},
   "outputs": [],
   "source": [
    "# JUSTIFY REASONS FOR SELECTING THE MODEL"
   ]
  },
  {
   "cell_type": "code",
   "execution_count": 14,
   "metadata": {},
   "outputs": [],
   "source": [
    "# REFER TO THE METRICS OF SUCCESS MENTIONED EARLIER"
   ]
  },
  {
   "cell_type": "code",
   "execution_count": null,
   "metadata": {},
   "outputs": [],
   "source": []
  },
  {
   "cell_type": "markdown",
   "metadata": {},
   "source": [
    "## MODEL EVALUATION"
   ]
  },
  {
   "cell_type": "code",
   "execution_count": 15,
   "metadata": {},
   "outputs": [],
   "source": [
    "#RANK MODELS ACCORDING TO METRICS DISCUSSED EARLIER\n",
    "#DISCUSS EACH MODEL AND ITS PERFORMANCE. MENTION THE BEST PERFORMER AND WHY"
   ]
  },
  {
   "cell_type": "code",
   "execution_count": null,
   "metadata": {},
   "outputs": [],
   "source": []
  },
  {
   "cell_type": "code",
   "execution_count": null,
   "metadata": {},
   "outputs": [],
   "source": []
  },
  {
   "cell_type": "code",
   "execution_count": null,
   "metadata": {},
   "outputs": [],
   "source": []
  },
  {
   "cell_type": "markdown",
   "metadata": {},
   "source": [
    "## RECOMMENDATIONS"
   ]
  },
  {
   "cell_type": "code",
   "execution_count": 16,
   "metadata": {},
   "outputs": [],
   "source": [
    "#POINT FORM (discussion in paragraphs will be in the report)\n",
    "#PREDICTIVE FINDINGS & PREDICTIVE RECOMMENDATIONS\n",
    "#GIVE SUGGESTIONS BASED ON FINDNGS (ANALYSIS & MODELING)\n",
    "#GIVE SUGGESTION BASED ON CHALLENGES FACED (e.g we need to collect more data, check locations etc)"
   ]
  },
  {
   "cell_type": "code",
   "execution_count": null,
   "metadata": {},
   "outputs": [],
   "source": []
  },
  {
   "cell_type": "markdown",
   "metadata": {},
   "source": [
    "## CONCLUSION"
   ]
  },
  {
   "cell_type": "code",
   "execution_count": 17,
   "metadata": {},
   "outputs": [],
   "source": [
    "# Brief (more explanation in the data report)\n",
    "#WHAT ARE YOUR FINDINGS FROM THE ANALYSIS & MODELING?\n",
    "#ANSWERS EVERYTHING IN YOUR OBJECTIVES"
   ]
  },
  {
   "cell_type": "code",
   "execution_count": null,
   "metadata": {},
   "outputs": [],
   "source": []
  },
  {
   "cell_type": "markdown",
   "metadata": {},
   "source": [
    "## NEXT STEPS"
   ]
  },
  {
   "cell_type": "code",
   "execution_count": 18,
   "metadata": {},
   "outputs": [],
   "source": [
    "# POINT-FORM, BRIEF (more discussion in the report)\n",
    "#DISCUSS DEPLOYMENT OF THE MODEL FOR ACCESS TO END USERS\n",
    "# COLLECT MORE DATA POINTS"
   ]
  },
  {
   "cell_type": "code",
   "execution_count": null,
   "metadata": {},
   "outputs": [],
   "source": []
  }
 ],
 "metadata": {
  "kernelspec": {
   "display_name": "Python (learn-env)",
   "language": "python",
   "name": "learn-env"
  },
  "language_info": {
   "codemirror_mode": {
    "name": "ipython",
    "version": 3
   },
   "file_extension": ".py",
   "mimetype": "text/x-python",
   "name": "python",
   "nbconvert_exporter": "python",
   "pygments_lexer": "ipython3",
   "version": "3.8.5"
  }
 },
 "nbformat": 4,
 "nbformat_minor": 4
}
